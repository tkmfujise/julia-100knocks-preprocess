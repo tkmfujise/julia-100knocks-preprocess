{
 "cells": [
  {
   "cell_type": "code",
   "execution_count": 1,
   "id": "a2e0950e",
   "metadata": {},
   "outputs": [],
   "source": [
    "using DataFramesMeta\n",
    "using StatsBase\n",
    "using CSV\n",
    "\n",
    "dir = \"/Users/fujisetakumi/_private/data_science/100knocks-preprocess/data/\"\n",
    "df_customers  = CSV.read(dir * \"customers.csv\", DataFrame)\n",
    "df_categories = CSV.read(dir * \"categories.csv\", DataFrame)\n",
    "df_products   = CSV.read(dir * \"products.csv\", DataFrame)\n",
    "df_geocodes   = CSV.read(dir * \"geocodes.csv\", DataFrame)\n",
    "df_receipts   = CSV.read(dir * \"receipts.csv\", DataFrame)\n",
    "df_stores     = CSV.read(dir * \"stores.csv\", DataFrame)\n",
    ";\n",
    "ENV[\"COLUMNS\"] = 1000\n",
    ";"
   ]
  },
  {
   "cell_type": "code",
   "execution_count": 2,
   "id": "52b18561",
   "metadata": {},
   "outputs": [
    {
     "data": {
      "text/html": [
       "<div><div style = \"float: left;\"><span>10×11 DataFrame</span></div><div style = \"clear: both;\"></div></div><div class = \"data-frame\" style = \"overflow-x: scroll;\"><table class = \"data-frame\" style = \"margin-bottom: 6px;\"><thead><tr class = \"header\"><th class = \"rowNumber\" style = \"font-weight: bold; text-align: right;\">Row</th><th style = \"text-align: left;\">customer_id</th><th style = \"text-align: left;\">customer_name</th><th style = \"text-align: left;\">gender_cd</th><th style = \"text-align: left;\">gender</th><th style = \"text-align: left;\">birth_day</th><th style = \"text-align: left;\">age</th><th style = \"text-align: left;\">postal_cd</th><th style = \"text-align: left;\">address</th><th style = \"text-align: left;\">application_store_cd</th><th style = \"text-align: left;\">application_date</th><th style = \"text-align: left;\">status_cd</th></tr><tr class = \"subheader headerLastRow\"><th class = \"rowNumber\" style = \"font-weight: bold; text-align: right;\"></th><th title = \"String15\" style = \"text-align: left;\">String15</th><th title = \"String31\" style = \"text-align: left;\">String31</th><th title = \"Int64\" style = \"text-align: left;\">Int64</th><th title = \"String7\" style = \"text-align: left;\">String7</th><th title = \"Dates.Date\" style = \"text-align: left;\">Date</th><th title = \"Int64\" style = \"text-align: left;\">Int64</th><th title = \"String15\" style = \"text-align: left;\">String15</th><th title = \"String\" style = \"text-align: left;\">String</th><th title = \"String7\" style = \"text-align: left;\">String7</th><th title = \"Int64\" style = \"text-align: left;\">Int64</th><th title = \"String15\" style = \"text-align: left;\">String15</th></tr></thead><tbody><tr><td class = \"rowNumber\" style = \"font-weight: bold; text-align: right;\">1</td><td style = \"text-align: left;\">CS021313000114</td><td style = \"text-align: left;\">大野 あや子</td><td style = \"text-align: right;\">1</td><td style = \"text-align: left;\">女性</td><td style = \"text-align: left;\">1981-04-29</td><td style = \"text-align: right;\">37</td><td style = \"text-align: left;\">259-1113</td><td style = \"text-align: left;\">神奈川県伊勢原市粟窪**********</td><td style = \"text-align: left;\">S14021</td><td style = \"text-align: right;\">20150905</td><td style = \"text-align: left;\">0-00000000-0</td></tr><tr><td class = \"rowNumber\" style = \"font-weight: bold; text-align: right;\">2</td><td style = \"text-align: left;\">CS037613000071</td><td style = \"text-align: left;\">六角 雅彦</td><td style = \"text-align: right;\">9</td><td style = \"text-align: left;\">不明</td><td style = \"text-align: left;\">1952-04-01</td><td style = \"text-align: right;\">66</td><td style = \"text-align: left;\">136-0076</td><td style = \"text-align: left;\">東京都江東区南砂**********</td><td style = \"text-align: left;\">S13037</td><td style = \"text-align: right;\">20150414</td><td style = \"text-align: left;\">0-00000000-0</td></tr><tr><td class = \"rowNumber\" style = \"font-weight: bold; text-align: right;\">3</td><td style = \"text-align: left;\">CS031415000172</td><td style = \"text-align: left;\">宇多田 貴美子</td><td style = \"text-align: right;\">1</td><td style = \"text-align: left;\">女性</td><td style = \"text-align: left;\">1976-10-04</td><td style = \"text-align: right;\">42</td><td style = \"text-align: left;\">151-0053</td><td style = \"text-align: left;\">東京都渋谷区代々木**********</td><td style = \"text-align: left;\">S13031</td><td style = \"text-align: right;\">20150529</td><td style = \"text-align: left;\">D-20100325-C</td></tr><tr><td class = \"rowNumber\" style = \"font-weight: bold; text-align: right;\">4</td><td style = \"text-align: left;\">CS028811000001</td><td style = \"text-align: left;\">堀井 かおり</td><td style = \"text-align: right;\">1</td><td style = \"text-align: left;\">女性</td><td style = \"text-align: left;\">1933-03-27</td><td style = \"text-align: right;\">86</td><td style = \"text-align: left;\">245-0016</td><td style = \"text-align: left;\">神奈川県横浜市泉区和泉町**********</td><td style = \"text-align: left;\">S14028</td><td style = \"text-align: right;\">20160115</td><td style = \"text-align: left;\">0-00000000-0</td></tr><tr><td class = \"rowNumber\" style = \"font-weight: bold; text-align: right;\">5</td><td style = \"text-align: left;\">CS001215000145</td><td style = \"text-align: left;\">田崎 美紀</td><td style = \"text-align: right;\">1</td><td style = \"text-align: left;\">女性</td><td style = \"text-align: left;\">1995-03-29</td><td style = \"text-align: right;\">24</td><td style = \"text-align: left;\">144-0055</td><td style = \"text-align: left;\">東京都大田区仲六郷**********</td><td style = \"text-align: left;\">S13001</td><td style = \"text-align: right;\">20170605</td><td style = \"text-align: left;\">6-20090929-2</td></tr><tr><td class = \"rowNumber\" style = \"font-weight: bold; text-align: right;\">6</td><td style = \"text-align: left;\">CS020401000016</td><td style = \"text-align: left;\">宮下 達士</td><td style = \"text-align: right;\">0</td><td style = \"text-align: left;\">男性</td><td style = \"text-align: left;\">1974-09-15</td><td style = \"text-align: right;\">44</td><td style = \"text-align: left;\">174-0065</td><td style = \"text-align: left;\">東京都板橋区若木**********</td><td style = \"text-align: left;\">S13020</td><td style = \"text-align: right;\">20150225</td><td style = \"text-align: left;\">0-00000000-0</td></tr><tr><td class = \"rowNumber\" style = \"font-weight: bold; text-align: right;\">7</td><td style = \"text-align: left;\">CS015414000103</td><td style = \"text-align: left;\">奥野 陽子</td><td style = \"text-align: right;\">1</td><td style = \"text-align: left;\">女性</td><td style = \"text-align: left;\">1977-08-09</td><td style = \"text-align: right;\">41</td><td style = \"text-align: left;\">136-0073</td><td style = \"text-align: left;\">東京都江東区北砂**********</td><td style = \"text-align: left;\">S13015</td><td style = \"text-align: right;\">20150722</td><td style = \"text-align: left;\">B-20100609-B</td></tr><tr><td class = \"rowNumber\" style = \"font-weight: bold; text-align: right;\">8</td><td style = \"text-align: left;\">CS029403000008</td><td style = \"text-align: left;\">釈 人志</td><td style = \"text-align: right;\">0</td><td style = \"text-align: left;\">男性</td><td style = \"text-align: left;\">1973-08-17</td><td style = \"text-align: right;\">45</td><td style = \"text-align: left;\">279-0003</td><td style = \"text-align: left;\">千葉県浦安市海楽**********</td><td style = \"text-align: left;\">S12029</td><td style = \"text-align: right;\">20150515</td><td style = \"text-align: left;\">0-00000000-0</td></tr><tr><td class = \"rowNumber\" style = \"font-weight: bold; text-align: right;\">9</td><td style = \"text-align: left;\">CS015804000004</td><td style = \"text-align: left;\">松谷 米蔵</td><td style = \"text-align: right;\">0</td><td style = \"text-align: left;\">男性</td><td style = \"text-align: left;\">1931-05-02</td><td style = \"text-align: right;\">87</td><td style = \"text-align: left;\">136-0073</td><td style = \"text-align: left;\">東京都江東区北砂**********</td><td style = \"text-align: left;\">S13015</td><td style = \"text-align: right;\">20150607</td><td style = \"text-align: left;\">0-00000000-0</td></tr><tr><td class = \"rowNumber\" style = \"font-weight: bold; text-align: right;\">10</td><td style = \"text-align: left;\">CS033513000180</td><td style = \"text-align: left;\">安斎 遥</td><td style = \"text-align: right;\">1</td><td style = \"text-align: left;\">女性</td><td style = \"text-align: left;\">1962-07-11</td><td style = \"text-align: right;\">56</td><td style = \"text-align: left;\">241-0823</td><td style = \"text-align: left;\">神奈川県横浜市旭区善部町**********</td><td style = \"text-align: left;\">S14033</td><td style = \"text-align: right;\">20150728</td><td style = \"text-align: left;\">6-20080506-5</td></tr></tbody></table></div>"
      ],
      "text/latex": [
       "\\begin{tabular}{r|ccccccccccc}\n",
       "\t& customer\\_id & customer\\_name & gender\\_cd & gender & birth\\_day & age & postal\\_cd & address & application\\_store\\_cd & application\\_date & status\\_cd\\\\\n",
       "\t\\hline\n",
       "\t& String15 & String31 & Int64 & String7 & Date & Int64 & String15 & String & String7 & Int64 & String15\\\\\n",
       "\t\\hline\n",
       "\t1 & CS021313000114 & 大野 あや子 & 1 & 女性 & 1981-04-29 & 37 & 259-1113 & 神奈川県伊勢原市粟窪********** & S14021 & 20150905 & 0-00000000-0 \\\\\n",
       "\t2 & CS037613000071 & 六角 雅彦 & 9 & 不明 & 1952-04-01 & 66 & 136-0076 & 東京都江東区南砂********** & S13037 & 20150414 & 0-00000000-0 \\\\\n",
       "\t3 & CS031415000172 & 宇多田 貴美子 & 1 & 女性 & 1976-10-04 & 42 & 151-0053 & 東京都渋谷区代々木********** & S13031 & 20150529 & D-20100325-C \\\\\n",
       "\t4 & CS028811000001 & 堀井 かおり & 1 & 女性 & 1933-03-27 & 86 & 245-0016 & 神奈川県横浜市泉区和泉町********** & S14028 & 20160115 & 0-00000000-0 \\\\\n",
       "\t5 & CS001215000145 & 田崎 美紀 & 1 & 女性 & 1995-03-29 & 24 & 144-0055 & 東京都大田区仲六郷********** & S13001 & 20170605 & 6-20090929-2 \\\\\n",
       "\t6 & CS020401000016 & 宮下 達士 & 0 & 男性 & 1974-09-15 & 44 & 174-0065 & 東京都板橋区若木********** & S13020 & 20150225 & 0-00000000-0 \\\\\n",
       "\t7 & CS015414000103 & 奥野 陽子 & 1 & 女性 & 1977-08-09 & 41 & 136-0073 & 東京都江東区北砂********** & S13015 & 20150722 & B-20100609-B \\\\\n",
       "\t8 & CS029403000008 & 釈 人志 & 0 & 男性 & 1973-08-17 & 45 & 279-0003 & 千葉県浦安市海楽********** & S12029 & 20150515 & 0-00000000-0 \\\\\n",
       "\t9 & CS015804000004 & 松谷 米蔵 & 0 & 男性 & 1931-05-02 & 87 & 136-0073 & 東京都江東区北砂********** & S13015 & 20150607 & 0-00000000-0 \\\\\n",
       "\t10 & CS033513000180 & 安斎 遥 & 1 & 女性 & 1962-07-11 & 56 & 241-0823 & 神奈川県横浜市旭区善部町********** & S14033 & 20150728 & 6-20080506-5 \\\\\n",
       "\\end{tabular}\n"
      ],
      "text/plain": [
       "\u001b[1m10×11 DataFrame\u001b[0m\n",
       "\u001b[1m Row \u001b[0m│\u001b[1m customer_id    \u001b[0m\u001b[1m customer_name \u001b[0m\u001b[1m gender_cd \u001b[0m\u001b[1m gender  \u001b[0m\u001b[1m birth_day  \u001b[0m\u001b[1m age   \u001b[0m\u001b[1m postal_cd \u001b[0m\u001b[1m address                           \u001b[0m\u001b[1m application_store_cd \u001b[0m\u001b[1m application_date \u001b[0m\u001b[1m status_cd    \u001b[0m\n",
       "     │\u001b[90m String15       \u001b[0m\u001b[90m String31      \u001b[0m\u001b[90m Int64     \u001b[0m\u001b[90m String7 \u001b[0m\u001b[90m Date       \u001b[0m\u001b[90m Int64 \u001b[0m\u001b[90m String15  \u001b[0m\u001b[90m String                            \u001b[0m\u001b[90m String7              \u001b[0m\u001b[90m Int64            \u001b[0m\u001b[90m String15     \u001b[0m\n",
       "─────┼──────────────────────────────────────────────────────────────────────────────────────────────────────────────────────────────────────────────────────────────────────────\n",
       "   1 │ CS021313000114  大野 あや子            1  女性     1981-04-29     37  259-1113   神奈川県伊勢原市粟窪**********     S14021                        20150905  0-00000000-0\n",
       "   2 │ CS037613000071  六角 雅彦              9  不明     1952-04-01     66  136-0076   東京都江東区南砂**********         S13037                        20150414  0-00000000-0\n",
       "   3 │ CS031415000172  宇多田 貴美子          1  女性     1976-10-04     42  151-0053   東京都渋谷区代々木**********       S13031                        20150529  D-20100325-C\n",
       "   4 │ CS028811000001  堀井 かおり            1  女性     1933-03-27     86  245-0016   神奈川県横浜市泉区和泉町********…  S14028                        20160115  0-00000000-0\n",
       "   5 │ CS001215000145  田崎 美紀              1  女性     1995-03-29     24  144-0055   東京都大田区仲六郷**********       S13001                        20170605  6-20090929-2\n",
       "   6 │ CS020401000016  宮下 達士              0  男性     1974-09-15     44  174-0065   東京都板橋区若木**********         S13020                        20150225  0-00000000-0\n",
       "   7 │ CS015414000103  奥野 陽子              1  女性     1977-08-09     41  136-0073   東京都江東区北砂**********         S13015                        20150722  B-20100609-B\n",
       "   8 │ CS029403000008  釈 人志                0  男性     1973-08-17     45  279-0003   千葉県浦安市海楽**********         S12029                        20150515  0-00000000-0\n",
       "   9 │ CS015804000004  松谷 米蔵              0  男性     1931-05-02     87  136-0073   東京都江東区北砂**********         S13015                        20150607  0-00000000-0\n",
       "  10 │ CS033513000180  安斎 遥                1  女性     1962-07-11     56  241-0823   神奈川県横浜市旭区善部町********…  S14033                        20150728  6-20080506-5"
      ]
     },
     "execution_count": 2,
     "metadata": {},
     "output_type": "execute_result"
    }
   ],
   "source": [
    "# P-001\n",
    "# @linq df_customers |> first(10)\n",
    "# first(df_customers, 10)\n",
    "@chain df_customers begin\n",
    "    first(10)\n",
    "end"
   ]
  },
  {
   "cell_type": "code",
   "execution_count": 3,
   "id": "a5086bc2",
   "metadata": {},
   "outputs": [
    {
     "data": {
      "text/html": [
       "<div><div style = \"float: left;\"><span>10×4 DataFrame</span></div><div style = \"clear: both;\"></div></div><div class = \"data-frame\" style = \"overflow-x: scroll;\"><table class = \"data-frame\" style = \"margin-bottom: 6px;\"><thead><tr class = \"header\"><th class = \"rowNumber\" style = \"font-weight: bold; text-align: right;\">Row</th><th style = \"text-align: left;\">sales_ymd</th><th style = \"text-align: left;\">customer_id</th><th style = \"text-align: left;\">product_cd</th><th style = \"text-align: left;\">amount</th></tr><tr class = \"subheader headerLastRow\"><th class = \"rowNumber\" style = \"font-weight: bold; text-align: right;\"></th><th title = \"Int64\" style = \"text-align: left;\">Int64</th><th title = \"String15\" style = \"text-align: left;\">String15</th><th title = \"String15\" style = \"text-align: left;\">String15</th><th title = \"Int64\" style = \"text-align: left;\">Int64</th></tr></thead><tbody><tr><td class = \"rowNumber\" style = \"font-weight: bold; text-align: right;\">1</td><td style = \"text-align: right;\">20181103</td><td style = \"text-align: left;\">CS006214000001</td><td style = \"text-align: left;\">P070305012</td><td style = \"text-align: right;\">158</td></tr><tr><td class = \"rowNumber\" style = \"font-weight: bold; text-align: right;\">2</td><td style = \"text-align: right;\">20181118</td><td style = \"text-align: left;\">CS008415000097</td><td style = \"text-align: left;\">P070701017</td><td style = \"text-align: right;\">81</td></tr><tr><td class = \"rowNumber\" style = \"font-weight: bold; text-align: right;\">3</td><td style = \"text-align: right;\">20170712</td><td style = \"text-align: left;\">CS028414000014</td><td style = \"text-align: left;\">P060101005</td><td style = \"text-align: right;\">170</td></tr><tr><td class = \"rowNumber\" style = \"font-weight: bold; text-align: right;\">4</td><td style = \"text-align: right;\">20190205</td><td style = \"text-align: left;\">ZZ000000000000</td><td style = \"text-align: left;\">P050301001</td><td style = \"text-align: right;\">25</td></tr><tr><td class = \"rowNumber\" style = \"font-weight: bold; text-align: right;\">5</td><td style = \"text-align: right;\">20180821</td><td style = \"text-align: left;\">CS025415000050</td><td style = \"text-align: left;\">P060102007</td><td style = \"text-align: right;\">90</td></tr><tr><td class = \"rowNumber\" style = \"font-weight: bold; text-align: right;\">6</td><td style = \"text-align: right;\">20190605</td><td style = \"text-align: left;\">CS003515000195</td><td style = \"text-align: left;\">P050102002</td><td style = \"text-align: right;\">138</td></tr><tr><td class = \"rowNumber\" style = \"font-weight: bold; text-align: right;\">7</td><td style = \"text-align: right;\">20181205</td><td style = \"text-align: left;\">CS024514000042</td><td style = \"text-align: left;\">P080101005</td><td style = \"text-align: right;\">30</td></tr><tr><td class = \"rowNumber\" style = \"font-weight: bold; text-align: right;\">8</td><td style = \"text-align: right;\">20190922</td><td style = \"text-align: left;\">CS040415000178</td><td style = \"text-align: left;\">P070501004</td><td style = \"text-align: right;\">128</td></tr><tr><td class = \"rowNumber\" style = \"font-weight: bold; text-align: right;\">9</td><td style = \"text-align: right;\">20170504</td><td style = \"text-align: left;\">ZZ000000000000</td><td style = \"text-align: left;\">P071302010</td><td style = \"text-align: right;\">770</td></tr><tr><td class = \"rowNumber\" style = \"font-weight: bold; text-align: right;\">10</td><td style = \"text-align: right;\">20191010</td><td style = \"text-align: left;\">CS027514000015</td><td style = \"text-align: left;\">P071101003</td><td style = \"text-align: right;\">680</td></tr></tbody></table></div>"
      ],
      "text/latex": [
       "\\begin{tabular}{r|cccc}\n",
       "\t& sales\\_ymd & customer\\_id & product\\_cd & amount\\\\\n",
       "\t\\hline\n",
       "\t& Int64 & String15 & String15 & Int64\\\\\n",
       "\t\\hline\n",
       "\t1 & 20181103 & CS006214000001 & P070305012 & 158 \\\\\n",
       "\t2 & 20181118 & CS008415000097 & P070701017 & 81 \\\\\n",
       "\t3 & 20170712 & CS028414000014 & P060101005 & 170 \\\\\n",
       "\t4 & 20190205 & ZZ000000000000 & P050301001 & 25 \\\\\n",
       "\t5 & 20180821 & CS025415000050 & P060102007 & 90 \\\\\n",
       "\t6 & 20190605 & CS003515000195 & P050102002 & 138 \\\\\n",
       "\t7 & 20181205 & CS024514000042 & P080101005 & 30 \\\\\n",
       "\t8 & 20190922 & CS040415000178 & P070501004 & 128 \\\\\n",
       "\t9 & 20170504 & ZZ000000000000 & P071302010 & 770 \\\\\n",
       "\t10 & 20191010 & CS027514000015 & P071101003 & 680 \\\\\n",
       "\\end{tabular}\n"
      ],
      "text/plain": [
       "\u001b[1m10×4 DataFrame\u001b[0m\n",
       "\u001b[1m Row \u001b[0m│\u001b[1m sales_ymd \u001b[0m\u001b[1m customer_id    \u001b[0m\u001b[1m product_cd \u001b[0m\u001b[1m amount \u001b[0m\n",
       "     │\u001b[90m Int64     \u001b[0m\u001b[90m String15       \u001b[0m\u001b[90m String15   \u001b[0m\u001b[90m Int64  \u001b[0m\n",
       "─────┼───────────────────────────────────────────────\n",
       "   1 │  20181103  CS006214000001  P070305012     158\n",
       "   2 │  20181118  CS008415000097  P070701017      81\n",
       "   3 │  20170712  CS028414000014  P060101005     170\n",
       "   4 │  20190205  ZZ000000000000  P050301001      25\n",
       "   5 │  20180821  CS025415000050  P060102007      90\n",
       "   6 │  20190605  CS003515000195  P050102002     138\n",
       "   7 │  20181205  CS024514000042  P080101005      30\n",
       "   8 │  20190922  CS040415000178  P070501004     128\n",
       "   9 │  20170504  ZZ000000000000  P071302010     770\n",
       "  10 │  20191010  CS027514000015  P071101003     680"
      ]
     },
     "execution_count": 3,
     "metadata": {},
     "output_type": "execute_result"
    }
   ],
   "source": [
    "# P-002\n",
    "@chain df_receipts begin\n",
    "    @select(:sales_ymd, :customer_id, :product_cd, :amount)\n",
    "    first(10)\n",
    "end"
   ]
  },
  {
   "cell_type": "code",
   "execution_count": 4,
   "id": "368e20a9",
   "metadata": {},
   "outputs": [
    {
     "data": {
      "text/html": [
       "<div><div style = \"float: left;\"><span>10×4 DataFrame</span></div><div style = \"clear: both;\"></div></div><div class = \"data-frame\" style = \"overflow-x: scroll;\"><table class = \"data-frame\" style = \"margin-bottom: 6px;\"><thead><tr class = \"header\"><th class = \"rowNumber\" style = \"font-weight: bold; text-align: right;\">Row</th><th style = \"text-align: left;\">sales_date</th><th style = \"text-align: left;\">customer_id</th><th style = \"text-align: left;\">product_cd</th><th style = \"text-align: left;\">amount</th></tr><tr class = \"subheader headerLastRow\"><th class = \"rowNumber\" style = \"font-weight: bold; text-align: right;\"></th><th title = \"Int64\" style = \"text-align: left;\">Int64</th><th title = \"String15\" style = \"text-align: left;\">String15</th><th title = \"String15\" style = \"text-align: left;\">String15</th><th title = \"Int64\" style = \"text-align: left;\">Int64</th></tr></thead><tbody><tr><td class = \"rowNumber\" style = \"font-weight: bold; text-align: right;\">1</td><td style = \"text-align: right;\">20181103</td><td style = \"text-align: left;\">CS006214000001</td><td style = \"text-align: left;\">P070305012</td><td style = \"text-align: right;\">158</td></tr><tr><td class = \"rowNumber\" style = \"font-weight: bold; text-align: right;\">2</td><td style = \"text-align: right;\">20181118</td><td style = \"text-align: left;\">CS008415000097</td><td style = \"text-align: left;\">P070701017</td><td style = \"text-align: right;\">81</td></tr><tr><td class = \"rowNumber\" style = \"font-weight: bold; text-align: right;\">3</td><td style = \"text-align: right;\">20170712</td><td style = \"text-align: left;\">CS028414000014</td><td style = \"text-align: left;\">P060101005</td><td style = \"text-align: right;\">170</td></tr><tr><td class = \"rowNumber\" style = \"font-weight: bold; text-align: right;\">4</td><td style = \"text-align: right;\">20190205</td><td style = \"text-align: left;\">ZZ000000000000</td><td style = \"text-align: left;\">P050301001</td><td style = \"text-align: right;\">25</td></tr><tr><td class = \"rowNumber\" style = \"font-weight: bold; text-align: right;\">5</td><td style = \"text-align: right;\">20180821</td><td style = \"text-align: left;\">CS025415000050</td><td style = \"text-align: left;\">P060102007</td><td style = \"text-align: right;\">90</td></tr><tr><td class = \"rowNumber\" style = \"font-weight: bold; text-align: right;\">6</td><td style = \"text-align: right;\">20190605</td><td style = \"text-align: left;\">CS003515000195</td><td style = \"text-align: left;\">P050102002</td><td style = \"text-align: right;\">138</td></tr><tr><td class = \"rowNumber\" style = \"font-weight: bold; text-align: right;\">7</td><td style = \"text-align: right;\">20181205</td><td style = \"text-align: left;\">CS024514000042</td><td style = \"text-align: left;\">P080101005</td><td style = \"text-align: right;\">30</td></tr><tr><td class = \"rowNumber\" style = \"font-weight: bold; text-align: right;\">8</td><td style = \"text-align: right;\">20190922</td><td style = \"text-align: left;\">CS040415000178</td><td style = \"text-align: left;\">P070501004</td><td style = \"text-align: right;\">128</td></tr><tr><td class = \"rowNumber\" style = \"font-weight: bold; text-align: right;\">9</td><td style = \"text-align: right;\">20170504</td><td style = \"text-align: left;\">ZZ000000000000</td><td style = \"text-align: left;\">P071302010</td><td style = \"text-align: right;\">770</td></tr><tr><td class = \"rowNumber\" style = \"font-weight: bold; text-align: right;\">10</td><td style = \"text-align: right;\">20191010</td><td style = \"text-align: left;\">CS027514000015</td><td style = \"text-align: left;\">P071101003</td><td style = \"text-align: right;\">680</td></tr></tbody></table></div>"
      ],
      "text/latex": [
       "\\begin{tabular}{r|cccc}\n",
       "\t& sales\\_date & customer\\_id & product\\_cd & amount\\\\\n",
       "\t\\hline\n",
       "\t& Int64 & String15 & String15 & Int64\\\\\n",
       "\t\\hline\n",
       "\t1 & 20181103 & CS006214000001 & P070305012 & 158 \\\\\n",
       "\t2 & 20181118 & CS008415000097 & P070701017 & 81 \\\\\n",
       "\t3 & 20170712 & CS028414000014 & P060101005 & 170 \\\\\n",
       "\t4 & 20190205 & ZZ000000000000 & P050301001 & 25 \\\\\n",
       "\t5 & 20180821 & CS025415000050 & P060102007 & 90 \\\\\n",
       "\t6 & 20190605 & CS003515000195 & P050102002 & 138 \\\\\n",
       "\t7 & 20181205 & CS024514000042 & P080101005 & 30 \\\\\n",
       "\t8 & 20190922 & CS040415000178 & P070501004 & 128 \\\\\n",
       "\t9 & 20170504 & ZZ000000000000 & P071302010 & 770 \\\\\n",
       "\t10 & 20191010 & CS027514000015 & P071101003 & 680 \\\\\n",
       "\\end{tabular}\n"
      ],
      "text/plain": [
       "\u001b[1m10×4 DataFrame\u001b[0m\n",
       "\u001b[1m Row \u001b[0m│\u001b[1m sales_date \u001b[0m\u001b[1m customer_id    \u001b[0m\u001b[1m product_cd \u001b[0m\u001b[1m amount \u001b[0m\n",
       "     │\u001b[90m Int64      \u001b[0m\u001b[90m String15       \u001b[0m\u001b[90m String15   \u001b[0m\u001b[90m Int64  \u001b[0m\n",
       "─────┼────────────────────────────────────────────────\n",
       "   1 │   20181103  CS006214000001  P070305012     158\n",
       "   2 │   20181118  CS008415000097  P070701017      81\n",
       "   3 │   20170712  CS028414000014  P060101005     170\n",
       "   4 │   20190205  ZZ000000000000  P050301001      25\n",
       "   5 │   20180821  CS025415000050  P060102007      90\n",
       "   6 │   20190605  CS003515000195  P050102002     138\n",
       "   7 │   20181205  CS024514000042  P080101005      30\n",
       "   8 │   20190922  CS040415000178  P070501004     128\n",
       "   9 │   20170504  ZZ000000000000  P071302010     770\n",
       "  10 │   20191010  CS027514000015  P071101003     680"
      ]
     },
     "execution_count": 4,
     "metadata": {},
     "output_type": "execute_result"
    }
   ],
   "source": [
    "# P-003\n",
    "@chain df_receipts begin\n",
    "    @select(\n",
    "        :sales_date = :sales_ymd,\n",
    "        :customer_id,\n",
    "        :product_cd,\n",
    "        :amount\n",
    "    )\n",
    "    first(10)\n",
    "end"
   ]
  },
  {
   "cell_type": "code",
   "execution_count": 5,
   "id": "c87b3f7a",
   "metadata": {},
   "outputs": [
    {
     "data": {
      "text/html": [
       "<div><div style = \"float: left;\"><span>12×4 DataFrame</span></div><div style = \"clear: both;\"></div></div><div class = \"data-frame\" style = \"overflow-x: scroll;\"><table class = \"data-frame\" style = \"margin-bottom: 6px;\"><thead><tr class = \"header\"><th class = \"rowNumber\" style = \"font-weight: bold; text-align: right;\">Row</th><th style = \"text-align: left;\">sales_ymd</th><th style = \"text-align: left;\">customer_id</th><th style = \"text-align: left;\">product_cd</th><th style = \"text-align: left;\">amount</th></tr><tr class = \"subheader headerLastRow\"><th class = \"rowNumber\" style = \"font-weight: bold; text-align: right;\"></th><th title = \"Int64\" style = \"text-align: left;\">Int64</th><th title = \"String15\" style = \"text-align: left;\">String15</th><th title = \"String15\" style = \"text-align: left;\">String15</th><th title = \"Int64\" style = \"text-align: left;\">Int64</th></tr></thead><tbody><tr><td class = \"rowNumber\" style = \"font-weight: bold; text-align: right;\">1</td><td style = \"text-align: right;\">20180911</td><td style = \"text-align: left;\">CS018205000001</td><td style = \"text-align: left;\">P071401012</td><td style = \"text-align: right;\">2200</td></tr><tr><td class = \"rowNumber\" style = \"font-weight: bold; text-align: right;\">2</td><td style = \"text-align: right;\">20180414</td><td style = \"text-align: left;\">CS018205000001</td><td style = \"text-align: left;\">P060104007</td><td style = \"text-align: right;\">600</td></tr><tr><td class = \"rowNumber\" style = \"font-weight: bold; text-align: right;\">3</td><td style = \"text-align: right;\">20170614</td><td style = \"text-align: left;\">CS018205000001</td><td style = \"text-align: left;\">P050206001</td><td style = \"text-align: right;\">990</td></tr><tr><td class = \"rowNumber\" style = \"font-weight: bold; text-align: right;\">4</td><td style = \"text-align: right;\">20170614</td><td style = \"text-align: left;\">CS018205000001</td><td style = \"text-align: left;\">P060702015</td><td style = \"text-align: right;\">108</td></tr><tr><td class = \"rowNumber\" style = \"font-weight: bold; text-align: right;\">5</td><td style = \"text-align: right;\">20190216</td><td style = \"text-align: left;\">CS018205000001</td><td style = \"text-align: left;\">P071005024</td><td style = \"text-align: right;\">102</td></tr><tr><td class = \"rowNumber\" style = \"font-weight: bold; text-align: right;\">6</td><td style = \"text-align: right;\">20180414</td><td style = \"text-align: left;\">CS018205000001</td><td style = \"text-align: left;\">P071101002</td><td style = \"text-align: right;\">278</td></tr><tr><td class = \"rowNumber\" style = \"font-weight: bold; text-align: right;\">7</td><td style = \"text-align: right;\">20190226</td><td style = \"text-align: left;\">CS018205000001</td><td style = \"text-align: left;\">P070902035</td><td style = \"text-align: right;\">168</td></tr><tr><td class = \"rowNumber\" style = \"font-weight: bold; text-align: right;\">8</td><td style = \"text-align: right;\">20190924</td><td style = \"text-align: left;\">CS018205000001</td><td style = \"text-align: left;\">P060805001</td><td style = \"text-align: right;\">495</td></tr><tr><td class = \"rowNumber\" style = \"font-weight: bold; text-align: right;\">9</td><td style = \"text-align: right;\">20190226</td><td style = \"text-align: left;\">CS018205000001</td><td style = \"text-align: left;\">P071401020</td><td style = \"text-align: right;\">2200</td></tr><tr><td class = \"rowNumber\" style = \"font-weight: bold; text-align: right;\">10</td><td style = \"text-align: right;\">20180911</td><td style = \"text-align: left;\">CS018205000001</td><td style = \"text-align: left;\">P071401005</td><td style = \"text-align: right;\">1100</td></tr><tr><td class = \"rowNumber\" style = \"font-weight: bold; text-align: right;\">11</td><td style = \"text-align: right;\">20190216</td><td style = \"text-align: left;\">CS018205000001</td><td style = \"text-align: left;\">P040101002</td><td style = \"text-align: right;\">218</td></tr><tr><td class = \"rowNumber\" style = \"font-weight: bold; text-align: right;\">12</td><td style = \"text-align: right;\">20190924</td><td style = \"text-align: left;\">CS018205000001</td><td style = \"text-align: left;\">P091503001</td><td style = \"text-align: right;\">280</td></tr></tbody></table></div>"
      ],
      "text/latex": [
       "\\begin{tabular}{r|cccc}\n",
       "\t& sales\\_ymd & customer\\_id & product\\_cd & amount\\\\\n",
       "\t\\hline\n",
       "\t& Int64 & String15 & String15 & Int64\\\\\n",
       "\t\\hline\n",
       "\t1 & 20180911 & CS018205000001 & P071401012 & 2200 \\\\\n",
       "\t2 & 20180414 & CS018205000001 & P060104007 & 600 \\\\\n",
       "\t3 & 20170614 & CS018205000001 & P050206001 & 990 \\\\\n",
       "\t4 & 20170614 & CS018205000001 & P060702015 & 108 \\\\\n",
       "\t5 & 20190216 & CS018205000001 & P071005024 & 102 \\\\\n",
       "\t6 & 20180414 & CS018205000001 & P071101002 & 278 \\\\\n",
       "\t7 & 20190226 & CS018205000001 & P070902035 & 168 \\\\\n",
       "\t8 & 20190924 & CS018205000001 & P060805001 & 495 \\\\\n",
       "\t9 & 20190226 & CS018205000001 & P071401020 & 2200 \\\\\n",
       "\t10 & 20180911 & CS018205000001 & P071401005 & 1100 \\\\\n",
       "\t11 & 20190216 & CS018205000001 & P040101002 & 218 \\\\\n",
       "\t12 & 20190924 & CS018205000001 & P091503001 & 280 \\\\\n",
       "\\end{tabular}\n"
      ],
      "text/plain": [
       "\u001b[1m12×4 DataFrame\u001b[0m\n",
       "\u001b[1m Row \u001b[0m│\u001b[1m sales_ymd \u001b[0m\u001b[1m customer_id    \u001b[0m\u001b[1m product_cd \u001b[0m\u001b[1m amount \u001b[0m\n",
       "     │\u001b[90m Int64     \u001b[0m\u001b[90m String15       \u001b[0m\u001b[90m String15   \u001b[0m\u001b[90m Int64  \u001b[0m\n",
       "─────┼───────────────────────────────────────────────\n",
       "   1 │  20180911  CS018205000001  P071401012    2200\n",
       "   2 │  20180414  CS018205000001  P060104007     600\n",
       "   3 │  20170614  CS018205000001  P050206001     990\n",
       "   4 │  20170614  CS018205000001  P060702015     108\n",
       "   5 │  20190216  CS018205000001  P071005024     102\n",
       "   6 │  20180414  CS018205000001  P071101002     278\n",
       "   7 │  20190226  CS018205000001  P070902035     168\n",
       "   8 │  20190924  CS018205000001  P060805001     495\n",
       "   9 │  20190226  CS018205000001  P071401020    2200\n",
       "  10 │  20180911  CS018205000001  P071401005    1100\n",
       "  11 │  20190216  CS018205000001  P040101002     218\n",
       "  12 │  20190924  CS018205000001  P091503001     280"
      ]
     },
     "execution_count": 5,
     "metadata": {},
     "output_type": "execute_result"
    }
   ],
   "source": [
    "# P-004\n",
    "@chain df_receipts begin\n",
    "    @select(:sales_ymd, :customer_id, :product_cd, :amount)\n",
    "    @subset(:customer_id .== \"CS018205000001\")\n",
    "end"
   ]
  },
  {
   "cell_type": "code",
   "execution_count": 6,
   "id": "ab389acd",
   "metadata": {},
   "outputs": [
    {
     "data": {
      "text/html": [
       "<div><div style = \"float: left;\"><span>3×4 DataFrame</span></div><div style = \"clear: both;\"></div></div><div class = \"data-frame\" style = \"overflow-x: scroll;\"><table class = \"data-frame\" style = \"margin-bottom: 6px;\"><thead><tr class = \"header\"><th class = \"rowNumber\" style = \"font-weight: bold; text-align: right;\">Row</th><th style = \"text-align: left;\">sales_ymd</th><th style = \"text-align: left;\">customer_id</th><th style = \"text-align: left;\">product_cd</th><th style = \"text-align: left;\">amount</th></tr><tr class = \"subheader headerLastRow\"><th class = \"rowNumber\" style = \"font-weight: bold; text-align: right;\"></th><th title = \"Int64\" style = \"text-align: left;\">Int64</th><th title = \"String15\" style = \"text-align: left;\">String15</th><th title = \"String15\" style = \"text-align: left;\">String15</th><th title = \"Int64\" style = \"text-align: left;\">Int64</th></tr></thead><tbody><tr><td class = \"rowNumber\" style = \"font-weight: bold; text-align: right;\">1</td><td style = \"text-align: right;\">20180911</td><td style = \"text-align: left;\">CS018205000001</td><td style = \"text-align: left;\">P071401012</td><td style = \"text-align: right;\">2200</td></tr><tr><td class = \"rowNumber\" style = \"font-weight: bold; text-align: right;\">2</td><td style = \"text-align: right;\">20190226</td><td style = \"text-align: left;\">CS018205000001</td><td style = \"text-align: left;\">P071401020</td><td style = \"text-align: right;\">2200</td></tr><tr><td class = \"rowNumber\" style = \"font-weight: bold; text-align: right;\">3</td><td style = \"text-align: right;\">20180911</td><td style = \"text-align: left;\">CS018205000001</td><td style = \"text-align: left;\">P071401005</td><td style = \"text-align: right;\">1100</td></tr></tbody></table></div>"
      ],
      "text/latex": [
       "\\begin{tabular}{r|cccc}\n",
       "\t& sales\\_ymd & customer\\_id & product\\_cd & amount\\\\\n",
       "\t\\hline\n",
       "\t& Int64 & String15 & String15 & Int64\\\\\n",
       "\t\\hline\n",
       "\t1 & 20180911 & CS018205000001 & P071401012 & 2200 \\\\\n",
       "\t2 & 20190226 & CS018205000001 & P071401020 & 2200 \\\\\n",
       "\t3 & 20180911 & CS018205000001 & P071401005 & 1100 \\\\\n",
       "\\end{tabular}\n"
      ],
      "text/plain": [
       "\u001b[1m3×4 DataFrame\u001b[0m\n",
       "\u001b[1m Row \u001b[0m│\u001b[1m sales_ymd \u001b[0m\u001b[1m customer_id    \u001b[0m\u001b[1m product_cd \u001b[0m\u001b[1m amount \u001b[0m\n",
       "     │\u001b[90m Int64     \u001b[0m\u001b[90m String15       \u001b[0m\u001b[90m String15   \u001b[0m\u001b[90m Int64  \u001b[0m\n",
       "─────┼───────────────────────────────────────────────\n",
       "   1 │  20180911  CS018205000001  P071401012    2200\n",
       "   2 │  20190226  CS018205000001  P071401020    2200\n",
       "   3 │  20180911  CS018205000001  P071401005    1100"
      ]
     },
     "execution_count": 6,
     "metadata": {},
     "output_type": "execute_result"
    }
   ],
   "source": [
    "# P-005\n",
    "@chain df_receipts begin\n",
    "    @select(:sales_ymd, :customer_id, :product_cd, :amount)\n",
    "    @subset(:customer_id .== \"CS018205000001\")\n",
    "    @subset(:amount .>= 1000)\n",
    "end"
   ]
  },
  {
   "cell_type": "code",
   "execution_count": 7,
   "id": "78e30395",
   "metadata": {},
   "outputs": [
    {
     "data": {
      "text/html": [
       "<div><div style = \"float: left;\"><span>5×5 DataFrame</span></div><div style = \"clear: both;\"></div></div><div class = \"data-frame\" style = \"overflow-x: scroll;\"><table class = \"data-frame\" style = \"margin-bottom: 6px;\"><thead><tr class = \"header\"><th class = \"rowNumber\" style = \"font-weight: bold; text-align: right;\">Row</th><th style = \"text-align: left;\">sales_ymd</th><th style = \"text-align: left;\">customer_id</th><th style = \"text-align: left;\">product_cd</th><th style = \"text-align: left;\">quantity</th><th style = \"text-align: left;\">amount</th></tr><tr class = \"subheader headerLastRow\"><th class = \"rowNumber\" style = \"font-weight: bold; text-align: right;\"></th><th title = \"Int64\" style = \"text-align: left;\">Int64</th><th title = \"String15\" style = \"text-align: left;\">String15</th><th title = \"String15\" style = \"text-align: left;\">String15</th><th title = \"Int64\" style = \"text-align: left;\">Int64</th><th title = \"Int64\" style = \"text-align: left;\">Int64</th></tr></thead><tbody><tr><td class = \"rowNumber\" style = \"font-weight: bold; text-align: right;\">1</td><td style = \"text-align: right;\">20180911</td><td style = \"text-align: left;\">CS018205000001</td><td style = \"text-align: left;\">P071401012</td><td style = \"text-align: right;\">1</td><td style = \"text-align: right;\">2200</td></tr><tr><td class = \"rowNumber\" style = \"font-weight: bold; text-align: right;\">2</td><td style = \"text-align: right;\">20180414</td><td style = \"text-align: left;\">CS018205000001</td><td style = \"text-align: left;\">P060104007</td><td style = \"text-align: right;\">6</td><td style = \"text-align: right;\">600</td></tr><tr><td class = \"rowNumber\" style = \"font-weight: bold; text-align: right;\">3</td><td style = \"text-align: right;\">20170614</td><td style = \"text-align: left;\">CS018205000001</td><td style = \"text-align: left;\">P050206001</td><td style = \"text-align: right;\">5</td><td style = \"text-align: right;\">990</td></tr><tr><td class = \"rowNumber\" style = \"font-weight: bold; text-align: right;\">4</td><td style = \"text-align: right;\">20190226</td><td style = \"text-align: left;\">CS018205000001</td><td style = \"text-align: left;\">P071401020</td><td style = \"text-align: right;\">1</td><td style = \"text-align: right;\">2200</td></tr><tr><td class = \"rowNumber\" style = \"font-weight: bold; text-align: right;\">5</td><td style = \"text-align: right;\">20180911</td><td style = \"text-align: left;\">CS018205000001</td><td style = \"text-align: left;\">P071401005</td><td style = \"text-align: right;\">1</td><td style = \"text-align: right;\">1100</td></tr></tbody></table></div>"
      ],
      "text/latex": [
       "\\begin{tabular}{r|ccccc}\n",
       "\t& sales\\_ymd & customer\\_id & product\\_cd & quantity & amount\\\\\n",
       "\t\\hline\n",
       "\t& Int64 & String15 & String15 & Int64 & Int64\\\\\n",
       "\t\\hline\n",
       "\t1 & 20180911 & CS018205000001 & P071401012 & 1 & 2200 \\\\\n",
       "\t2 & 20180414 & CS018205000001 & P060104007 & 6 & 600 \\\\\n",
       "\t3 & 20170614 & CS018205000001 & P050206001 & 5 & 990 \\\\\n",
       "\t4 & 20190226 & CS018205000001 & P071401020 & 1 & 2200 \\\\\n",
       "\t5 & 20180911 & CS018205000001 & P071401005 & 1 & 1100 \\\\\n",
       "\\end{tabular}\n"
      ],
      "text/plain": [
       "\u001b[1m5×5 DataFrame\u001b[0m\n",
       "\u001b[1m Row \u001b[0m│\u001b[1m sales_ymd \u001b[0m\u001b[1m customer_id    \u001b[0m\u001b[1m product_cd \u001b[0m\u001b[1m quantity \u001b[0m\u001b[1m amount \u001b[0m\n",
       "     │\u001b[90m Int64     \u001b[0m\u001b[90m String15       \u001b[0m\u001b[90m String15   \u001b[0m\u001b[90m Int64    \u001b[0m\u001b[90m Int64  \u001b[0m\n",
       "─────┼─────────────────────────────────────────────────────────\n",
       "   1 │  20180911  CS018205000001  P071401012         1    2200\n",
       "   2 │  20180414  CS018205000001  P060104007         6     600\n",
       "   3 │  20170614  CS018205000001  P050206001         5     990\n",
       "   4 │  20190226  CS018205000001  P071401020         1    2200\n",
       "   5 │  20180911  CS018205000001  P071401005         1    1100"
      ]
     },
     "execution_count": 7,
     "metadata": {},
     "output_type": "execute_result"
    }
   ],
   "source": [
    "# P-006\n",
    "@chain df_receipts begin\n",
    "    @select(:sales_ymd, :customer_id, :product_cd, :quantity,\n",
    "        :amount) \n",
    "    @rsubset(:customer_id == \"CS018205000001\")\n",
    "    @rsubset begin\n",
    "        :amount >= 1000 || :quantity >= 5\n",
    "    end\n",
    "end\n"
   ]
  },
  {
   "cell_type": "code",
   "execution_count": 8,
   "id": "15378732",
   "metadata": {},
   "outputs": [
    {
     "data": {
      "text/html": [
       "<div><div style = \"float: left;\"><span>1×4 DataFrame</span></div><div style = \"clear: both;\"></div></div><div class = \"data-frame\" style = \"overflow-x: scroll;\"><table class = \"data-frame\" style = \"margin-bottom: 6px;\"><thead><tr class = \"header\"><th class = \"rowNumber\" style = \"font-weight: bold; text-align: right;\">Row</th><th style = \"text-align: left;\">sales_ymd</th><th style = \"text-align: left;\">customer_id</th><th style = \"text-align: left;\">product_cd</th><th style = \"text-align: left;\">amount</th></tr><tr class = \"subheader headerLastRow\"><th class = \"rowNumber\" style = \"font-weight: bold; text-align: right;\"></th><th title = \"Int64\" style = \"text-align: left;\">Int64</th><th title = \"String15\" style = \"text-align: left;\">String15</th><th title = \"String15\" style = \"text-align: left;\">String15</th><th title = \"Int64\" style = \"text-align: left;\">Int64</th></tr></thead><tbody><tr><td class = \"rowNumber\" style = \"font-weight: bold; text-align: right;\">1</td><td style = \"text-align: right;\">20180911</td><td style = \"text-align: left;\">CS018205000001</td><td style = \"text-align: left;\">P071401005</td><td style = \"text-align: right;\">1100</td></tr></tbody></table></div>"
      ],
      "text/latex": [
       "\\begin{tabular}{r|cccc}\n",
       "\t& sales\\_ymd & customer\\_id & product\\_cd & amount\\\\\n",
       "\t\\hline\n",
       "\t& Int64 & String15 & String15 & Int64\\\\\n",
       "\t\\hline\n",
       "\t1 & 20180911 & CS018205000001 & P071401005 & 1100 \\\\\n",
       "\\end{tabular}\n"
      ],
      "text/plain": [
       "\u001b[1m1×4 DataFrame\u001b[0m\n",
       "\u001b[1m Row \u001b[0m│\u001b[1m sales_ymd \u001b[0m\u001b[1m customer_id    \u001b[0m\u001b[1m product_cd \u001b[0m\u001b[1m amount \u001b[0m\n",
       "     │\u001b[90m Int64     \u001b[0m\u001b[90m String15       \u001b[0m\u001b[90m String15   \u001b[0m\u001b[90m Int64  \u001b[0m\n",
       "─────┼───────────────────────────────────────────────\n",
       "   1 │  20180911  CS018205000001  P071401005    1100"
      ]
     },
     "execution_count": 8,
     "metadata": {},
     "output_type": "execute_result"
    }
   ],
   "source": [
    "# P-007\n",
    "@chain df_receipts begin\n",
    "    @select(:sales_ymd, :customer_id, :product_cd, :amount)\n",
    "    @rsubset(:customer_id == \"CS018205000001\")\n",
    "    @rsubset(1000 <= :amount, :amount <= 2000)\n",
    "end"
   ]
  },
  {
   "cell_type": "code",
   "execution_count": 9,
   "id": "74403040",
   "metadata": {},
   "outputs": [
    {
     "data": {
      "text/html": [
       "<div><div style = \"float: left;\"><span>12×4 DataFrame</span></div><div style = \"clear: both;\"></div></div><div class = \"data-frame\" style = \"overflow-x: scroll;\"><table class = \"data-frame\" style = \"margin-bottom: 6px;\"><thead><tr class = \"header\"><th class = \"rowNumber\" style = \"font-weight: bold; text-align: right;\">Row</th><th style = \"text-align: left;\">sales_ymd</th><th style = \"text-align: left;\">customer_id</th><th style = \"text-align: left;\">product_cd</th><th style = \"text-align: left;\">amount</th></tr><tr class = \"subheader headerLastRow\"><th class = \"rowNumber\" style = \"font-weight: bold; text-align: right;\"></th><th title = \"Int64\" style = \"text-align: left;\">Int64</th><th title = \"String15\" style = \"text-align: left;\">String15</th><th title = \"String15\" style = \"text-align: left;\">String15</th><th title = \"Int64\" style = \"text-align: left;\">Int64</th></tr></thead><tbody><tr><td class = \"rowNumber\" style = \"font-weight: bold; text-align: right;\">1</td><td style = \"text-align: right;\">20180911</td><td style = \"text-align: left;\">CS018205000001</td><td style = \"text-align: left;\">P071401012</td><td style = \"text-align: right;\">2200</td></tr><tr><td class = \"rowNumber\" style = \"font-weight: bold; text-align: right;\">2</td><td style = \"text-align: right;\">20180414</td><td style = \"text-align: left;\">CS018205000001</td><td style = \"text-align: left;\">P060104007</td><td style = \"text-align: right;\">600</td></tr><tr><td class = \"rowNumber\" style = \"font-weight: bold; text-align: right;\">3</td><td style = \"text-align: right;\">20170614</td><td style = \"text-align: left;\">CS018205000001</td><td style = \"text-align: left;\">P050206001</td><td style = \"text-align: right;\">990</td></tr><tr><td class = \"rowNumber\" style = \"font-weight: bold; text-align: right;\">4</td><td style = \"text-align: right;\">20170614</td><td style = \"text-align: left;\">CS018205000001</td><td style = \"text-align: left;\">P060702015</td><td style = \"text-align: right;\">108</td></tr><tr><td class = \"rowNumber\" style = \"font-weight: bold; text-align: right;\">5</td><td style = \"text-align: right;\">20190216</td><td style = \"text-align: left;\">CS018205000001</td><td style = \"text-align: left;\">P071005024</td><td style = \"text-align: right;\">102</td></tr><tr><td class = \"rowNumber\" style = \"font-weight: bold; text-align: right;\">6</td><td style = \"text-align: right;\">20180414</td><td style = \"text-align: left;\">CS018205000001</td><td style = \"text-align: left;\">P071101002</td><td style = \"text-align: right;\">278</td></tr><tr><td class = \"rowNumber\" style = \"font-weight: bold; text-align: right;\">7</td><td style = \"text-align: right;\">20190226</td><td style = \"text-align: left;\">CS018205000001</td><td style = \"text-align: left;\">P070902035</td><td style = \"text-align: right;\">168</td></tr><tr><td class = \"rowNumber\" style = \"font-weight: bold; text-align: right;\">8</td><td style = \"text-align: right;\">20190924</td><td style = \"text-align: left;\">CS018205000001</td><td style = \"text-align: left;\">P060805001</td><td style = \"text-align: right;\">495</td></tr><tr><td class = \"rowNumber\" style = \"font-weight: bold; text-align: right;\">9</td><td style = \"text-align: right;\">20190226</td><td style = \"text-align: left;\">CS018205000001</td><td style = \"text-align: left;\">P071401020</td><td style = \"text-align: right;\">2200</td></tr><tr><td class = \"rowNumber\" style = \"font-weight: bold; text-align: right;\">10</td><td style = \"text-align: right;\">20180911</td><td style = \"text-align: left;\">CS018205000001</td><td style = \"text-align: left;\">P071401005</td><td style = \"text-align: right;\">1100</td></tr><tr><td class = \"rowNumber\" style = \"font-weight: bold; text-align: right;\">11</td><td style = \"text-align: right;\">20190216</td><td style = \"text-align: left;\">CS018205000001</td><td style = \"text-align: left;\">P040101002</td><td style = \"text-align: right;\">218</td></tr><tr><td class = \"rowNumber\" style = \"font-weight: bold; text-align: right;\">12</td><td style = \"text-align: right;\">20190924</td><td style = \"text-align: left;\">CS018205000001</td><td style = \"text-align: left;\">P091503001</td><td style = \"text-align: right;\">280</td></tr></tbody></table></div>"
      ],
      "text/latex": [
       "\\begin{tabular}{r|cccc}\n",
       "\t& sales\\_ymd & customer\\_id & product\\_cd & amount\\\\\n",
       "\t\\hline\n",
       "\t& Int64 & String15 & String15 & Int64\\\\\n",
       "\t\\hline\n",
       "\t1 & 20180911 & CS018205000001 & P071401012 & 2200 \\\\\n",
       "\t2 & 20180414 & CS018205000001 & P060104007 & 600 \\\\\n",
       "\t3 & 20170614 & CS018205000001 & P050206001 & 990 \\\\\n",
       "\t4 & 20170614 & CS018205000001 & P060702015 & 108 \\\\\n",
       "\t5 & 20190216 & CS018205000001 & P071005024 & 102 \\\\\n",
       "\t6 & 20180414 & CS018205000001 & P071101002 & 278 \\\\\n",
       "\t7 & 20190226 & CS018205000001 & P070902035 & 168 \\\\\n",
       "\t8 & 20190924 & CS018205000001 & P060805001 & 495 \\\\\n",
       "\t9 & 20190226 & CS018205000001 & P071401020 & 2200 \\\\\n",
       "\t10 & 20180911 & CS018205000001 & P071401005 & 1100 \\\\\n",
       "\t11 & 20190216 & CS018205000001 & P040101002 & 218 \\\\\n",
       "\t12 & 20190924 & CS018205000001 & P091503001 & 280 \\\\\n",
       "\\end{tabular}\n"
      ],
      "text/plain": [
       "\u001b[1m12×4 DataFrame\u001b[0m\n",
       "\u001b[1m Row \u001b[0m│\u001b[1m sales_ymd \u001b[0m\u001b[1m customer_id    \u001b[0m\u001b[1m product_cd \u001b[0m\u001b[1m amount \u001b[0m\n",
       "     │\u001b[90m Int64     \u001b[0m\u001b[90m String15       \u001b[0m\u001b[90m String15   \u001b[0m\u001b[90m Int64  \u001b[0m\n",
       "─────┼───────────────────────────────────────────────\n",
       "   1 │  20180911  CS018205000001  P071401012    2200\n",
       "   2 │  20180414  CS018205000001  P060104007     600\n",
       "   3 │  20170614  CS018205000001  P050206001     990\n",
       "   4 │  20170614  CS018205000001  P060702015     108\n",
       "   5 │  20190216  CS018205000001  P071005024     102\n",
       "   6 │  20180414  CS018205000001  P071101002     278\n",
       "   7 │  20190226  CS018205000001  P070902035     168\n",
       "   8 │  20190924  CS018205000001  P060805001     495\n",
       "   9 │  20190226  CS018205000001  P071401020    2200\n",
       "  10 │  20180911  CS018205000001  P071401005    1100\n",
       "  11 │  20190216  CS018205000001  P040101002     218\n",
       "  12 │  20190924  CS018205000001  P091503001     280"
      ]
     },
     "execution_count": 9,
     "metadata": {},
     "output_type": "execute_result"
    }
   ],
   "source": [
    "# P-008\n",
    "@chain df_receipts begin\n",
    "    @select(:sales_ymd, :customer_id, :product_cd, :amount)\n",
    "    @rsubset(:customer_id == \"CS018205000001\")\n",
    "    @rsubset(:product_cd != \"P071401019\")\n",
    "end"
   ]
  },
  {
   "cell_type": "code",
   "execution_count": 10,
   "id": "eea78e53",
   "metadata": {},
   "outputs": [
    {
     "data": {
      "text/html": [
       "<div><div style = \"float: left;\"><span>9×10 DataFrame</span></div><div style = \"clear: both;\"></div></div><div class = \"data-frame\" style = \"overflow-x: scroll;\"><table class = \"data-frame\" style = \"margin-bottom: 6px;\"><thead><tr class = \"header\"><th class = \"rowNumber\" style = \"font-weight: bold; text-align: right;\">Row</th><th style = \"text-align: left;\">store_cd</th><th style = \"text-align: left;\">store_name</th><th style = \"text-align: left;\">prefecture_cd</th><th style = \"text-align: left;\">prefecture</th><th style = \"text-align: left;\">address</th><th style = \"text-align: left;\">address_kana</th><th style = \"text-align: left;\">tel_no</th><th style = \"text-align: left;\">longitude</th><th style = \"text-align: left;\">latitude</th><th style = \"text-align: left;\">floor_area</th></tr><tr class = \"subheader headerLastRow\"><th class = \"rowNumber\" style = \"font-weight: bold; text-align: right;\"></th><th title = \"String7\" style = \"text-align: left;\">String7</th><th title = \"String31\" style = \"text-align: left;\">String31</th><th title = \"Int64\" style = \"text-align: left;\">Int64</th><th title = \"String15\" style = \"text-align: left;\">String15</th><th title = \"String\" style = \"text-align: left;\">String</th><th title = \"String\" style = \"text-align: left;\">String</th><th title = \"String15\" style = \"text-align: left;\">String15</th><th title = \"Float64\" style = \"text-align: left;\">Float64</th><th title = \"Float64\" style = \"text-align: left;\">Float64</th><th title = \"Float64\" style = \"text-align: left;\">Float64</th></tr></thead><tbody><tr><td class = \"rowNumber\" style = \"font-weight: bold; text-align: right;\">1</td><td style = \"text-align: left;\">S14046</td><td style = \"text-align: left;\">北山田店</td><td style = \"text-align: right;\">14</td><td style = \"text-align: left;\">神奈川県</td><td style = \"text-align: left;\">神奈川県横浜市都筑区北山田一丁目</td><td style = \"text-align: left;\">カナガワケンヨコハマシツヅキクキタヤマタイッチョウメ</td><td style = \"text-align: left;\">045-123-4049</td><td style = \"text-align: right;\">139.592</td><td style = \"text-align: right;\">35.5619</td><td style = \"text-align: right;\">831.0</td></tr><tr><td class = \"rowNumber\" style = \"font-weight: bold; text-align: right;\">2</td><td style = \"text-align: left;\">S14011</td><td style = \"text-align: left;\">日吉本町店</td><td style = \"text-align: right;\">14</td><td style = \"text-align: left;\">神奈川県</td><td style = \"text-align: left;\">神奈川県横浜市港北区日吉本町四丁目</td><td style = \"text-align: left;\">カナガワケンヨコハマシコウホククヒヨシホンチョウヨンチョウメ</td><td style = \"text-align: left;\">045-123-4033</td><td style = \"text-align: right;\">139.632</td><td style = \"text-align: right;\">35.5466</td><td style = \"text-align: right;\">890.0</td></tr><tr><td class = \"rowNumber\" style = \"font-weight: bold; text-align: right;\">3</td><td style = \"text-align: left;\">S13008</td><td style = \"text-align: left;\">成城店</td><td style = \"text-align: right;\">13</td><td style = \"text-align: left;\">東京都</td><td style = \"text-align: left;\">東京都世田谷区成城三丁目</td><td style = \"text-align: left;\">トウキョウトセタガヤクセイジョウサンチョウメ</td><td style = \"text-align: left;\">03-0123-4012</td><td style = \"text-align: right;\">139.597</td><td style = \"text-align: right;\">35.6361</td><td style = \"text-align: right;\">883.0</td></tr><tr><td class = \"rowNumber\" style = \"font-weight: bold; text-align: right;\">4</td><td style = \"text-align: left;\">S13020</td><td style = \"text-align: left;\">十条仲原店</td><td style = \"text-align: right;\">13</td><td style = \"text-align: left;\">東京都</td><td style = \"text-align: left;\">東京都北区十条仲原三丁目</td><td style = \"text-align: left;\">トウキョウトキタクジュウジョウナカハラサンチョウメ</td><td style = \"text-align: left;\">03-0123-4019</td><td style = \"text-align: right;\">139.719</td><td style = \"text-align: right;\">35.7669</td><td style = \"text-align: right;\">801.0</td></tr><tr><td class = \"rowNumber\" style = \"font-weight: bold; text-align: right;\">5</td><td style = \"text-align: left;\">S13043</td><td style = \"text-align: left;\">南品川店</td><td style = \"text-align: right;\">13</td><td style = \"text-align: left;\">東京都</td><td style = \"text-align: left;\">東京都品川区南品川三丁目</td><td style = \"text-align: left;\">トウキョウトシナガワクミナミシナガワサンチョウメ</td><td style = \"text-align: left;\">03-0123-4027</td><td style = \"text-align: right;\">139.744</td><td style = \"text-align: right;\">35.6098</td><td style = \"text-align: right;\">845.0</td></tr><tr><td class = \"rowNumber\" style = \"font-weight: bold; text-align: right;\">6</td><td style = \"text-align: left;\">S13041</td><td style = \"text-align: left;\">八王子店</td><td style = \"text-align: right;\">13</td><td style = \"text-align: left;\">東京都</td><td style = \"text-align: left;\">東京都八王子市大塚</td><td style = \"text-align: left;\">トウキョウトハチオウジシオオツカ</td><td style = \"text-align: left;\">042-123-4026</td><td style = \"text-align: right;\">139.423</td><td style = \"text-align: right;\">35.6379</td><td style = \"text-align: right;\">810.0</td></tr><tr><td class = \"rowNumber\" style = \"font-weight: bold; text-align: right;\">7</td><td style = \"text-align: left;\">S13017</td><td style = \"text-align: left;\">高円寺南店</td><td style = \"text-align: right;\">13</td><td style = \"text-align: left;\">東京都</td><td style = \"text-align: left;\">東京都杉並区高円寺南四丁目</td><td style = \"text-align: left;\">トウキョウトスギナミクコウエンジミナミヨンチョウメ</td><td style = \"text-align: left;\">03-0123-4016</td><td style = \"text-align: right;\">139.651</td><td style = \"text-align: right;\">35.7027</td><td style = \"text-align: right;\">841.0</td></tr><tr><td class = \"rowNumber\" style = \"font-weight: bold; text-align: right;\">8</td><td style = \"text-align: left;\">S12013</td><td style = \"text-align: left;\">習志野店</td><td style = \"text-align: right;\">12</td><td style = \"text-align: left;\">千葉県</td><td style = \"text-align: left;\">千葉県習志野市芝園一丁目</td><td style = \"text-align: left;\">チバケンナラシノシシバゾノイッチョウメ</td><td style = \"text-align: left;\">047-123-4002</td><td style = \"text-align: right;\">140.022</td><td style = \"text-align: right;\">35.6612</td><td style = \"text-align: right;\">808.0</td></tr><tr><td class = \"rowNumber\" style = \"font-weight: bold; text-align: right;\">9</td><td style = \"text-align: left;\">S13037</td><td style = \"text-align: left;\">南砂一丁目店</td><td style = \"text-align: right;\">13</td><td style = \"text-align: left;\">東京都</td><td style = \"text-align: left;\">東京都江東区南砂一丁目</td><td style = \"text-align: left;\">トウキョウトコウトウクミナミスナイッチョウメ</td><td style = \"text-align: left;\">03-0123-4023</td><td style = \"text-align: right;\">139.821</td><td style = \"text-align: right;\">35.679</td><td style = \"text-align: right;\">814.0</td></tr></tbody></table></div>"
      ],
      "text/latex": [
       "\\begin{tabular}{r|cccccccccc}\n",
       "\t& store\\_cd & store\\_name & prefecture\\_cd & prefecture & address & address\\_kana & tel\\_no & longitude & latitude & floor\\_area\\\\\n",
       "\t\\hline\n",
       "\t& String7 & String31 & Int64 & String15 & String & String & String15 & Float64 & Float64 & Float64\\\\\n",
       "\t\\hline\n",
       "\t1 & S14046 & 北山田店 & 14 & 神奈川県 & 神奈川県横浜市都筑区北山田一丁目 & カナガワケンヨコハマシツヅキクキタヤマタイッチョウメ & 045-123-4049 & 139.592 & 35.5619 & 831.0 \\\\\n",
       "\t2 & S14011 & 日吉本町店 & 14 & 神奈川県 & 神奈川県横浜市港北区日吉本町四丁目 & カナガワケンヨコハマシコウホククヒヨシホンチョウヨンチョウメ & 045-123-4033 & 139.632 & 35.5466 & 890.0 \\\\\n",
       "\t3 & S13008 & 成城店 & 13 & 東京都 & 東京都世田谷区成城三丁目 & トウキョウトセタガヤクセイジョウサンチョウメ & 03-0123-4012 & 139.597 & 35.6361 & 883.0 \\\\\n",
       "\t4 & S13020 & 十条仲原店 & 13 & 東京都 & 東京都北区十条仲原三丁目 & トウキョウトキタクジュウジョウナカハラサンチョウメ & 03-0123-4019 & 139.719 & 35.7669 & 801.0 \\\\\n",
       "\t5 & S13043 & 南品川店 & 13 & 東京都 & 東京都品川区南品川三丁目 & トウキョウトシナガワクミナミシナガワサンチョウメ & 03-0123-4027 & 139.744 & 35.6098 & 845.0 \\\\\n",
       "\t6 & S13041 & 八王子店 & 13 & 東京都 & 東京都八王子市大塚 & トウキョウトハチオウジシオオツカ & 042-123-4026 & 139.423 & 35.6379 & 810.0 \\\\\n",
       "\t7 & S13017 & 高円寺南店 & 13 & 東京都 & 東京都杉並区高円寺南四丁目 & トウキョウトスギナミクコウエンジミナミヨンチョウメ & 03-0123-4016 & 139.651 & 35.7027 & 841.0 \\\\\n",
       "\t8 & S12013 & 習志野店 & 12 & 千葉県 & 千葉県習志野市芝園一丁目 & チバケンナラシノシシバゾノイッチョウメ & 047-123-4002 & 140.022 & 35.6612 & 808.0 \\\\\n",
       "\t9 & S13037 & 南砂一丁目店 & 13 & 東京都 & 東京都江東区南砂一丁目 & トウキョウトコウトウクミナミスナイッチョウメ & 03-0123-4023 & 139.821 & 35.679 & 814.0 \\\\\n",
       "\\end{tabular}\n"
      ],
      "text/plain": [
       "\u001b[1m9×10 DataFrame\u001b[0m\n",
       "\u001b[1m Row \u001b[0m│\u001b[1m store_cd \u001b[0m\u001b[1m store_name   \u001b[0m\u001b[1m prefecture_cd \u001b[0m\u001b[1m prefecture \u001b[0m\u001b[1m address                           \u001b[0m\u001b[1m address_kana                      \u001b[0m\u001b[1m tel_no       \u001b[0m\u001b[1m longitude \u001b[0m\u001b[1m latitude \u001b[0m\u001b[1m floor_area \u001b[0m\n",
       "     │\u001b[90m String7  \u001b[0m\u001b[90m String31     \u001b[0m\u001b[90m Int64         \u001b[0m\u001b[90m String15   \u001b[0m\u001b[90m String                            \u001b[0m\u001b[90m String                            \u001b[0m\u001b[90m String15     \u001b[0m\u001b[90m Float64   \u001b[0m\u001b[90m Float64  \u001b[0m\u001b[90m Float64    \u001b[0m\n",
       "─────┼────────────────────────────────────────────────────────────────────────────────────────────────────────────────────────────────────────────────────────────────────────\n",
       "   1 │ S14046    北山田店                 14  神奈川県    神奈川県横浜市都筑区北山田一丁目   カナガワケンヨコハマシツヅキクキ…  045-123-4049    139.592   35.5619       831.0\n",
       "   2 │ S14011    日吉本町店               14  神奈川県    神奈川県横浜市港北区日吉本町四丁…  カナガワケンヨコハマシコウホクク…  045-123-4033    139.632   35.5466       890.0\n",
       "   3 │ S13008    成城店                   13  東京都      東京都世田谷区成城三丁目           トウキョウトセタガヤクセイジョウ…  03-0123-4012    139.597   35.6361       883.0\n",
       "   4 │ S13020    十条仲原店               13  東京都      東京都北区十条仲原三丁目           トウキョウトキタクジュウジョウナ…  03-0123-4019    139.719   35.7669       801.0\n",
       "   5 │ S13043    南品川店                 13  東京都      東京都品川区南品川三丁目           トウキョウトシナガワクミナミシナ…  03-0123-4027    139.744   35.6098       845.0\n",
       "   6 │ S13041    八王子店                 13  東京都      東京都八王子市大塚                 トウキョウトハチオウジシオオツカ   042-123-4026    139.423   35.6379       810.0\n",
       "   7 │ S13017    高円寺南店               13  東京都      東京都杉並区高円寺南四丁目         トウキョウトスギナミクコウエンジ…  03-0123-4016    139.651   35.7027       841.0\n",
       "   8 │ S12013    習志野店                 12  千葉県      千葉県習志野市芝園一丁目           チバケンナラシノシシバゾノイッチ…  047-123-4002    140.022   35.6612       808.0\n",
       "   9 │ S13037    南砂一丁目店             13  東京都      東京都江東区南砂一丁目             トウキョウトコウトウクミナミスナ…  03-0123-4023    139.821   35.679        814.0"
      ]
     },
     "execution_count": 10,
     "metadata": {},
     "output_type": "execute_result"
    }
   ],
   "source": [
    "# P-009\n",
    "@chain df_stores begin\n",
    "    @rsubset(:prefecture_cd != \"13\", :floor_area <= 900)\n",
    "end"
   ]
  },
  {
   "cell_type": "code",
   "execution_count": 11,
   "id": "52bc9547",
   "metadata": {},
   "outputs": [
    {
     "data": {
      "text/html": [
       "<div><div style = \"float: left;\"><span>10×10 DataFrame</span></div><div style = \"clear: both;\"></div></div><div class = \"data-frame\" style = \"overflow-x: scroll;\"><table class = \"data-frame\" style = \"margin-bottom: 6px;\"><thead><tr class = \"header\"><th class = \"rowNumber\" style = \"font-weight: bold; text-align: right;\">Row</th><th style = \"text-align: left;\">store_cd</th><th style = \"text-align: left;\">store_name</th><th style = \"text-align: left;\">prefecture_cd</th><th style = \"text-align: left;\">prefecture</th><th style = \"text-align: left;\">address</th><th style = \"text-align: left;\">address_kana</th><th style = \"text-align: left;\">tel_no</th><th style = \"text-align: left;\">longitude</th><th style = \"text-align: left;\">latitude</th><th style = \"text-align: left;\">floor_area</th></tr><tr class = \"subheader headerLastRow\"><th class = \"rowNumber\" style = \"font-weight: bold; text-align: right;\"></th><th title = \"String7\" style = \"text-align: left;\">String7</th><th title = \"String31\" style = \"text-align: left;\">String31</th><th title = \"Int64\" style = \"text-align: left;\">Int64</th><th title = \"String15\" style = \"text-align: left;\">String15</th><th title = \"String\" style = \"text-align: left;\">String</th><th title = \"String\" style = \"text-align: left;\">String</th><th title = \"String15\" style = \"text-align: left;\">String15</th><th title = \"Float64\" style = \"text-align: left;\">Float64</th><th title = \"Float64\" style = \"text-align: left;\">Float64</th><th title = \"Float64\" style = \"text-align: left;\">Float64</th></tr></thead><tbody><tr><td class = \"rowNumber\" style = \"font-weight: bold; text-align: right;\">1</td><td style = \"text-align: left;\">S14010</td><td style = \"text-align: left;\">菊名店</td><td style = \"text-align: right;\">14</td><td style = \"text-align: left;\">神奈川県</td><td style = \"text-align: left;\">神奈川県横浜市港北区菊名一丁目</td><td style = \"text-align: left;\">カナガワケンヨコハマシコウホククキクナイッチョウメ</td><td style = \"text-align: left;\">045-123-4032</td><td style = \"text-align: right;\">139.633</td><td style = \"text-align: right;\">35.5005</td><td style = \"text-align: right;\">1732.0</td></tr><tr><td class = \"rowNumber\" style = \"font-weight: bold; text-align: right;\">2</td><td style = \"text-align: left;\">S14033</td><td style = \"text-align: left;\">阿久和店</td><td style = \"text-align: right;\">14</td><td style = \"text-align: left;\">神奈川県</td><td style = \"text-align: left;\">神奈川県横浜市瀬谷区阿久和西一丁目</td><td style = \"text-align: left;\">カナガワケンヨコハマシセヤクアクワニシイッチョウメ</td><td style = \"text-align: left;\">045-123-4043</td><td style = \"text-align: right;\">139.496</td><td style = \"text-align: right;\">35.4592</td><td style = \"text-align: right;\">1495.0</td></tr><tr><td class = \"rowNumber\" style = \"font-weight: bold; text-align: right;\">3</td><td style = \"text-align: left;\">S14036</td><td style = \"text-align: left;\">相模原中央店</td><td style = \"text-align: right;\">14</td><td style = \"text-align: left;\">神奈川県</td><td style = \"text-align: left;\">神奈川県相模原市中央二丁目</td><td style = \"text-align: left;\">カナガワケンサガミハラシチュウオウニチョウメ</td><td style = \"text-align: left;\">042-123-4045</td><td style = \"text-align: right;\">139.372</td><td style = \"text-align: right;\">35.5733</td><td style = \"text-align: right;\">1679.0</td></tr><tr><td class = \"rowNumber\" style = \"font-weight: bold; text-align: right;\">4</td><td style = \"text-align: left;\">S14040</td><td style = \"text-align: left;\">長津田店</td><td style = \"text-align: right;\">14</td><td style = \"text-align: left;\">神奈川県</td><td style = \"text-align: left;\">神奈川県横浜市緑区長津田みなみ台五丁目</td><td style = \"text-align: left;\">カナガワケンヨコハマシミドリクナガツタミナミダイゴチョウメ</td><td style = \"text-align: left;\">045-123-4046</td><td style = \"text-align: right;\">139.499</td><td style = \"text-align: right;\">35.524</td><td style = \"text-align: right;\">1548.0</td></tr><tr><td class = \"rowNumber\" style = \"font-weight: bold; text-align: right;\">5</td><td style = \"text-align: left;\">S14050</td><td style = \"text-align: left;\">阿久和西店</td><td style = \"text-align: right;\">14</td><td style = \"text-align: left;\">神奈川県</td><td style = \"text-align: left;\">神奈川県横浜市瀬谷区阿久和西一丁目</td><td style = \"text-align: left;\">カナガワケンヨコハマシセヤクアクワニシイッチョウメ</td><td style = \"text-align: left;\">045-123-4053</td><td style = \"text-align: right;\">139.496</td><td style = \"text-align: right;\">35.4592</td><td style = \"text-align: right;\">1830.0</td></tr><tr><td class = \"rowNumber\" style = \"font-weight: bold; text-align: right;\">6</td><td style = \"text-align: left;\">S14028</td><td style = \"text-align: left;\">二ツ橋店</td><td style = \"text-align: right;\">14</td><td style = \"text-align: left;\">神奈川県</td><td style = \"text-align: left;\">神奈川県横浜市瀬谷区二ツ橋町</td><td style = \"text-align: left;\">カナガワケンヨコハマシセヤクフタツバシチョウ</td><td style = \"text-align: left;\">045-123-4042</td><td style = \"text-align: right;\">139.496</td><td style = \"text-align: right;\">35.463</td><td style = \"text-align: right;\">1574.0</td></tr><tr><td class = \"rowNumber\" style = \"font-weight: bold; text-align: right;\">7</td><td style = \"text-align: left;\">S14012</td><td style = \"text-align: left;\">本牧和田店</td><td style = \"text-align: right;\">14</td><td style = \"text-align: left;\">神奈川県</td><td style = \"text-align: left;\">神奈川県横浜市中区本牧和田</td><td style = \"text-align: left;\">カナガワケンヨコハマシナカクホンモクワダ</td><td style = \"text-align: left;\">045-123-4034</td><td style = \"text-align: right;\">139.658</td><td style = \"text-align: right;\">35.4216</td><td style = \"text-align: right;\">1341.0</td></tr><tr><td class = \"rowNumber\" style = \"font-weight: bold; text-align: right;\">8</td><td style = \"text-align: left;\">S14046</td><td style = \"text-align: left;\">北山田店</td><td style = \"text-align: right;\">14</td><td style = \"text-align: left;\">神奈川県</td><td style = \"text-align: left;\">神奈川県横浜市都筑区北山田一丁目</td><td style = \"text-align: left;\">カナガワケンヨコハマシツヅキクキタヤマタイッチョウメ</td><td style = \"text-align: left;\">045-123-4049</td><td style = \"text-align: right;\">139.592</td><td style = \"text-align: right;\">35.5619</td><td style = \"text-align: right;\">831.0</td></tr><tr><td class = \"rowNumber\" style = \"font-weight: bold; text-align: right;\">9</td><td style = \"text-align: left;\">S14022</td><td style = \"text-align: left;\">逗子店</td><td style = \"text-align: right;\">14</td><td style = \"text-align: left;\">神奈川県</td><td style = \"text-align: left;\">神奈川県逗子市逗子一丁目</td><td style = \"text-align: left;\">カナガワケンズシシズシイッチョウメ</td><td style = \"text-align: left;\">046-123-4036</td><td style = \"text-align: right;\">139.579</td><td style = \"text-align: right;\">35.2964</td><td style = \"text-align: right;\">1838.0</td></tr><tr><td class = \"rowNumber\" style = \"font-weight: bold; text-align: right;\">10</td><td style = \"text-align: left;\">S14011</td><td style = \"text-align: left;\">日吉本町店</td><td style = \"text-align: right;\">14</td><td style = \"text-align: left;\">神奈川県</td><td style = \"text-align: left;\">神奈川県横浜市港北区日吉本町四丁目</td><td style = \"text-align: left;\">カナガワケンヨコハマシコウホククヒヨシホンチョウヨンチョウメ</td><td style = \"text-align: left;\">045-123-4033</td><td style = \"text-align: right;\">139.632</td><td style = \"text-align: right;\">35.5466</td><td style = \"text-align: right;\">890.0</td></tr></tbody></table></div>"
      ],
      "text/latex": [
       "\\begin{tabular}{r|cccccccccc}\n",
       "\t& store\\_cd & store\\_name & prefecture\\_cd & prefecture & address & address\\_kana & tel\\_no & longitude & latitude & floor\\_area\\\\\n",
       "\t\\hline\n",
       "\t& String7 & String31 & Int64 & String15 & String & String & String15 & Float64 & Float64 & Float64\\\\\n",
       "\t\\hline\n",
       "\t1 & S14010 & 菊名店 & 14 & 神奈川県 & 神奈川県横浜市港北区菊名一丁目 & カナガワケンヨコハマシコウホククキクナイッチョウメ & 045-123-4032 & 139.633 & 35.5005 & 1732.0 \\\\\n",
       "\t2 & S14033 & 阿久和店 & 14 & 神奈川県 & 神奈川県横浜市瀬谷区阿久和西一丁目 & カナガワケンヨコハマシセヤクアクワニシイッチョウメ & 045-123-4043 & 139.496 & 35.4592 & 1495.0 \\\\\n",
       "\t3 & S14036 & 相模原中央店 & 14 & 神奈川県 & 神奈川県相模原市中央二丁目 & カナガワケンサガミハラシチュウオウニチョウメ & 042-123-4045 & 139.372 & 35.5733 & 1679.0 \\\\\n",
       "\t4 & S14040 & 長津田店 & 14 & 神奈川県 & 神奈川県横浜市緑区長津田みなみ台五丁目 & カナガワケンヨコハマシミドリクナガツタミナミダイゴチョウメ & 045-123-4046 & 139.499 & 35.524 & 1548.0 \\\\\n",
       "\t5 & S14050 & 阿久和西店 & 14 & 神奈川県 & 神奈川県横浜市瀬谷区阿久和西一丁目 & カナガワケンヨコハマシセヤクアクワニシイッチョウメ & 045-123-4053 & 139.496 & 35.4592 & 1830.0 \\\\\n",
       "\t6 & S14028 & 二ツ橋店 & 14 & 神奈川県 & 神奈川県横浜市瀬谷区二ツ橋町 & カナガワケンヨコハマシセヤクフタツバシチョウ & 045-123-4042 & 139.496 & 35.463 & 1574.0 \\\\\n",
       "\t7 & S14012 & 本牧和田店 & 14 & 神奈川県 & 神奈川県横浜市中区本牧和田 & カナガワケンヨコハマシナカクホンモクワダ & 045-123-4034 & 139.658 & 35.4216 & 1341.0 \\\\\n",
       "\t8 & S14046 & 北山田店 & 14 & 神奈川県 & 神奈川県横浜市都筑区北山田一丁目 & カナガワケンヨコハマシツヅキクキタヤマタイッチョウメ & 045-123-4049 & 139.592 & 35.5619 & 831.0 \\\\\n",
       "\t9 & S14022 & 逗子店 & 14 & 神奈川県 & 神奈川県逗子市逗子一丁目 & カナガワケンズシシズシイッチョウメ & 046-123-4036 & 139.579 & 35.2964 & 1838.0 \\\\\n",
       "\t10 & S14011 & 日吉本町店 & 14 & 神奈川県 & 神奈川県横浜市港北区日吉本町四丁目 & カナガワケンヨコハマシコウホククヒヨシホンチョウヨンチョウメ & 045-123-4033 & 139.632 & 35.5466 & 890.0 \\\\\n",
       "\\end{tabular}\n"
      ],
      "text/plain": [
       "\u001b[1m10×10 DataFrame\u001b[0m\n",
       "\u001b[1m Row \u001b[0m│\u001b[1m store_cd \u001b[0m\u001b[1m store_name   \u001b[0m\u001b[1m prefecture_cd \u001b[0m\u001b[1m prefecture \u001b[0m\u001b[1m address                           \u001b[0m\u001b[1m address_kana                      \u001b[0m\u001b[1m tel_no       \u001b[0m\u001b[1m longitude \u001b[0m\u001b[1m latitude \u001b[0m\u001b[1m floor_area \u001b[0m\n",
       "     │\u001b[90m String7  \u001b[0m\u001b[90m String31     \u001b[0m\u001b[90m Int64         \u001b[0m\u001b[90m String15   \u001b[0m\u001b[90m String                            \u001b[0m\u001b[90m String                            \u001b[0m\u001b[90m String15     \u001b[0m\u001b[90m Float64   \u001b[0m\u001b[90m Float64  \u001b[0m\u001b[90m Float64    \u001b[0m\n",
       "─────┼────────────────────────────────────────────────────────────────────────────────────────────────────────────────────────────────────────────────────────────────────────\n",
       "   1 │ S14010    菊名店                   14  神奈川県    神奈川県横浜市港北区菊名一丁目     カナガワケンヨコハマシコウホクク…  045-123-4032    139.633   35.5005      1732.0\n",
       "   2 │ S14033    阿久和店                 14  神奈川県    神奈川県横浜市瀬谷区阿久和西一丁…  カナガワケンヨコハマシセヤクアク…  045-123-4043    139.496   35.4592      1495.0\n",
       "   3 │ S14036    相模原中央店             14  神奈川県    神奈川県相模原市中央二丁目         カナガワケンサガミハラシチュウオ…  042-123-4045    139.372   35.5733      1679.0\n",
       "   4 │ S14040    長津田店                 14  神奈川県    神奈川県横浜市緑区長津田みなみ台…  カナガワケンヨコハマシミドリクナ…  045-123-4046    139.499   35.524       1548.0\n",
       "   5 │ S14050    阿久和西店               14  神奈川県    神奈川県横浜市瀬谷区阿久和西一丁…  カナガワケンヨコハマシセヤクアク…  045-123-4053    139.496   35.4592      1830.0\n",
       "   6 │ S14028    二ツ橋店                 14  神奈川県    神奈川県横浜市瀬谷区二ツ橋町       カナガワケンヨコハマシセヤクフタ…  045-123-4042    139.496   35.463       1574.0\n",
       "   7 │ S14012    本牧和田店               14  神奈川県    神奈川県横浜市中区本牧和田         カナガワケンヨコハマシナカクホン…  045-123-4034    139.658   35.4216      1341.0\n",
       "   8 │ S14046    北山田店                 14  神奈川県    神奈川県横浜市都筑区北山田一丁目   カナガワケンヨコハマシツヅキクキ…  045-123-4049    139.592   35.5619       831.0\n",
       "   9 │ S14022    逗子店                   14  神奈川県    神奈川県逗子市逗子一丁目           カナガワケンズシシズシイッチョウ…  046-123-4036    139.579   35.2964      1838.0\n",
       "  10 │ S14011    日吉本町店               14  神奈川県    神奈川県横浜市港北区日吉本町四丁…  カナガワケンヨコハマシコウホクク…  045-123-4033    139.632   35.5466       890.0"
      ]
     },
     "execution_count": 11,
     "metadata": {},
     "output_type": "execute_result"
    }
   ],
   "source": [
    "# P-010\n",
    "@chain df_stores begin\n",
    "    @rsubset(occursin(r\"^S14\", :store_cd))\n",
    "    first(10)\n",
    "end"
   ]
  },
  {
   "cell_type": "code",
   "execution_count": 12,
   "id": "0d4dcb33",
   "metadata": {},
   "outputs": [
    {
     "data": {
      "text/html": [
       "<div><div style = \"float: left;\"><span>10×11 DataFrame</span></div><div style = \"clear: both;\"></div></div><div class = \"data-frame\" style = \"overflow-x: scroll;\"><table class = \"data-frame\" style = \"margin-bottom: 6px;\"><thead><tr class = \"header\"><th class = \"rowNumber\" style = \"font-weight: bold; text-align: right;\">Row</th><th style = \"text-align: left;\">customer_id</th><th style = \"text-align: left;\">customer_name</th><th style = \"text-align: left;\">gender_cd</th><th style = \"text-align: left;\">gender</th><th style = \"text-align: left;\">birth_day</th><th style = \"text-align: left;\">age</th><th style = \"text-align: left;\">postal_cd</th><th style = \"text-align: left;\">address</th><th style = \"text-align: left;\">application_store_cd</th><th style = \"text-align: left;\">application_date</th><th style = \"text-align: left;\">status_cd</th></tr><tr class = \"subheader headerLastRow\"><th class = \"rowNumber\" style = \"font-weight: bold; text-align: right;\"></th><th title = \"String15\" style = \"text-align: left;\">String15</th><th title = \"String31\" style = \"text-align: left;\">String31</th><th title = \"Int64\" style = \"text-align: left;\">Int64</th><th title = \"String7\" style = \"text-align: left;\">String7</th><th title = \"Dates.Date\" style = \"text-align: left;\">Date</th><th title = \"Int64\" style = \"text-align: left;\">Int64</th><th title = \"String15\" style = \"text-align: left;\">String15</th><th title = \"String\" style = \"text-align: left;\">String</th><th title = \"String7\" style = \"text-align: left;\">String7</th><th title = \"Int64\" style = \"text-align: left;\">Int64</th><th title = \"String15\" style = \"text-align: left;\">String15</th></tr></thead><tbody><tr><td class = \"rowNumber\" style = \"font-weight: bold; text-align: right;\">1</td><td style = \"text-align: left;\">CS037613000071</td><td style = \"text-align: left;\">六角 雅彦</td><td style = \"text-align: right;\">9</td><td style = \"text-align: left;\">不明</td><td style = \"text-align: left;\">1952-04-01</td><td style = \"text-align: right;\">66</td><td style = \"text-align: left;\">136-0076</td><td style = \"text-align: left;\">東京都江東区南砂**********</td><td style = \"text-align: left;\">S13037</td><td style = \"text-align: right;\">20150414</td><td style = \"text-align: left;\">0-00000000-0</td></tr><tr><td class = \"rowNumber\" style = \"font-weight: bold; text-align: right;\">2</td><td style = \"text-align: left;\">CS028811000001</td><td style = \"text-align: left;\">堀井 かおり</td><td style = \"text-align: right;\">1</td><td style = \"text-align: left;\">女性</td><td style = \"text-align: left;\">1933-03-27</td><td style = \"text-align: right;\">86</td><td style = \"text-align: left;\">245-0016</td><td style = \"text-align: left;\">神奈川県横浜市泉区和泉町**********</td><td style = \"text-align: left;\">S14028</td><td style = \"text-align: right;\">20160115</td><td style = \"text-align: left;\">0-00000000-0</td></tr><tr><td class = \"rowNumber\" style = \"font-weight: bold; text-align: right;\">3</td><td style = \"text-align: left;\">CS040412000191</td><td style = \"text-align: left;\">川井 郁恵</td><td style = \"text-align: right;\">1</td><td style = \"text-align: left;\">女性</td><td style = \"text-align: left;\">1977-01-05</td><td style = \"text-align: right;\">42</td><td style = \"text-align: left;\">226-0021</td><td style = \"text-align: left;\">神奈川県横浜市緑区北八朔町**********</td><td style = \"text-align: left;\">S14040</td><td style = \"text-align: right;\">20151101</td><td style = \"text-align: left;\">1-20091025-4</td></tr><tr><td class = \"rowNumber\" style = \"font-weight: bold; text-align: right;\">4</td><td style = \"text-align: left;\">CS028314000011</td><td style = \"text-align: left;\">小菅 あおい</td><td style = \"text-align: right;\">1</td><td style = \"text-align: left;\">女性</td><td style = \"text-align: left;\">1983-11-26</td><td style = \"text-align: right;\">35</td><td style = \"text-align: left;\">246-0038</td><td style = \"text-align: left;\">神奈川県横浜市瀬谷区宮沢**********</td><td style = \"text-align: left;\">S14028</td><td style = \"text-align: right;\">20151123</td><td style = \"text-align: left;\">1-20080426-5</td></tr><tr><td class = \"rowNumber\" style = \"font-weight: bold; text-align: right;\">5</td><td style = \"text-align: left;\">CS039212000051</td><td style = \"text-align: left;\">藤島 恵梨香</td><td style = \"text-align: right;\">1</td><td style = \"text-align: left;\">女性</td><td style = \"text-align: left;\">1997-02-03</td><td style = \"text-align: right;\">22</td><td style = \"text-align: left;\">166-0001</td><td style = \"text-align: left;\">東京都杉並区阿佐谷北**********</td><td style = \"text-align: left;\">S13039</td><td style = \"text-align: right;\">20171121</td><td style = \"text-align: left;\">1-20100215-4</td></tr><tr><td class = \"rowNumber\" style = \"font-weight: bold; text-align: right;\">6</td><td style = \"text-align: left;\">CS015412000111</td><td style = \"text-align: left;\">松居 奈月</td><td style = \"text-align: right;\">1</td><td style = \"text-align: left;\">女性</td><td style = \"text-align: left;\">1972-10-04</td><td style = \"text-align: right;\">46</td><td style = \"text-align: left;\">136-0071</td><td style = \"text-align: left;\">東京都江東区亀戸**********</td><td style = \"text-align: left;\">S13015</td><td style = \"text-align: right;\">20150629</td><td style = \"text-align: left;\">0-00000000-0</td></tr><tr><td class = \"rowNumber\" style = \"font-weight: bold; text-align: right;\">7</td><td style = \"text-align: left;\">CS004702000041</td><td style = \"text-align: left;\">野島 洋</td><td style = \"text-align: right;\">0</td><td style = \"text-align: left;\">男性</td><td style = \"text-align: left;\">1943-08-24</td><td style = \"text-align: right;\">75</td><td style = \"text-align: left;\">176-0022</td><td style = \"text-align: left;\">東京都練馬区向山**********</td><td style = \"text-align: left;\">S13004</td><td style = \"text-align: right;\">20170218</td><td style = \"text-align: left;\">0-00000000-0</td></tr><tr><td class = \"rowNumber\" style = \"font-weight: bold; text-align: right;\">8</td><td style = \"text-align: left;\">CS041515000001</td><td style = \"text-align: left;\">栗田 千夏</td><td style = \"text-align: right;\">1</td><td style = \"text-align: left;\">女性</td><td style = \"text-align: left;\">1967-01-02</td><td style = \"text-align: right;\">52</td><td style = \"text-align: left;\">206-0001</td><td style = \"text-align: left;\">東京都多摩市和田**********</td><td style = \"text-align: left;\">S13041</td><td style = \"text-align: right;\">20160422</td><td style = \"text-align: left;\">E-20100803-F</td></tr><tr><td class = \"rowNumber\" style = \"font-weight: bold; text-align: right;\">9</td><td style = \"text-align: left;\">CS029313000221</td><td style = \"text-align: left;\">北条 ひかり</td><td style = \"text-align: right;\">1</td><td style = \"text-align: left;\">女性</td><td style = \"text-align: left;\">1987-06-19</td><td style = \"text-align: right;\">31</td><td style = \"text-align: left;\">279-0011</td><td style = \"text-align: left;\">千葉県浦安市美浜**********</td><td style = \"text-align: left;\">S12029</td><td style = \"text-align: right;\">20180810</td><td style = \"text-align: left;\">0-00000000-0</td></tr><tr><td class = \"rowNumber\" style = \"font-weight: bold; text-align: right;\">10</td><td style = \"text-align: left;\">CS034312000071</td><td style = \"text-align: left;\">望月 奈央</td><td style = \"text-align: right;\">1</td><td style = \"text-align: left;\">女性</td><td style = \"text-align: left;\">1980-09-20</td><td style = \"text-align: right;\">38</td><td style = \"text-align: left;\">213-0026</td><td style = \"text-align: left;\">神奈川県川崎市高津区久末**********</td><td style = \"text-align: left;\">S14034</td><td style = \"text-align: right;\">20160106</td><td style = \"text-align: left;\">0-00000000-0</td></tr></tbody></table></div>"
      ],
      "text/latex": [
       "\\begin{tabular}{r|ccccccccccc}\n",
       "\t& customer\\_id & customer\\_name & gender\\_cd & gender & birth\\_day & age & postal\\_cd & address & application\\_store\\_cd & application\\_date & status\\_cd\\\\\n",
       "\t\\hline\n",
       "\t& String15 & String31 & Int64 & String7 & Date & Int64 & String15 & String & String7 & Int64 & String15\\\\\n",
       "\t\\hline\n",
       "\t1 & CS037613000071 & 六角 雅彦 & 9 & 不明 & 1952-04-01 & 66 & 136-0076 & 東京都江東区南砂********** & S13037 & 20150414 & 0-00000000-0 \\\\\n",
       "\t2 & CS028811000001 & 堀井 かおり & 1 & 女性 & 1933-03-27 & 86 & 245-0016 & 神奈川県横浜市泉区和泉町********** & S14028 & 20160115 & 0-00000000-0 \\\\\n",
       "\t3 & CS040412000191 & 川井 郁恵 & 1 & 女性 & 1977-01-05 & 42 & 226-0021 & 神奈川県横浜市緑区北八朔町********** & S14040 & 20151101 & 1-20091025-4 \\\\\n",
       "\t4 & CS028314000011 & 小菅 あおい & 1 & 女性 & 1983-11-26 & 35 & 246-0038 & 神奈川県横浜市瀬谷区宮沢********** & S14028 & 20151123 & 1-20080426-5 \\\\\n",
       "\t5 & CS039212000051 & 藤島 恵梨香 & 1 & 女性 & 1997-02-03 & 22 & 166-0001 & 東京都杉並区阿佐谷北********** & S13039 & 20171121 & 1-20100215-4 \\\\\n",
       "\t6 & CS015412000111 & 松居 奈月 & 1 & 女性 & 1972-10-04 & 46 & 136-0071 & 東京都江東区亀戸********** & S13015 & 20150629 & 0-00000000-0 \\\\\n",
       "\t7 & CS004702000041 & 野島 洋 & 0 & 男性 & 1943-08-24 & 75 & 176-0022 & 東京都練馬区向山********** & S13004 & 20170218 & 0-00000000-0 \\\\\n",
       "\t8 & CS041515000001 & 栗田 千夏 & 1 & 女性 & 1967-01-02 & 52 & 206-0001 & 東京都多摩市和田********** & S13041 & 20160422 & E-20100803-F \\\\\n",
       "\t9 & CS029313000221 & 北条 ひかり & 1 & 女性 & 1987-06-19 & 31 & 279-0011 & 千葉県浦安市美浜********** & S12029 & 20180810 & 0-00000000-0 \\\\\n",
       "\t10 & CS034312000071 & 望月 奈央 & 1 & 女性 & 1980-09-20 & 38 & 213-0026 & 神奈川県川崎市高津区久末********** & S14034 & 20160106 & 0-00000000-0 \\\\\n",
       "\\end{tabular}\n"
      ],
      "text/plain": [
       "\u001b[1m10×11 DataFrame\u001b[0m\n",
       "\u001b[1m Row \u001b[0m│\u001b[1m customer_id    \u001b[0m\u001b[1m customer_name \u001b[0m\u001b[1m gender_cd \u001b[0m\u001b[1m gender  \u001b[0m\u001b[1m birth_day  \u001b[0m\u001b[1m age   \u001b[0m\u001b[1m postal_cd \u001b[0m\u001b[1m address                           \u001b[0m\u001b[1m application_store_cd \u001b[0m\u001b[1m application_date \u001b[0m\u001b[1m status_cd    \u001b[0m\n",
       "     │\u001b[90m String15       \u001b[0m\u001b[90m String31      \u001b[0m\u001b[90m Int64     \u001b[0m\u001b[90m String7 \u001b[0m\u001b[90m Date       \u001b[0m\u001b[90m Int64 \u001b[0m\u001b[90m String15  \u001b[0m\u001b[90m String                            \u001b[0m\u001b[90m String7              \u001b[0m\u001b[90m Int64            \u001b[0m\u001b[90m String15     \u001b[0m\n",
       "─────┼──────────────────────────────────────────────────────────────────────────────────────────────────────────────────────────────────────────────────────────────────────────\n",
       "   1 │ CS037613000071  六角 雅彦              9  不明     1952-04-01     66  136-0076   東京都江東区南砂**********         S13037                        20150414  0-00000000-0\n",
       "   2 │ CS028811000001  堀井 かおり            1  女性     1933-03-27     86  245-0016   神奈川県横浜市泉区和泉町********…  S14028                        20160115  0-00000000-0\n",
       "   3 │ CS040412000191  川井 郁恵              1  女性     1977-01-05     42  226-0021   神奈川県横浜市緑区北八朔町******…  S14040                        20151101  1-20091025-4\n",
       "   4 │ CS028314000011  小菅 あおい            1  女性     1983-11-26     35  246-0038   神奈川県横浜市瀬谷区宮沢********…  S14028                        20151123  1-20080426-5\n",
       "   5 │ CS039212000051  藤島 恵梨香            1  女性     1997-02-03     22  166-0001   東京都杉並区阿佐谷北**********     S13039                        20171121  1-20100215-4\n",
       "   6 │ CS015412000111  松居 奈月              1  女性     1972-10-04     46  136-0071   東京都江東区亀戸**********         S13015                        20150629  0-00000000-0\n",
       "   7 │ CS004702000041  野島 洋                0  男性     1943-08-24     75  176-0022   東京都練馬区向山**********         S13004                        20170218  0-00000000-0\n",
       "   8 │ CS041515000001  栗田 千夏              1  女性     1967-01-02     52  206-0001   東京都多摩市和田**********         S13041                        20160422  E-20100803-F\n",
       "   9 │ CS029313000221  北条 ひかり            1  女性     1987-06-19     31  279-0011   千葉県浦安市美浜**********         S12029                        20180810  0-00000000-0\n",
       "  10 │ CS034312000071  望月 奈央              1  女性     1980-09-20     38  213-0026   神奈川県川崎市高津区久末********…  S14034                        20160106  0-00000000-0"
      ]
     },
     "execution_count": 12,
     "metadata": {},
     "output_type": "execute_result"
    }
   ],
   "source": [
    "# P-011\n",
    "@chain df_customers begin\n",
    "   @rsubset(occursin(r\"1$\", :customer_id))\n",
    "    first(10)\n",
    "end"
   ]
  },
  {
   "cell_type": "code",
   "execution_count": 13,
   "id": "4305db52",
   "metadata": {},
   "outputs": [
    {
     "data": {
      "text/html": [
       "<div><div style = \"float: left;\"><span>11×10 DataFrame</span></div><div style = \"clear: both;\"></div></div><div class = \"data-frame\" style = \"overflow-x: scroll;\"><table class = \"data-frame\" style = \"margin-bottom: 6px;\"><thead><tr class = \"header\"><th class = \"rowNumber\" style = \"font-weight: bold; text-align: right;\">Row</th><th style = \"text-align: left;\">store_cd</th><th style = \"text-align: left;\">store_name</th><th style = \"text-align: left;\">prefecture_cd</th><th style = \"text-align: left;\">prefecture</th><th style = \"text-align: left;\">address</th><th style = \"text-align: left;\">address_kana</th><th style = \"text-align: left;\">tel_no</th><th style = \"text-align: left;\">longitude</th><th style = \"text-align: left;\">latitude</th><th style = \"text-align: left;\">floor_area</th></tr><tr class = \"subheader headerLastRow\"><th class = \"rowNumber\" style = \"font-weight: bold; text-align: right;\"></th><th title = \"String7\" style = \"text-align: left;\">String7</th><th title = \"String31\" style = \"text-align: left;\">String31</th><th title = \"Int64\" style = \"text-align: left;\">Int64</th><th title = \"String15\" style = \"text-align: left;\">String15</th><th title = \"String\" style = \"text-align: left;\">String</th><th title = \"String\" style = \"text-align: left;\">String</th><th title = \"String15\" style = \"text-align: left;\">String15</th><th title = \"Float64\" style = \"text-align: left;\">Float64</th><th title = \"Float64\" style = \"text-align: left;\">Float64</th><th title = \"Float64\" style = \"text-align: left;\">Float64</th></tr></thead><tbody><tr><td class = \"rowNumber\" style = \"font-weight: bold; text-align: right;\">1</td><td style = \"text-align: left;\">S14010</td><td style = \"text-align: left;\">菊名店</td><td style = \"text-align: right;\">14</td><td style = \"text-align: left;\">神奈川県</td><td style = \"text-align: left;\">神奈川県横浜市港北区菊名一丁目</td><td style = \"text-align: left;\">カナガワケンヨコハマシコウホククキクナイッチョウメ</td><td style = \"text-align: left;\">045-123-4032</td><td style = \"text-align: right;\">139.633</td><td style = \"text-align: right;\">35.5005</td><td style = \"text-align: right;\">1732.0</td></tr><tr><td class = \"rowNumber\" style = \"font-weight: bold; text-align: right;\">2</td><td style = \"text-align: left;\">S14033</td><td style = \"text-align: left;\">阿久和店</td><td style = \"text-align: right;\">14</td><td style = \"text-align: left;\">神奈川県</td><td style = \"text-align: left;\">神奈川県横浜市瀬谷区阿久和西一丁目</td><td style = \"text-align: left;\">カナガワケンヨコハマシセヤクアクワニシイッチョウメ</td><td style = \"text-align: left;\">045-123-4043</td><td style = \"text-align: right;\">139.496</td><td style = \"text-align: right;\">35.4592</td><td style = \"text-align: right;\">1495.0</td></tr><tr><td class = \"rowNumber\" style = \"font-weight: bold; text-align: right;\">3</td><td style = \"text-align: left;\">S14040</td><td style = \"text-align: left;\">長津田店</td><td style = \"text-align: right;\">14</td><td style = \"text-align: left;\">神奈川県</td><td style = \"text-align: left;\">神奈川県横浜市緑区長津田みなみ台五丁目</td><td style = \"text-align: left;\">カナガワケンヨコハマシミドリクナガツタミナミダイゴチョウメ</td><td style = \"text-align: left;\">045-123-4046</td><td style = \"text-align: right;\">139.499</td><td style = \"text-align: right;\">35.524</td><td style = \"text-align: right;\">1548.0</td></tr><tr><td class = \"rowNumber\" style = \"font-weight: bold; text-align: right;\">4</td><td style = \"text-align: left;\">S14050</td><td style = \"text-align: left;\">阿久和西店</td><td style = \"text-align: right;\">14</td><td style = \"text-align: left;\">神奈川県</td><td style = \"text-align: left;\">神奈川県横浜市瀬谷区阿久和西一丁目</td><td style = \"text-align: left;\">カナガワケンヨコハマシセヤクアクワニシイッチョウメ</td><td style = \"text-align: left;\">045-123-4053</td><td style = \"text-align: right;\">139.496</td><td style = \"text-align: right;\">35.4592</td><td style = \"text-align: right;\">1830.0</td></tr><tr><td class = \"rowNumber\" style = \"font-weight: bold; text-align: right;\">5</td><td style = \"text-align: left;\">S14028</td><td style = \"text-align: left;\">二ツ橋店</td><td style = \"text-align: right;\">14</td><td style = \"text-align: left;\">神奈川県</td><td style = \"text-align: left;\">神奈川県横浜市瀬谷区二ツ橋町</td><td style = \"text-align: left;\">カナガワケンヨコハマシセヤクフタツバシチョウ</td><td style = \"text-align: left;\">045-123-4042</td><td style = \"text-align: right;\">139.496</td><td style = \"text-align: right;\">35.463</td><td style = \"text-align: right;\">1574.0</td></tr><tr><td class = \"rowNumber\" style = \"font-weight: bold; text-align: right;\">6</td><td style = \"text-align: left;\">S14012</td><td style = \"text-align: left;\">本牧和田店</td><td style = \"text-align: right;\">14</td><td style = \"text-align: left;\">神奈川県</td><td style = \"text-align: left;\">神奈川県横浜市中区本牧和田</td><td style = \"text-align: left;\">カナガワケンヨコハマシナカクホンモクワダ</td><td style = \"text-align: left;\">045-123-4034</td><td style = \"text-align: right;\">139.658</td><td style = \"text-align: right;\">35.4216</td><td style = \"text-align: right;\">1341.0</td></tr><tr><td class = \"rowNumber\" style = \"font-weight: bold; text-align: right;\">7</td><td style = \"text-align: left;\">S14046</td><td style = \"text-align: left;\">北山田店</td><td style = \"text-align: right;\">14</td><td style = \"text-align: left;\">神奈川県</td><td style = \"text-align: left;\">神奈川県横浜市都筑区北山田一丁目</td><td style = \"text-align: left;\">カナガワケンヨコハマシツヅキクキタヤマタイッチョウメ</td><td style = \"text-align: left;\">045-123-4049</td><td style = \"text-align: right;\">139.592</td><td style = \"text-align: right;\">35.5619</td><td style = \"text-align: right;\">831.0</td></tr><tr><td class = \"rowNumber\" style = \"font-weight: bold; text-align: right;\">8</td><td style = \"text-align: left;\">S14011</td><td style = \"text-align: left;\">日吉本町店</td><td style = \"text-align: right;\">14</td><td style = \"text-align: left;\">神奈川県</td><td style = \"text-align: left;\">神奈川県横浜市港北区日吉本町四丁目</td><td style = \"text-align: left;\">カナガワケンヨコハマシコウホククヒヨシホンチョウヨンチョウメ</td><td style = \"text-align: left;\">045-123-4033</td><td style = \"text-align: right;\">139.632</td><td style = \"text-align: right;\">35.5466</td><td style = \"text-align: right;\">890.0</td></tr><tr><td class = \"rowNumber\" style = \"font-weight: bold; text-align: right;\">9</td><td style = \"text-align: left;\">S14048</td><td style = \"text-align: left;\">中川中央店</td><td style = \"text-align: right;\">14</td><td style = \"text-align: left;\">神奈川県</td><td style = \"text-align: left;\">神奈川県横浜市都筑区中川中央二丁目</td><td style = \"text-align: left;\">カナガワケンヨコハマシツヅキクナカガワチュウオウニチョウメ</td><td style = \"text-align: left;\">045-123-4051</td><td style = \"text-align: right;\">139.576</td><td style = \"text-align: right;\">35.5491</td><td style = \"text-align: right;\">1657.0</td></tr><tr><td class = \"rowNumber\" style = \"font-weight: bold; text-align: right;\">10</td><td style = \"text-align: left;\">S14042</td><td style = \"text-align: left;\">新山下店</td><td style = \"text-align: right;\">14</td><td style = \"text-align: left;\">神奈川県</td><td style = \"text-align: left;\">神奈川県横浜市中区新山下二丁目</td><td style = \"text-align: left;\">カナガワケンヨコハマシナカクシンヤマシタニチョウメ</td><td style = \"text-align: left;\">045-123-4047</td><td style = \"text-align: right;\">139.659</td><td style = \"text-align: right;\">35.4389</td><td style = \"text-align: right;\">1044.0</td></tr><tr><td class = \"rowNumber\" style = \"font-weight: bold; text-align: right;\">11</td><td style = \"text-align: left;\">S14006</td><td style = \"text-align: left;\">葛が谷店</td><td style = \"text-align: right;\">14</td><td style = \"text-align: left;\">神奈川県</td><td style = \"text-align: left;\">神奈川県横浜市都筑区葛が谷</td><td style = \"text-align: left;\">カナガワケンヨコハマシツヅキククズガヤ</td><td style = \"text-align: left;\">045-123-4031</td><td style = \"text-align: right;\">139.563</td><td style = \"text-align: right;\">35.5357</td><td style = \"text-align: right;\">1886.0</td></tr></tbody></table></div>"
      ],
      "text/latex": [
       "\\begin{tabular}{r|cccccccccc}\n",
       "\t& store\\_cd & store\\_name & prefecture\\_cd & prefecture & address & address\\_kana & tel\\_no & longitude & latitude & floor\\_area\\\\\n",
       "\t\\hline\n",
       "\t& String7 & String31 & Int64 & String15 & String & String & String15 & Float64 & Float64 & Float64\\\\\n",
       "\t\\hline\n",
       "\t1 & S14010 & 菊名店 & 14 & 神奈川県 & 神奈川県横浜市港北区菊名一丁目 & カナガワケンヨコハマシコウホククキクナイッチョウメ & 045-123-4032 & 139.633 & 35.5005 & 1732.0 \\\\\n",
       "\t2 & S14033 & 阿久和店 & 14 & 神奈川県 & 神奈川県横浜市瀬谷区阿久和西一丁目 & カナガワケンヨコハマシセヤクアクワニシイッチョウメ & 045-123-4043 & 139.496 & 35.4592 & 1495.0 \\\\\n",
       "\t3 & S14040 & 長津田店 & 14 & 神奈川県 & 神奈川県横浜市緑区長津田みなみ台五丁目 & カナガワケンヨコハマシミドリクナガツタミナミダイゴチョウメ & 045-123-4046 & 139.499 & 35.524 & 1548.0 \\\\\n",
       "\t4 & S14050 & 阿久和西店 & 14 & 神奈川県 & 神奈川県横浜市瀬谷区阿久和西一丁目 & カナガワケンヨコハマシセヤクアクワニシイッチョウメ & 045-123-4053 & 139.496 & 35.4592 & 1830.0 \\\\\n",
       "\t5 & S14028 & 二ツ橋店 & 14 & 神奈川県 & 神奈川県横浜市瀬谷区二ツ橋町 & カナガワケンヨコハマシセヤクフタツバシチョウ & 045-123-4042 & 139.496 & 35.463 & 1574.0 \\\\\n",
       "\t6 & S14012 & 本牧和田店 & 14 & 神奈川県 & 神奈川県横浜市中区本牧和田 & カナガワケンヨコハマシナカクホンモクワダ & 045-123-4034 & 139.658 & 35.4216 & 1341.0 \\\\\n",
       "\t7 & S14046 & 北山田店 & 14 & 神奈川県 & 神奈川県横浜市都筑区北山田一丁目 & カナガワケンヨコハマシツヅキクキタヤマタイッチョウメ & 045-123-4049 & 139.592 & 35.5619 & 831.0 \\\\\n",
       "\t8 & S14011 & 日吉本町店 & 14 & 神奈川県 & 神奈川県横浜市港北区日吉本町四丁目 & カナガワケンヨコハマシコウホククヒヨシホンチョウヨンチョウメ & 045-123-4033 & 139.632 & 35.5466 & 890.0 \\\\\n",
       "\t9 & S14048 & 中川中央店 & 14 & 神奈川県 & 神奈川県横浜市都筑区中川中央二丁目 & カナガワケンヨコハマシツヅキクナカガワチュウオウニチョウメ & 045-123-4051 & 139.576 & 35.5491 & 1657.0 \\\\\n",
       "\t10 & S14042 & 新山下店 & 14 & 神奈川県 & 神奈川県横浜市中区新山下二丁目 & カナガワケンヨコハマシナカクシンヤマシタニチョウメ & 045-123-4047 & 139.659 & 35.4389 & 1044.0 \\\\\n",
       "\t11 & S14006 & 葛が谷店 & 14 & 神奈川県 & 神奈川県横浜市都筑区葛が谷 & カナガワケンヨコハマシツヅキククズガヤ & 045-123-4031 & 139.563 & 35.5357 & 1886.0 \\\\\n",
       "\\end{tabular}\n"
      ],
      "text/plain": [
       "\u001b[1m11×10 DataFrame\u001b[0m\n",
       "\u001b[1m Row \u001b[0m│\u001b[1m store_cd \u001b[0m\u001b[1m store_name \u001b[0m\u001b[1m prefecture_cd \u001b[0m\u001b[1m prefecture \u001b[0m\u001b[1m address                           \u001b[0m\u001b[1m address_kana                      \u001b[0m\u001b[1m tel_no       \u001b[0m\u001b[1m longitude \u001b[0m\u001b[1m latitude \u001b[0m\u001b[1m floor_area \u001b[0m\n",
       "     │\u001b[90m String7  \u001b[0m\u001b[90m String31   \u001b[0m\u001b[90m Int64         \u001b[0m\u001b[90m String15   \u001b[0m\u001b[90m String                            \u001b[0m\u001b[90m String                            \u001b[0m\u001b[90m String15     \u001b[0m\u001b[90m Float64   \u001b[0m\u001b[90m Float64  \u001b[0m\u001b[90m Float64    \u001b[0m\n",
       "─────┼──────────────────────────────────────────────────────────────────────────────────────────────────────────────────────────────────────────────────────────────────────\n",
       "   1 │ S14010    菊名店                 14  神奈川県    神奈川県横浜市港北区菊名一丁目     カナガワケンヨコハマシコウホクク…  045-123-4032    139.633   35.5005      1732.0\n",
       "   2 │ S14033    阿久和店               14  神奈川県    神奈川県横浜市瀬谷区阿久和西一丁…  カナガワケンヨコハマシセヤクアク…  045-123-4043    139.496   35.4592      1495.0\n",
       "   3 │ S14040    長津田店               14  神奈川県    神奈川県横浜市緑区長津田みなみ台…  カナガワケンヨコハマシミドリクナ…  045-123-4046    139.499   35.524       1548.0\n",
       "   4 │ S14050    阿久和西店             14  神奈川県    神奈川県横浜市瀬谷区阿久和西一丁…  カナガワケンヨコハマシセヤクアク…  045-123-4053    139.496   35.4592      1830.0\n",
       "   5 │ S14028    二ツ橋店               14  神奈川県    神奈川県横浜市瀬谷区二ツ橋町       カナガワケンヨコハマシセヤクフタ…  045-123-4042    139.496   35.463       1574.0\n",
       "   6 │ S14012    本牧和田店             14  神奈川県    神奈川県横浜市中区本牧和田         カナガワケンヨコハマシナカクホン…  045-123-4034    139.658   35.4216      1341.0\n",
       "   7 │ S14046    北山田店               14  神奈川県    神奈川県横浜市都筑区北山田一丁目   カナガワケンヨコハマシツヅキクキ…  045-123-4049    139.592   35.5619       831.0\n",
       "   8 │ S14011    日吉本町店             14  神奈川県    神奈川県横浜市港北区日吉本町四丁…  カナガワケンヨコハマシコウホクク…  045-123-4033    139.632   35.5466       890.0\n",
       "   9 │ S14048    中川中央店             14  神奈川県    神奈川県横浜市都筑区中川中央二丁…  カナガワケンヨコハマシツヅキクナ…  045-123-4051    139.576   35.5491      1657.0\n",
       "  10 │ S14042    新山下店               14  神奈川県    神奈川県横浜市中区新山下二丁目     カナガワケンヨコハマシナカクシン…  045-123-4047    139.659   35.4389      1044.0\n",
       "  11 │ S14006    葛が谷店               14  神奈川県    神奈川県横浜市都筑区葛が谷         カナガワケンヨコハマシツヅキクク…  045-123-4031    139.563   35.5357      1886.0"
      ]
     },
     "execution_count": 13,
     "metadata": {},
     "output_type": "execute_result"
    }
   ],
   "source": [
    "# P-012\n",
    "@chain df_stores begin\n",
    "    @rsubset(occursin(r\"横浜市\", :address))\n",
    "end"
   ]
  },
  {
   "cell_type": "code",
   "execution_count": 14,
   "id": "b5ccc1b5",
   "metadata": {},
   "outputs": [
    {
     "data": {
      "text/html": [
       "<div><div style = \"float: left;\"><span>10×11 DataFrame</span></div><div style = \"clear: both;\"></div></div><div class = \"data-frame\" style = \"overflow-x: scroll;\"><table class = \"data-frame\" style = \"margin-bottom: 6px;\"><thead><tr class = \"header\"><th class = \"rowNumber\" style = \"font-weight: bold; text-align: right;\">Row</th><th style = \"text-align: left;\">customer_id</th><th style = \"text-align: left;\">customer_name</th><th style = \"text-align: left;\">gender_cd</th><th style = \"text-align: left;\">gender</th><th style = \"text-align: left;\">birth_day</th><th style = \"text-align: left;\">age</th><th style = \"text-align: left;\">postal_cd</th><th style = \"text-align: left;\">address</th><th style = \"text-align: left;\">application_store_cd</th><th style = \"text-align: left;\">application_date</th><th style = \"text-align: left;\">status_cd</th></tr><tr class = \"subheader headerLastRow\"><th class = \"rowNumber\" style = \"font-weight: bold; text-align: right;\"></th><th title = \"String15\" style = \"text-align: left;\">String15</th><th title = \"String31\" style = \"text-align: left;\">String31</th><th title = \"Int64\" style = \"text-align: left;\">Int64</th><th title = \"String7\" style = \"text-align: left;\">String7</th><th title = \"Dates.Date\" style = \"text-align: left;\">Date</th><th title = \"Int64\" style = \"text-align: left;\">Int64</th><th title = \"String15\" style = \"text-align: left;\">String15</th><th title = \"String\" style = \"text-align: left;\">String</th><th title = \"String7\" style = \"text-align: left;\">String7</th><th title = \"Int64\" style = \"text-align: left;\">Int64</th><th title = \"String15\" style = \"text-align: left;\">String15</th></tr></thead><tbody><tr><td class = \"rowNumber\" style = \"font-weight: bold; text-align: right;\">1</td><td style = \"text-align: left;\">CS031415000172</td><td style = \"text-align: left;\">宇多田 貴美子</td><td style = \"text-align: right;\">1</td><td style = \"text-align: left;\">女性</td><td style = \"text-align: left;\">1976-10-04</td><td style = \"text-align: right;\">42</td><td style = \"text-align: left;\">151-0053</td><td style = \"text-align: left;\">東京都渋谷区代々木**********</td><td style = \"text-align: left;\">S13031</td><td style = \"text-align: right;\">20150529</td><td style = \"text-align: left;\">D-20100325-C</td></tr><tr><td class = \"rowNumber\" style = \"font-weight: bold; text-align: right;\">2</td><td style = \"text-align: left;\">CS015414000103</td><td style = \"text-align: left;\">奥野 陽子</td><td style = \"text-align: right;\">1</td><td style = \"text-align: left;\">女性</td><td style = \"text-align: left;\">1977-08-09</td><td style = \"text-align: right;\">41</td><td style = \"text-align: left;\">136-0073</td><td style = \"text-align: left;\">東京都江東区北砂**********</td><td style = \"text-align: left;\">S13015</td><td style = \"text-align: right;\">20150722</td><td style = \"text-align: left;\">B-20100609-B</td></tr><tr><td class = \"rowNumber\" style = \"font-weight: bold; text-align: right;\">3</td><td style = \"text-align: left;\">CS011215000048</td><td style = \"text-align: left;\">芦田 沙耶</td><td style = \"text-align: right;\">1</td><td style = \"text-align: left;\">女性</td><td style = \"text-align: left;\">1992-02-01</td><td style = \"text-align: right;\">27</td><td style = \"text-align: left;\">223-0062</td><td style = \"text-align: left;\">神奈川県横浜市港北区日吉本町**********</td><td style = \"text-align: left;\">S14011</td><td style = \"text-align: right;\">20150228</td><td style = \"text-align: left;\">C-20100421-9</td></tr><tr><td class = \"rowNumber\" style = \"font-weight: bold; text-align: right;\">4</td><td style = \"text-align: left;\">CS029415000023</td><td style = \"text-align: left;\">梅田 里穂</td><td style = \"text-align: right;\">1</td><td style = \"text-align: left;\">女性</td><td style = \"text-align: left;\">1976-01-17</td><td style = \"text-align: right;\">43</td><td style = \"text-align: left;\">279-0043</td><td style = \"text-align: left;\">千葉県浦安市富士見**********</td><td style = \"text-align: left;\">S12029</td><td style = \"text-align: right;\">20150610</td><td style = \"text-align: left;\">D-20100918-E</td></tr><tr><td class = \"rowNumber\" style = \"font-weight: bold; text-align: right;\">5</td><td style = \"text-align: left;\">CS035415000029</td><td style = \"text-align: left;\">寺沢 真希</td><td style = \"text-align: right;\">9</td><td style = \"text-align: left;\">不明</td><td style = \"text-align: left;\">1977-09-27</td><td style = \"text-align: right;\">41</td><td style = \"text-align: left;\">158-0096</td><td style = \"text-align: left;\">東京都世田谷区玉川台**********</td><td style = \"text-align: left;\">S13035</td><td style = \"text-align: right;\">20141220</td><td style = \"text-align: left;\">F-20101029-F</td></tr><tr><td class = \"rowNumber\" style = \"font-weight: bold; text-align: right;\">6</td><td style = \"text-align: left;\">CS031415000106</td><td style = \"text-align: left;\">宇野 由美子</td><td style = \"text-align: right;\">1</td><td style = \"text-align: left;\">女性</td><td style = \"text-align: left;\">1970-02-26</td><td style = \"text-align: right;\">49</td><td style = \"text-align: left;\">151-0053</td><td style = \"text-align: left;\">東京都渋谷区代々木**********</td><td style = \"text-align: left;\">S13031</td><td style = \"text-align: right;\">20150201</td><td style = \"text-align: left;\">F-20100511-E</td></tr><tr><td class = \"rowNumber\" style = \"font-weight: bold; text-align: right;\">7</td><td style = \"text-align: left;\">CS029215000025</td><td style = \"text-align: left;\">石倉 美帆</td><td style = \"text-align: right;\">1</td><td style = \"text-align: left;\">女性</td><td style = \"text-align: left;\">1993-09-28</td><td style = \"text-align: right;\">25</td><td style = \"text-align: left;\">279-0022</td><td style = \"text-align: left;\">千葉県浦安市今川**********</td><td style = \"text-align: left;\">S12029</td><td style = \"text-align: right;\">20150708</td><td style = \"text-align: left;\">B-20100820-C</td></tr><tr><td class = \"rowNumber\" style = \"font-weight: bold; text-align: right;\">8</td><td style = \"text-align: left;\">CS033605000005</td><td style = \"text-align: left;\">猪股 雄太</td><td style = \"text-align: right;\">0</td><td style = \"text-align: left;\">男性</td><td style = \"text-align: left;\">1955-12-05</td><td style = \"text-align: right;\">63</td><td style = \"text-align: left;\">246-0031</td><td style = \"text-align: left;\">神奈川県横浜市瀬谷区瀬谷**********</td><td style = \"text-align: left;\">S14033</td><td style = \"text-align: right;\">20150425</td><td style = \"text-align: left;\">F-20100917-E</td></tr><tr><td class = \"rowNumber\" style = \"font-weight: bold; text-align: right;\">9</td><td style = \"text-align: left;\">CS033415000229</td><td style = \"text-align: left;\">板垣 菜々美</td><td style = \"text-align: right;\">1</td><td style = \"text-align: left;\">女性</td><td style = \"text-align: left;\">1977-11-07</td><td style = \"text-align: right;\">41</td><td style = \"text-align: left;\">246-0021</td><td style = \"text-align: left;\">神奈川県横浜市瀬谷区二ツ橋町**********</td><td style = \"text-align: left;\">S14033</td><td style = \"text-align: right;\">20150712</td><td style = \"text-align: left;\">F-20100326-E</td></tr><tr><td class = \"rowNumber\" style = \"font-weight: bold; text-align: right;\">10</td><td style = \"text-align: left;\">CS008415000145</td><td style = \"text-align: left;\">黒谷 麻緒</td><td style = \"text-align: right;\">1</td><td style = \"text-align: left;\">女性</td><td style = \"text-align: left;\">1977-06-27</td><td style = \"text-align: right;\">41</td><td style = \"text-align: left;\">157-0067</td><td style = \"text-align: left;\">東京都世田谷区喜多見**********</td><td style = \"text-align: left;\">S13008</td><td style = \"text-align: right;\">20150829</td><td style = \"text-align: left;\">F-20100622-F</td></tr></tbody></table></div>"
      ],
      "text/latex": [
       "\\begin{tabular}{r|ccccccccccc}\n",
       "\t& customer\\_id & customer\\_name & gender\\_cd & gender & birth\\_day & age & postal\\_cd & address & application\\_store\\_cd & application\\_date & status\\_cd\\\\\n",
       "\t\\hline\n",
       "\t& String15 & String31 & Int64 & String7 & Date & Int64 & String15 & String & String7 & Int64 & String15\\\\\n",
       "\t\\hline\n",
       "\t1 & CS031415000172 & 宇多田 貴美子 & 1 & 女性 & 1976-10-04 & 42 & 151-0053 & 東京都渋谷区代々木********** & S13031 & 20150529 & D-20100325-C \\\\\n",
       "\t2 & CS015414000103 & 奥野 陽子 & 1 & 女性 & 1977-08-09 & 41 & 136-0073 & 東京都江東区北砂********** & S13015 & 20150722 & B-20100609-B \\\\\n",
       "\t3 & CS011215000048 & 芦田 沙耶 & 1 & 女性 & 1992-02-01 & 27 & 223-0062 & 神奈川県横浜市港北区日吉本町********** & S14011 & 20150228 & C-20100421-9 \\\\\n",
       "\t4 & CS029415000023 & 梅田 里穂 & 1 & 女性 & 1976-01-17 & 43 & 279-0043 & 千葉県浦安市富士見********** & S12029 & 20150610 & D-20100918-E \\\\\n",
       "\t5 & CS035415000029 & 寺沢 真希 & 9 & 不明 & 1977-09-27 & 41 & 158-0096 & 東京都世田谷区玉川台********** & S13035 & 20141220 & F-20101029-F \\\\\n",
       "\t6 & CS031415000106 & 宇野 由美子 & 1 & 女性 & 1970-02-26 & 49 & 151-0053 & 東京都渋谷区代々木********** & S13031 & 20150201 & F-20100511-E \\\\\n",
       "\t7 & CS029215000025 & 石倉 美帆 & 1 & 女性 & 1993-09-28 & 25 & 279-0022 & 千葉県浦安市今川********** & S12029 & 20150708 & B-20100820-C \\\\\n",
       "\t8 & CS033605000005 & 猪股 雄太 & 0 & 男性 & 1955-12-05 & 63 & 246-0031 & 神奈川県横浜市瀬谷区瀬谷********** & S14033 & 20150425 & F-20100917-E \\\\\n",
       "\t9 & CS033415000229 & 板垣 菜々美 & 1 & 女性 & 1977-11-07 & 41 & 246-0021 & 神奈川県横浜市瀬谷区二ツ橋町********** & S14033 & 20150712 & F-20100326-E \\\\\n",
       "\t10 & CS008415000145 & 黒谷 麻緒 & 1 & 女性 & 1977-06-27 & 41 & 157-0067 & 東京都世田谷区喜多見********** & S13008 & 20150829 & F-20100622-F \\\\\n",
       "\\end{tabular}\n"
      ],
      "text/plain": [
       "\u001b[1m10×11 DataFrame\u001b[0m\n",
       "\u001b[1m Row \u001b[0m│\u001b[1m customer_id    \u001b[0m\u001b[1m customer_name \u001b[0m\u001b[1m gender_cd \u001b[0m\u001b[1m gender  \u001b[0m\u001b[1m birth_day  \u001b[0m\u001b[1m age   \u001b[0m\u001b[1m postal_cd \u001b[0m\u001b[1m address                           \u001b[0m\u001b[1m application_store_cd \u001b[0m\u001b[1m application_date \u001b[0m\u001b[1m status_cd    \u001b[0m\n",
       "     │\u001b[90m String15       \u001b[0m\u001b[90m String31      \u001b[0m\u001b[90m Int64     \u001b[0m\u001b[90m String7 \u001b[0m\u001b[90m Date       \u001b[0m\u001b[90m Int64 \u001b[0m\u001b[90m String15  \u001b[0m\u001b[90m String                            \u001b[0m\u001b[90m String7              \u001b[0m\u001b[90m Int64            \u001b[0m\u001b[90m String15     \u001b[0m\n",
       "─────┼──────────────────────────────────────────────────────────────────────────────────────────────────────────────────────────────────────────────────────────────────────────\n",
       "   1 │ CS031415000172  宇多田 貴美子          1  女性     1976-10-04     42  151-0053   東京都渋谷区代々木**********       S13031                        20150529  D-20100325-C\n",
       "   2 │ CS015414000103  奥野 陽子              1  女性     1977-08-09     41  136-0073   東京都江東区北砂**********         S13015                        20150722  B-20100609-B\n",
       "   3 │ CS011215000048  芦田 沙耶              1  女性     1992-02-01     27  223-0062   神奈川県横浜市港北区日吉本町****…  S14011                        20150228  C-20100421-9\n",
       "   4 │ CS029415000023  梅田 里穂              1  女性     1976-01-17     43  279-0043   千葉県浦安市富士見**********       S12029                        20150610  D-20100918-E\n",
       "   5 │ CS035415000029  寺沢 真希              9  不明     1977-09-27     41  158-0096   東京都世田谷区玉川台**********     S13035                        20141220  F-20101029-F\n",
       "   6 │ CS031415000106  宇野 由美子            1  女性     1970-02-26     49  151-0053   東京都渋谷区代々木**********       S13031                        20150201  F-20100511-E\n",
       "   7 │ CS029215000025  石倉 美帆              1  女性     1993-09-28     25  279-0022   千葉県浦安市今川**********         S12029                        20150708  B-20100820-C\n",
       "   8 │ CS033605000005  猪股 雄太              0  男性     1955-12-05     63  246-0031   神奈川県横浜市瀬谷区瀬谷********…  S14033                        20150425  F-20100917-E\n",
       "   9 │ CS033415000229  板垣 菜々美            1  女性     1977-11-07     41  246-0021   神奈川県横浜市瀬谷区二ツ橋町****…  S14033                        20150712  F-20100326-E\n",
       "  10 │ CS008415000145  黒谷 麻緒              1  女性     1977-06-27     41  157-0067   東京都世田谷区喜多見**********     S13008                        20150829  F-20100622-F"
      ]
     },
     "execution_count": 14,
     "metadata": {},
     "output_type": "execute_result"
    }
   ],
   "source": [
    "# P-013\n",
    "@chain df_customers begin\n",
    "    @rsubset(occursin(r\"^[A-F]\", :status_cd))\n",
    "    first(10)\n",
    "end"
   ]
  },
  {
   "cell_type": "code",
   "execution_count": 15,
   "id": "bc9896cb",
   "metadata": {},
   "outputs": [
    {
     "data": {
      "text/html": [
       "<div><div style = \"float: left;\"><span>10×11 DataFrame</span></div><div style = \"clear: both;\"></div></div><div class = \"data-frame\" style = \"overflow-x: scroll;\"><table class = \"data-frame\" style = \"margin-bottom: 6px;\"><thead><tr class = \"header\"><th class = \"rowNumber\" style = \"font-weight: bold; text-align: right;\">Row</th><th style = \"text-align: left;\">customer_id</th><th style = \"text-align: left;\">customer_name</th><th style = \"text-align: left;\">gender_cd</th><th style = \"text-align: left;\">gender</th><th style = \"text-align: left;\">birth_day</th><th style = \"text-align: left;\">age</th><th style = \"text-align: left;\">postal_cd</th><th style = \"text-align: left;\">address</th><th style = \"text-align: left;\">application_store_cd</th><th style = \"text-align: left;\">application_date</th><th style = \"text-align: left;\">status_cd</th></tr><tr class = \"subheader headerLastRow\"><th class = \"rowNumber\" style = \"font-weight: bold; text-align: right;\"></th><th title = \"String15\" style = \"text-align: left;\">String15</th><th title = \"String31\" style = \"text-align: left;\">String31</th><th title = \"Int64\" style = \"text-align: left;\">Int64</th><th title = \"String7\" style = \"text-align: left;\">String7</th><th title = \"Dates.Date\" style = \"text-align: left;\">Date</th><th title = \"Int64\" style = \"text-align: left;\">Int64</th><th title = \"String15\" style = \"text-align: left;\">String15</th><th title = \"String\" style = \"text-align: left;\">String</th><th title = \"String7\" style = \"text-align: left;\">String7</th><th title = \"Int64\" style = \"text-align: left;\">Int64</th><th title = \"String15\" style = \"text-align: left;\">String15</th></tr></thead><tbody><tr><td class = \"rowNumber\" style = \"font-weight: bold; text-align: right;\">1</td><td style = \"text-align: left;\">CS001215000145</td><td style = \"text-align: left;\">田崎 美紀</td><td style = \"text-align: right;\">1</td><td style = \"text-align: left;\">女性</td><td style = \"text-align: left;\">1995-03-29</td><td style = \"text-align: right;\">24</td><td style = \"text-align: left;\">144-0055</td><td style = \"text-align: left;\">東京都大田区仲六郷**********</td><td style = \"text-align: left;\">S13001</td><td style = \"text-align: right;\">20170605</td><td style = \"text-align: left;\">6-20090929-2</td></tr><tr><td class = \"rowNumber\" style = \"font-weight: bold; text-align: right;\">2</td><td style = \"text-align: left;\">CS033513000180</td><td style = \"text-align: left;\">安斎 遥</td><td style = \"text-align: right;\">1</td><td style = \"text-align: left;\">女性</td><td style = \"text-align: left;\">1962-07-11</td><td style = \"text-align: right;\">56</td><td style = \"text-align: left;\">241-0823</td><td style = \"text-align: left;\">神奈川県横浜市旭区善部町**********</td><td style = \"text-align: left;\">S14033</td><td style = \"text-align: right;\">20150728</td><td style = \"text-align: left;\">6-20080506-5</td></tr><tr><td class = \"rowNumber\" style = \"font-weight: bold; text-align: right;\">3</td><td style = \"text-align: left;\">CS011215000048</td><td style = \"text-align: left;\">芦田 沙耶</td><td style = \"text-align: right;\">1</td><td style = \"text-align: left;\">女性</td><td style = \"text-align: left;\">1992-02-01</td><td style = \"text-align: right;\">27</td><td style = \"text-align: left;\">223-0062</td><td style = \"text-align: left;\">神奈川県横浜市港北区日吉本町**********</td><td style = \"text-align: left;\">S14011</td><td style = \"text-align: right;\">20150228</td><td style = \"text-align: left;\">C-20100421-9</td></tr><tr><td class = \"rowNumber\" style = \"font-weight: bold; text-align: right;\">4</td><td style = \"text-align: left;\">CS040412000191</td><td style = \"text-align: left;\">川井 郁恵</td><td style = \"text-align: right;\">1</td><td style = \"text-align: left;\">女性</td><td style = \"text-align: left;\">1977-01-05</td><td style = \"text-align: right;\">42</td><td style = \"text-align: left;\">226-0021</td><td style = \"text-align: left;\">神奈川県横浜市緑区北八朔町**********</td><td style = \"text-align: left;\">S14040</td><td style = \"text-align: right;\">20151101</td><td style = \"text-align: left;\">1-20091025-4</td></tr><tr><td class = \"rowNumber\" style = \"font-weight: bold; text-align: right;\">5</td><td style = \"text-align: left;\">CS009315000023</td><td style = \"text-align: left;\">皆川 文世</td><td style = \"text-align: right;\">1</td><td style = \"text-align: left;\">女性</td><td style = \"text-align: left;\">1980-04-15</td><td style = \"text-align: right;\">38</td><td style = \"text-align: left;\">154-0012</td><td style = \"text-align: left;\">東京都世田谷区駒沢**********</td><td style = \"text-align: left;\">S13009</td><td style = \"text-align: right;\">20150319</td><td style = \"text-align: left;\">5-20080322-1</td></tr><tr><td class = \"rowNumber\" style = \"font-weight: bold; text-align: right;\">6</td><td style = \"text-align: left;\">CS015315000033</td><td style = \"text-align: left;\">福士 璃奈子</td><td style = \"text-align: right;\">1</td><td style = \"text-align: left;\">女性</td><td style = \"text-align: left;\">1983-03-17</td><td style = \"text-align: right;\">36</td><td style = \"text-align: left;\">135-0043</td><td style = \"text-align: left;\">東京都江東区塩浜**********</td><td style = \"text-align: left;\">S13015</td><td style = \"text-align: right;\">20141024</td><td style = \"text-align: left;\">4-20080219-3</td></tr><tr><td class = \"rowNumber\" style = \"font-weight: bold; text-align: right;\">7</td><td style = \"text-align: left;\">CS023513000066</td><td style = \"text-align: left;\">神戸 そら</td><td style = \"text-align: right;\">1</td><td style = \"text-align: left;\">女性</td><td style = \"text-align: left;\">1961-12-17</td><td style = \"text-align: right;\">57</td><td style = \"text-align: left;\">210-0005</td><td style = \"text-align: left;\">神奈川県川崎市川崎区東田町**********</td><td style = \"text-align: left;\">S14023</td><td style = \"text-align: right;\">20150915</td><td style = \"text-align: left;\">5-20100524-9</td></tr><tr><td class = \"rowNumber\" style = \"font-weight: bold; text-align: right;\">8</td><td style = \"text-align: left;\">CS035513000134</td><td style = \"text-align: left;\">市川 美帆</td><td style = \"text-align: right;\">1</td><td style = \"text-align: left;\">女性</td><td style = \"text-align: left;\">1960-03-27</td><td style = \"text-align: right;\">59</td><td style = \"text-align: left;\">156-0053</td><td style = \"text-align: left;\">東京都世田谷区桜**********</td><td style = \"text-align: left;\">S13035</td><td style = \"text-align: right;\">20150227</td><td style = \"text-align: left;\">8-20100711-9</td></tr><tr><td class = \"rowNumber\" style = \"font-weight: bold; text-align: right;\">9</td><td style = \"text-align: left;\">CS001515000263</td><td style = \"text-align: left;\">高松 夏空</td><td style = \"text-align: right;\">1</td><td style = \"text-align: left;\">女性</td><td style = \"text-align: left;\">1962-11-09</td><td style = \"text-align: right;\">56</td><td style = \"text-align: left;\">144-0051</td><td style = \"text-align: left;\">東京都大田区西蒲田**********</td><td style = \"text-align: left;\">S13001</td><td style = \"text-align: right;\">20160812</td><td style = \"text-align: left;\">1-20100804-1</td></tr><tr><td class = \"rowNumber\" style = \"font-weight: bold; text-align: right;\">10</td><td style = \"text-align: left;\">CS040314000027</td><td style = \"text-align: left;\">鶴田 きみまろ</td><td style = \"text-align: right;\">9</td><td style = \"text-align: left;\">不明</td><td style = \"text-align: left;\">1986-03-26</td><td style = \"text-align: right;\">33</td><td style = \"text-align: left;\">226-0027</td><td style = \"text-align: left;\">神奈川県横浜市緑区長津田**********</td><td style = \"text-align: left;\">S14040</td><td style = \"text-align: right;\">20150122</td><td style = \"text-align: left;\">2-20080426-4</td></tr></tbody></table></div>"
      ],
      "text/latex": [
       "\\begin{tabular}{r|ccccccccccc}\n",
       "\t& customer\\_id & customer\\_name & gender\\_cd & gender & birth\\_day & age & postal\\_cd & address & application\\_store\\_cd & application\\_date & status\\_cd\\\\\n",
       "\t\\hline\n",
       "\t& String15 & String31 & Int64 & String7 & Date & Int64 & String15 & String & String7 & Int64 & String15\\\\\n",
       "\t\\hline\n",
       "\t1 & CS001215000145 & 田崎 美紀 & 1 & 女性 & 1995-03-29 & 24 & 144-0055 & 東京都大田区仲六郷********** & S13001 & 20170605 & 6-20090929-2 \\\\\n",
       "\t2 & CS033513000180 & 安斎 遥 & 1 & 女性 & 1962-07-11 & 56 & 241-0823 & 神奈川県横浜市旭区善部町********** & S14033 & 20150728 & 6-20080506-5 \\\\\n",
       "\t3 & CS011215000048 & 芦田 沙耶 & 1 & 女性 & 1992-02-01 & 27 & 223-0062 & 神奈川県横浜市港北区日吉本町********** & S14011 & 20150228 & C-20100421-9 \\\\\n",
       "\t4 & CS040412000191 & 川井 郁恵 & 1 & 女性 & 1977-01-05 & 42 & 226-0021 & 神奈川県横浜市緑区北八朔町********** & S14040 & 20151101 & 1-20091025-4 \\\\\n",
       "\t5 & CS009315000023 & 皆川 文世 & 1 & 女性 & 1980-04-15 & 38 & 154-0012 & 東京都世田谷区駒沢********** & S13009 & 20150319 & 5-20080322-1 \\\\\n",
       "\t6 & CS015315000033 & 福士 璃奈子 & 1 & 女性 & 1983-03-17 & 36 & 135-0043 & 東京都江東区塩浜********** & S13015 & 20141024 & 4-20080219-3 \\\\\n",
       "\t7 & CS023513000066 & 神戸 そら & 1 & 女性 & 1961-12-17 & 57 & 210-0005 & 神奈川県川崎市川崎区東田町********** & S14023 & 20150915 & 5-20100524-9 \\\\\n",
       "\t8 & CS035513000134 & 市川 美帆 & 1 & 女性 & 1960-03-27 & 59 & 156-0053 & 東京都世田谷区桜********** & S13035 & 20150227 & 8-20100711-9 \\\\\n",
       "\t9 & CS001515000263 & 高松 夏空 & 1 & 女性 & 1962-11-09 & 56 & 144-0051 & 東京都大田区西蒲田********** & S13001 & 20160812 & 1-20100804-1 \\\\\n",
       "\t10 & CS040314000027 & 鶴田 きみまろ & 9 & 不明 & 1986-03-26 & 33 & 226-0027 & 神奈川県横浜市緑区長津田********** & S14040 & 20150122 & 2-20080426-4 \\\\\n",
       "\\end{tabular}\n"
      ],
      "text/plain": [
       "\u001b[1m10×11 DataFrame\u001b[0m\n",
       "\u001b[1m Row \u001b[0m│\u001b[1m customer_id    \u001b[0m\u001b[1m customer_name \u001b[0m\u001b[1m gender_cd \u001b[0m\u001b[1m gender  \u001b[0m\u001b[1m birth_day  \u001b[0m\u001b[1m age   \u001b[0m\u001b[1m postal_cd \u001b[0m\u001b[1m address                           \u001b[0m\u001b[1m application_store_cd \u001b[0m\u001b[1m application_date \u001b[0m\u001b[1m status_cd    \u001b[0m\n",
       "     │\u001b[90m String15       \u001b[0m\u001b[90m String31      \u001b[0m\u001b[90m Int64     \u001b[0m\u001b[90m String7 \u001b[0m\u001b[90m Date       \u001b[0m\u001b[90m Int64 \u001b[0m\u001b[90m String15  \u001b[0m\u001b[90m String                            \u001b[0m\u001b[90m String7              \u001b[0m\u001b[90m Int64            \u001b[0m\u001b[90m String15     \u001b[0m\n",
       "─────┼──────────────────────────────────────────────────────────────────────────────────────────────────────────────────────────────────────────────────────────────────────────\n",
       "   1 │ CS001215000145  田崎 美紀              1  女性     1995-03-29     24  144-0055   東京都大田区仲六郷**********       S13001                        20170605  6-20090929-2\n",
       "   2 │ CS033513000180  安斎 遥                1  女性     1962-07-11     56  241-0823   神奈川県横浜市旭区善部町********…  S14033                        20150728  6-20080506-5\n",
       "   3 │ CS011215000048  芦田 沙耶              1  女性     1992-02-01     27  223-0062   神奈川県横浜市港北区日吉本町****…  S14011                        20150228  C-20100421-9\n",
       "   4 │ CS040412000191  川井 郁恵              1  女性     1977-01-05     42  226-0021   神奈川県横浜市緑区北八朔町******…  S14040                        20151101  1-20091025-4\n",
       "   5 │ CS009315000023  皆川 文世              1  女性     1980-04-15     38  154-0012   東京都世田谷区駒沢**********       S13009                        20150319  5-20080322-1\n",
       "   6 │ CS015315000033  福士 璃奈子            1  女性     1983-03-17     36  135-0043   東京都江東区塩浜**********         S13015                        20141024  4-20080219-3\n",
       "   7 │ CS023513000066  神戸 そら              1  女性     1961-12-17     57  210-0005   神奈川県川崎市川崎区東田町******…  S14023                        20150915  5-20100524-9\n",
       "   8 │ CS035513000134  市川 美帆              1  女性     1960-03-27     59  156-0053   東京都世田谷区桜**********         S13035                        20150227  8-20100711-9\n",
       "   9 │ CS001515000263  高松 夏空              1  女性     1962-11-09     56  144-0051   東京都大田区西蒲田**********       S13001                        20160812  1-20100804-1\n",
       "  10 │ CS040314000027  鶴田 きみまろ          9  不明     1986-03-26     33  226-0027   神奈川県横浜市緑区長津田********…  S14040                        20150122  2-20080426-4"
      ]
     },
     "execution_count": 15,
     "metadata": {},
     "output_type": "execute_result"
    }
   ],
   "source": [
    "# P-014\n",
    "@chain df_customers begin\n",
    "    @rsubset(occursin(r\"[1-9]$\", :status_cd))\n",
    "    first(10)\n",
    "end"
   ]
  },
  {
   "cell_type": "code",
   "execution_count": 16,
   "id": "5fff9a8d",
   "metadata": {},
   "outputs": [
    {
     "data": {
      "text/html": [
       "<div><div style = \"float: left;\"><span>10×11 DataFrame</span></div><div style = \"clear: both;\"></div></div><div class = \"data-frame\" style = \"overflow-x: scroll;\"><table class = \"data-frame\" style = \"margin-bottom: 6px;\"><thead><tr class = \"header\"><th class = \"rowNumber\" style = \"font-weight: bold; text-align: right;\">Row</th><th style = \"text-align: left;\">customer_id</th><th style = \"text-align: left;\">customer_name</th><th style = \"text-align: left;\">gender_cd</th><th style = \"text-align: left;\">gender</th><th style = \"text-align: left;\">birth_day</th><th style = \"text-align: left;\">age</th><th style = \"text-align: left;\">postal_cd</th><th style = \"text-align: left;\">address</th><th style = \"text-align: left;\">application_store_cd</th><th style = \"text-align: left;\">application_date</th><th style = \"text-align: left;\">status_cd</th></tr><tr class = \"subheader headerLastRow\"><th class = \"rowNumber\" style = \"font-weight: bold; text-align: right;\"></th><th title = \"String15\" style = \"text-align: left;\">String15</th><th title = \"String31\" style = \"text-align: left;\">String31</th><th title = \"Int64\" style = \"text-align: left;\">Int64</th><th title = \"String7\" style = \"text-align: left;\">String7</th><th title = \"Dates.Date\" style = \"text-align: left;\">Date</th><th title = \"Int64\" style = \"text-align: left;\">Int64</th><th title = \"String15\" style = \"text-align: left;\">String15</th><th title = \"String\" style = \"text-align: left;\">String</th><th title = \"String7\" style = \"text-align: left;\">String7</th><th title = \"Int64\" style = \"text-align: left;\">Int64</th><th title = \"String15\" style = \"text-align: left;\">String15</th></tr></thead><tbody><tr><td class = \"rowNumber\" style = \"font-weight: bold; text-align: right;\">1</td><td style = \"text-align: left;\">CS011215000048</td><td style = \"text-align: left;\">芦田 沙耶</td><td style = \"text-align: right;\">1</td><td style = \"text-align: left;\">女性</td><td style = \"text-align: left;\">1992-02-01</td><td style = \"text-align: right;\">27</td><td style = \"text-align: left;\">223-0062</td><td style = \"text-align: left;\">神奈川県横浜市港北区日吉本町**********</td><td style = \"text-align: left;\">S14011</td><td style = \"text-align: right;\">20150228</td><td style = \"text-align: left;\">C-20100421-9</td></tr><tr><td class = \"rowNumber\" style = \"font-weight: bold; text-align: right;\">2</td><td style = \"text-align: left;\">CS022513000105</td><td style = \"text-align: left;\">島村 貴美子</td><td style = \"text-align: right;\">1</td><td style = \"text-align: left;\">女性</td><td style = \"text-align: left;\">1962-03-12</td><td style = \"text-align: right;\">57</td><td style = \"text-align: left;\">249-0002</td><td style = \"text-align: left;\">神奈川県逗子市山の根**********</td><td style = \"text-align: left;\">S14022</td><td style = \"text-align: right;\">20150320</td><td style = \"text-align: left;\">A-20091115-7</td></tr><tr><td class = \"rowNumber\" style = \"font-weight: bold; text-align: right;\">3</td><td style = \"text-align: left;\">CS001515000096</td><td style = \"text-align: left;\">水野 陽子</td><td style = \"text-align: right;\">9</td><td style = \"text-align: left;\">不明</td><td style = \"text-align: left;\">1960-11-29</td><td style = \"text-align: right;\">58</td><td style = \"text-align: left;\">144-0053</td><td style = \"text-align: left;\">東京都大田区蒲田本町**********</td><td style = \"text-align: left;\">S13001</td><td style = \"text-align: right;\">20150614</td><td style = \"text-align: left;\">A-20100724-7</td></tr><tr><td class = \"rowNumber\" style = \"font-weight: bold; text-align: right;\">4</td><td style = \"text-align: left;\">CS013615000053</td><td style = \"text-align: left;\">西脇 季衣</td><td style = \"text-align: right;\">1</td><td style = \"text-align: left;\">女性</td><td style = \"text-align: left;\">1953-10-18</td><td style = \"text-align: right;\">65</td><td style = \"text-align: left;\">261-0026</td><td style = \"text-align: left;\">千葉県千葉市美浜区幕張西**********</td><td style = \"text-align: left;\">S12013</td><td style = \"text-align: right;\">20150128</td><td style = \"text-align: left;\">B-20100329-6</td></tr><tr><td class = \"rowNumber\" style = \"font-weight: bold; text-align: right;\">5</td><td style = \"text-align: left;\">CS020412000161</td><td style = \"text-align: left;\">小宮 薫</td><td style = \"text-align: right;\">1</td><td style = \"text-align: left;\">女性</td><td style = \"text-align: left;\">1974-05-21</td><td style = \"text-align: right;\">44</td><td style = \"text-align: left;\">174-0042</td><td style = \"text-align: left;\">東京都板橋区東坂下**********</td><td style = \"text-align: left;\">S13020</td><td style = \"text-align: right;\">20150822</td><td style = \"text-align: left;\">B-20081021-3</td></tr><tr><td class = \"rowNumber\" style = \"font-weight: bold; text-align: right;\">6</td><td style = \"text-align: left;\">CS001215000097</td><td style = \"text-align: left;\">竹中 あさみ</td><td style = \"text-align: right;\">1</td><td style = \"text-align: left;\">女性</td><td style = \"text-align: left;\">1990-07-25</td><td style = \"text-align: right;\">28</td><td style = \"text-align: left;\">146-0095</td><td style = \"text-align: left;\">東京都大田区多摩川**********</td><td style = \"text-align: left;\">S13001</td><td style = \"text-align: right;\">20170315</td><td style = \"text-align: left;\">A-20100211-2</td></tr><tr><td class = \"rowNumber\" style = \"font-weight: bold; text-align: right;\">7</td><td style = \"text-align: left;\">CS035212000007</td><td style = \"text-align: left;\">内村 恵梨香</td><td style = \"text-align: right;\">1</td><td style = \"text-align: left;\">女性</td><td style = \"text-align: left;\">1990-12-04</td><td style = \"text-align: right;\">28</td><td style = \"text-align: left;\">152-0023</td><td style = \"text-align: left;\">東京都目黒区八雲**********</td><td style = \"text-align: left;\">S13035</td><td style = \"text-align: right;\">20151013</td><td style = \"text-align: left;\">B-20101018-6</td></tr><tr><td class = \"rowNumber\" style = \"font-weight: bold; text-align: right;\">8</td><td style = \"text-align: left;\">CS002515000386</td><td style = \"text-align: left;\">野田 コウ</td><td style = \"text-align: right;\">1</td><td style = \"text-align: left;\">女性</td><td style = \"text-align: left;\">1963-05-30</td><td style = \"text-align: right;\">55</td><td style = \"text-align: left;\">185-0013</td><td style = \"text-align: left;\">東京都国分寺市西恋ケ窪**********</td><td style = \"text-align: left;\">S13002</td><td style = \"text-align: right;\">20160410</td><td style = \"text-align: left;\">C-20100127-8</td></tr><tr><td class = \"rowNumber\" style = \"font-weight: bold; text-align: right;\">9</td><td style = \"text-align: left;\">CS001615000372</td><td style = \"text-align: left;\">稲垣 寿々花</td><td style = \"text-align: right;\">1</td><td style = \"text-align: left;\">女性</td><td style = \"text-align: left;\">1956-10-29</td><td style = \"text-align: right;\">62</td><td style = \"text-align: left;\">144-0035</td><td style = \"text-align: left;\">東京都大田区南蒲田**********</td><td style = \"text-align: left;\">S13001</td><td style = \"text-align: right;\">20170403</td><td style = \"text-align: left;\">A-20100104-1</td></tr><tr><td class = \"rowNumber\" style = \"font-weight: bold; text-align: right;\">10</td><td style = \"text-align: left;\">CS032512000121</td><td style = \"text-align: left;\">松井 知世</td><td style = \"text-align: right;\">1</td><td style = \"text-align: left;\">女性</td><td style = \"text-align: left;\">1962-09-04</td><td style = \"text-align: right;\">56</td><td style = \"text-align: left;\">210-0011</td><td style = \"text-align: left;\">神奈川県川崎市川崎区富士見**********</td><td style = \"text-align: left;\">S13032</td><td style = \"text-align: right;\">20150727</td><td style = \"text-align: left;\">A-20100103-5</td></tr></tbody></table></div>"
      ],
      "text/latex": [
       "\\begin{tabular}{r|ccccccccccc}\n",
       "\t& customer\\_id & customer\\_name & gender\\_cd & gender & birth\\_day & age & postal\\_cd & address & application\\_store\\_cd & application\\_date & status\\_cd\\\\\n",
       "\t\\hline\n",
       "\t& String15 & String31 & Int64 & String7 & Date & Int64 & String15 & String & String7 & Int64 & String15\\\\\n",
       "\t\\hline\n",
       "\t1 & CS011215000048 & 芦田 沙耶 & 1 & 女性 & 1992-02-01 & 27 & 223-0062 & 神奈川県横浜市港北区日吉本町********** & S14011 & 20150228 & C-20100421-9 \\\\\n",
       "\t2 & CS022513000105 & 島村 貴美子 & 1 & 女性 & 1962-03-12 & 57 & 249-0002 & 神奈川県逗子市山の根********** & S14022 & 20150320 & A-20091115-7 \\\\\n",
       "\t3 & CS001515000096 & 水野 陽子 & 9 & 不明 & 1960-11-29 & 58 & 144-0053 & 東京都大田区蒲田本町********** & S13001 & 20150614 & A-20100724-7 \\\\\n",
       "\t4 & CS013615000053 & 西脇 季衣 & 1 & 女性 & 1953-10-18 & 65 & 261-0026 & 千葉県千葉市美浜区幕張西********** & S12013 & 20150128 & B-20100329-6 \\\\\n",
       "\t5 & CS020412000161 & 小宮 薫 & 1 & 女性 & 1974-05-21 & 44 & 174-0042 & 東京都板橋区東坂下********** & S13020 & 20150822 & B-20081021-3 \\\\\n",
       "\t6 & CS001215000097 & 竹中 あさみ & 1 & 女性 & 1990-07-25 & 28 & 146-0095 & 東京都大田区多摩川********** & S13001 & 20170315 & A-20100211-2 \\\\\n",
       "\t7 & CS035212000007 & 内村 恵梨香 & 1 & 女性 & 1990-12-04 & 28 & 152-0023 & 東京都目黒区八雲********** & S13035 & 20151013 & B-20101018-6 \\\\\n",
       "\t8 & CS002515000386 & 野田 コウ & 1 & 女性 & 1963-05-30 & 55 & 185-0013 & 東京都国分寺市西恋ケ窪********** & S13002 & 20160410 & C-20100127-8 \\\\\n",
       "\t9 & CS001615000372 & 稲垣 寿々花 & 1 & 女性 & 1956-10-29 & 62 & 144-0035 & 東京都大田区南蒲田********** & S13001 & 20170403 & A-20100104-1 \\\\\n",
       "\t10 & CS032512000121 & 松井 知世 & 1 & 女性 & 1962-09-04 & 56 & 210-0011 & 神奈川県川崎市川崎区富士見********** & S13032 & 20150727 & A-20100103-5 \\\\\n",
       "\\end{tabular}\n"
      ],
      "text/plain": [
       "\u001b[1m10×11 DataFrame\u001b[0m\n",
       "\u001b[1m Row \u001b[0m│\u001b[1m customer_id    \u001b[0m\u001b[1m customer_name \u001b[0m\u001b[1m gender_cd \u001b[0m\u001b[1m gender  \u001b[0m\u001b[1m birth_day  \u001b[0m\u001b[1m age   \u001b[0m\u001b[1m postal_cd \u001b[0m\u001b[1m address                           \u001b[0m\u001b[1m application_store_cd \u001b[0m\u001b[1m application_date \u001b[0m\u001b[1m status_cd    \u001b[0m\n",
       "     │\u001b[90m String15       \u001b[0m\u001b[90m String31      \u001b[0m\u001b[90m Int64     \u001b[0m\u001b[90m String7 \u001b[0m\u001b[90m Date       \u001b[0m\u001b[90m Int64 \u001b[0m\u001b[90m String15  \u001b[0m\u001b[90m String                            \u001b[0m\u001b[90m String7              \u001b[0m\u001b[90m Int64            \u001b[0m\u001b[90m String15     \u001b[0m\n",
       "─────┼──────────────────────────────────────────────────────────────────────────────────────────────────────────────────────────────────────────────────────────────────────────\n",
       "   1 │ CS011215000048  芦田 沙耶              1  女性     1992-02-01     27  223-0062   神奈川県横浜市港北区日吉本町****…  S14011                        20150228  C-20100421-9\n",
       "   2 │ CS022513000105  島村 貴美子            1  女性     1962-03-12     57  249-0002   神奈川県逗子市山の根**********     S14022                        20150320  A-20091115-7\n",
       "   3 │ CS001515000096  水野 陽子              9  不明     1960-11-29     58  144-0053   東京都大田区蒲田本町**********     S13001                        20150614  A-20100724-7\n",
       "   4 │ CS013615000053  西脇 季衣              1  女性     1953-10-18     65  261-0026   千葉県千葉市美浜区幕張西********…  S12013                        20150128  B-20100329-6\n",
       "   5 │ CS020412000161  小宮 薫                1  女性     1974-05-21     44  174-0042   東京都板橋区東坂下**********       S13020                        20150822  B-20081021-3\n",
       "   6 │ CS001215000097  竹中 あさみ            1  女性     1990-07-25     28  146-0095   東京都大田区多摩川**********       S13001                        20170315  A-20100211-2\n",
       "   7 │ CS035212000007  内村 恵梨香            1  女性     1990-12-04     28  152-0023   東京都目黒区八雲**********         S13035                        20151013  B-20101018-6\n",
       "   8 │ CS002515000386  野田 コウ              1  女性     1963-05-30     55  185-0013   東京都国分寺市西恋ケ窪**********   S13002                        20160410  C-20100127-8\n",
       "   9 │ CS001615000372  稲垣 寿々花            1  女性     1956-10-29     62  144-0035   東京都大田区南蒲田**********       S13001                        20170403  A-20100104-1\n",
       "  10 │ CS032512000121  松井 知世              1  女性     1962-09-04     56  210-0011   神奈川県川崎市川崎区富士見******…  S13032                        20150727  A-20100103-5"
      ]
     },
     "execution_count": 16,
     "metadata": {},
     "output_type": "execute_result"
    }
   ],
   "source": [
    "# P-015\n",
    "@chain df_customers begin\n",
    "    @rsubset(occursin(r\"^[A-F].*[1-9]$\", :status_cd))\n",
    "    first(10)\n",
    "end"
   ]
  },
  {
   "cell_type": "code",
   "execution_count": 17,
   "id": "942d64ae",
   "metadata": {},
   "outputs": [
    {
     "data": {
      "text/html": [
       "<div><div style = \"float: left;\"><span>10×10 DataFrame</span></div><div style = \"clear: both;\"></div></div><div class = \"data-frame\" style = \"overflow-x: scroll;\"><table class = \"data-frame\" style = \"margin-bottom: 6px;\"><thead><tr class = \"header\"><th class = \"rowNumber\" style = \"font-weight: bold; text-align: right;\">Row</th><th style = \"text-align: left;\">store_cd</th><th style = \"text-align: left;\">store_name</th><th style = \"text-align: left;\">prefecture_cd</th><th style = \"text-align: left;\">prefecture</th><th style = \"text-align: left;\">address</th><th style = \"text-align: left;\">address_kana</th><th style = \"text-align: left;\">tel_no</th><th style = \"text-align: left;\">longitude</th><th style = \"text-align: left;\">latitude</th><th style = \"text-align: left;\">floor_area</th></tr><tr class = \"subheader headerLastRow\"><th class = \"rowNumber\" style = \"font-weight: bold; text-align: right;\"></th><th title = \"String7\" style = \"text-align: left;\">String7</th><th title = \"String31\" style = \"text-align: left;\">String31</th><th title = \"Int64\" style = \"text-align: left;\">Int64</th><th title = \"String15\" style = \"text-align: left;\">String15</th><th title = \"String\" style = \"text-align: left;\">String</th><th title = \"String\" style = \"text-align: left;\">String</th><th title = \"String15\" style = \"text-align: left;\">String15</th><th title = \"Float64\" style = \"text-align: left;\">Float64</th><th title = \"Float64\" style = \"text-align: left;\">Float64</th><th title = \"Float64\" style = \"text-align: left;\">Float64</th></tr></thead><tbody><tr><td class = \"rowNumber\" style = \"font-weight: bold; text-align: right;\">1</td><td style = \"text-align: left;\">S12014</td><td style = \"text-align: left;\">千草台店</td><td style = \"text-align: right;\">12</td><td style = \"text-align: left;\">千葉県</td><td style = \"text-align: left;\">千葉県千葉市稲毛区千草台一丁目</td><td style = \"text-align: left;\">チバケンチバシイナゲクチグサダイイッチョウメ</td><td style = \"text-align: left;\">043-123-4003</td><td style = \"text-align: right;\">140.118</td><td style = \"text-align: right;\">35.6356</td><td style = \"text-align: right;\">1698.0</td></tr><tr><td class = \"rowNumber\" style = \"font-weight: bold; text-align: right;\">2</td><td style = \"text-align: left;\">S13002</td><td style = \"text-align: left;\">国分寺店</td><td style = \"text-align: right;\">13</td><td style = \"text-align: left;\">東京都</td><td style = \"text-align: left;\">東京都国分寺市本多二丁目</td><td style = \"text-align: left;\">トウキョウトコクブンジシホンダニチョウメ</td><td style = \"text-align: left;\">042-123-4008</td><td style = \"text-align: right;\">139.48</td><td style = \"text-align: right;\">35.7057</td><td style = \"text-align: right;\">1735.0</td></tr><tr><td class = \"rowNumber\" style = \"font-weight: bold; text-align: right;\">3</td><td style = \"text-align: left;\">S14010</td><td style = \"text-align: left;\">菊名店</td><td style = \"text-align: right;\">14</td><td style = \"text-align: left;\">神奈川県</td><td style = \"text-align: left;\">神奈川県横浜市港北区菊名一丁目</td><td style = \"text-align: left;\">カナガワケンヨコハマシコウホククキクナイッチョウメ</td><td style = \"text-align: left;\">045-123-4032</td><td style = \"text-align: right;\">139.633</td><td style = \"text-align: right;\">35.5005</td><td style = \"text-align: right;\">1732.0</td></tr><tr><td class = \"rowNumber\" style = \"font-weight: bold; text-align: right;\">4</td><td style = \"text-align: left;\">S14033</td><td style = \"text-align: left;\">阿久和店</td><td style = \"text-align: right;\">14</td><td style = \"text-align: left;\">神奈川県</td><td style = \"text-align: left;\">神奈川県横浜市瀬谷区阿久和西一丁目</td><td style = \"text-align: left;\">カナガワケンヨコハマシセヤクアクワニシイッチョウメ</td><td style = \"text-align: left;\">045-123-4043</td><td style = \"text-align: right;\">139.496</td><td style = \"text-align: right;\">35.4592</td><td style = \"text-align: right;\">1495.0</td></tr><tr><td class = \"rowNumber\" style = \"font-weight: bold; text-align: right;\">5</td><td style = \"text-align: left;\">S14036</td><td style = \"text-align: left;\">相模原中央店</td><td style = \"text-align: right;\">14</td><td style = \"text-align: left;\">神奈川県</td><td style = \"text-align: left;\">神奈川県相模原市中央二丁目</td><td style = \"text-align: left;\">カナガワケンサガミハラシチュウオウニチョウメ</td><td style = \"text-align: left;\">042-123-4045</td><td style = \"text-align: right;\">139.372</td><td style = \"text-align: right;\">35.5733</td><td style = \"text-align: right;\">1679.0</td></tr><tr><td class = \"rowNumber\" style = \"font-weight: bold; text-align: right;\">6</td><td style = \"text-align: left;\">S14040</td><td style = \"text-align: left;\">長津田店</td><td style = \"text-align: right;\">14</td><td style = \"text-align: left;\">神奈川県</td><td style = \"text-align: left;\">神奈川県横浜市緑区長津田みなみ台五丁目</td><td style = \"text-align: left;\">カナガワケンヨコハマシミドリクナガツタミナミダイゴチョウメ</td><td style = \"text-align: left;\">045-123-4046</td><td style = \"text-align: right;\">139.499</td><td style = \"text-align: right;\">35.524</td><td style = \"text-align: right;\">1548.0</td></tr><tr><td class = \"rowNumber\" style = \"font-weight: bold; text-align: right;\">7</td><td style = \"text-align: left;\">S14050</td><td style = \"text-align: left;\">阿久和西店</td><td style = \"text-align: right;\">14</td><td style = \"text-align: left;\">神奈川県</td><td style = \"text-align: left;\">神奈川県横浜市瀬谷区阿久和西一丁目</td><td style = \"text-align: left;\">カナガワケンヨコハマシセヤクアクワニシイッチョウメ</td><td style = \"text-align: left;\">045-123-4053</td><td style = \"text-align: right;\">139.496</td><td style = \"text-align: right;\">35.4592</td><td style = \"text-align: right;\">1830.0</td></tr><tr><td class = \"rowNumber\" style = \"font-weight: bold; text-align: right;\">8</td><td style = \"text-align: left;\">S13052</td><td style = \"text-align: left;\">森野店</td><td style = \"text-align: right;\">13</td><td style = \"text-align: left;\">東京都</td><td style = \"text-align: left;\">東京都町田市森野三丁目</td><td style = \"text-align: left;\">トウキョウトマチダシモリノサンチョウメ</td><td style = \"text-align: left;\">042-123-4030</td><td style = \"text-align: right;\">139.438</td><td style = \"text-align: right;\">35.5529</td><td style = \"text-align: right;\">1087.0</td></tr><tr><td class = \"rowNumber\" style = \"font-weight: bold; text-align: right;\">9</td><td style = \"text-align: left;\">S14028</td><td style = \"text-align: left;\">二ツ橋店</td><td style = \"text-align: right;\">14</td><td style = \"text-align: left;\">神奈川県</td><td style = \"text-align: left;\">神奈川県横浜市瀬谷区二ツ橋町</td><td style = \"text-align: left;\">カナガワケンヨコハマシセヤクフタツバシチョウ</td><td style = \"text-align: left;\">045-123-4042</td><td style = \"text-align: right;\">139.496</td><td style = \"text-align: right;\">35.463</td><td style = \"text-align: right;\">1574.0</td></tr><tr><td class = \"rowNumber\" style = \"font-weight: bold; text-align: right;\">10</td><td style = \"text-align: left;\">S14012</td><td style = \"text-align: left;\">本牧和田店</td><td style = \"text-align: right;\">14</td><td style = \"text-align: left;\">神奈川県</td><td style = \"text-align: left;\">神奈川県横浜市中区本牧和田</td><td style = \"text-align: left;\">カナガワケンヨコハマシナカクホンモクワダ</td><td style = \"text-align: left;\">045-123-4034</td><td style = \"text-align: right;\">139.658</td><td style = \"text-align: right;\">35.4216</td><td style = \"text-align: right;\">1341.0</td></tr></tbody></table></div>"
      ],
      "text/latex": [
       "\\begin{tabular}{r|cccccccccc}\n",
       "\t& store\\_cd & store\\_name & prefecture\\_cd & prefecture & address & address\\_kana & tel\\_no & longitude & latitude & floor\\_area\\\\\n",
       "\t\\hline\n",
       "\t& String7 & String31 & Int64 & String15 & String & String & String15 & Float64 & Float64 & Float64\\\\\n",
       "\t\\hline\n",
       "\t1 & S12014 & 千草台店 & 12 & 千葉県 & 千葉県千葉市稲毛区千草台一丁目 & チバケンチバシイナゲクチグサダイイッチョウメ & 043-123-4003 & 140.118 & 35.6356 & 1698.0 \\\\\n",
       "\t2 & S13002 & 国分寺店 & 13 & 東京都 & 東京都国分寺市本多二丁目 & トウキョウトコクブンジシホンダニチョウメ & 042-123-4008 & 139.48 & 35.7057 & 1735.0 \\\\\n",
       "\t3 & S14010 & 菊名店 & 14 & 神奈川県 & 神奈川県横浜市港北区菊名一丁目 & カナガワケンヨコハマシコウホククキクナイッチョウメ & 045-123-4032 & 139.633 & 35.5005 & 1732.0 \\\\\n",
       "\t4 & S14033 & 阿久和店 & 14 & 神奈川県 & 神奈川県横浜市瀬谷区阿久和西一丁目 & カナガワケンヨコハマシセヤクアクワニシイッチョウメ & 045-123-4043 & 139.496 & 35.4592 & 1495.0 \\\\\n",
       "\t5 & S14036 & 相模原中央店 & 14 & 神奈川県 & 神奈川県相模原市中央二丁目 & カナガワケンサガミハラシチュウオウニチョウメ & 042-123-4045 & 139.372 & 35.5733 & 1679.0 \\\\\n",
       "\t6 & S14040 & 長津田店 & 14 & 神奈川県 & 神奈川県横浜市緑区長津田みなみ台五丁目 & カナガワケンヨコハマシミドリクナガツタミナミダイゴチョウメ & 045-123-4046 & 139.499 & 35.524 & 1548.0 \\\\\n",
       "\t7 & S14050 & 阿久和西店 & 14 & 神奈川県 & 神奈川県横浜市瀬谷区阿久和西一丁目 & カナガワケンヨコハマシセヤクアクワニシイッチョウメ & 045-123-4053 & 139.496 & 35.4592 & 1830.0 \\\\\n",
       "\t8 & S13052 & 森野店 & 13 & 東京都 & 東京都町田市森野三丁目 & トウキョウトマチダシモリノサンチョウメ & 042-123-4030 & 139.438 & 35.5529 & 1087.0 \\\\\n",
       "\t9 & S14028 & 二ツ橋店 & 14 & 神奈川県 & 神奈川県横浜市瀬谷区二ツ橋町 & カナガワケンヨコハマシセヤクフタツバシチョウ & 045-123-4042 & 139.496 & 35.463 & 1574.0 \\\\\n",
       "\t10 & S14012 & 本牧和田店 & 14 & 神奈川県 & 神奈川県横浜市中区本牧和田 & カナガワケンヨコハマシナカクホンモクワダ & 045-123-4034 & 139.658 & 35.4216 & 1341.0 \\\\\n",
       "\\end{tabular}\n"
      ],
      "text/plain": [
       "\u001b[1m10×10 DataFrame\u001b[0m\n",
       "\u001b[1m Row \u001b[0m│\u001b[1m store_cd \u001b[0m\u001b[1m store_name   \u001b[0m\u001b[1m prefecture_cd \u001b[0m\u001b[1m prefecture \u001b[0m\u001b[1m address                           \u001b[0m\u001b[1m address_kana                      \u001b[0m\u001b[1m tel_no       \u001b[0m\u001b[1m longitude \u001b[0m\u001b[1m latitude \u001b[0m\u001b[1m floor_area \u001b[0m\n",
       "     │\u001b[90m String7  \u001b[0m\u001b[90m String31     \u001b[0m\u001b[90m Int64         \u001b[0m\u001b[90m String15   \u001b[0m\u001b[90m String                            \u001b[0m\u001b[90m String                            \u001b[0m\u001b[90m String15     \u001b[0m\u001b[90m Float64   \u001b[0m\u001b[90m Float64  \u001b[0m\u001b[90m Float64    \u001b[0m\n",
       "─────┼────────────────────────────────────────────────────────────────────────────────────────────────────────────────────────────────────────────────────────────────────────\n",
       "   1 │ S12014    千草台店                 12  千葉県      千葉県千葉市稲毛区千草台一丁目     チバケンチバシイナゲクチグサダイ…  043-123-4003    140.118   35.6356      1698.0\n",
       "   2 │ S13002    国分寺店                 13  東京都      東京都国分寺市本多二丁目           トウキョウトコクブンジシホンダニ…  042-123-4008    139.48    35.7057      1735.0\n",
       "   3 │ S14010    菊名店                   14  神奈川県    神奈川県横浜市港北区菊名一丁目     カナガワケンヨコハマシコウホクク…  045-123-4032    139.633   35.5005      1732.0\n",
       "   4 │ S14033    阿久和店                 14  神奈川県    神奈川県横浜市瀬谷区阿久和西一丁…  カナガワケンヨコハマシセヤクアク…  045-123-4043    139.496   35.4592      1495.0\n",
       "   5 │ S14036    相模原中央店             14  神奈川県    神奈川県相模原市中央二丁目         カナガワケンサガミハラシチュウオ…  042-123-4045    139.372   35.5733      1679.0\n",
       "   6 │ S14040    長津田店                 14  神奈川県    神奈川県横浜市緑区長津田みなみ台…  カナガワケンヨコハマシミドリクナ…  045-123-4046    139.499   35.524       1548.0\n",
       "   7 │ S14050    阿久和西店               14  神奈川県    神奈川県横浜市瀬谷区阿久和西一丁…  カナガワケンヨコハマシセヤクアク…  045-123-4053    139.496   35.4592      1830.0\n",
       "   8 │ S13052    森野店                   13  東京都      東京都町田市森野三丁目             トウキョウトマチダシモリノサンチ…  042-123-4030    139.438   35.5529      1087.0\n",
       "   9 │ S14028    二ツ橋店                 14  神奈川県    神奈川県横浜市瀬谷区二ツ橋町       カナガワケンヨコハマシセヤクフタ…  045-123-4042    139.496   35.463       1574.0\n",
       "  10 │ S14012    本牧和田店               14  神奈川県    神奈川県横浜市中区本牧和田         カナガワケンヨコハマシナカクホン…  045-123-4034    139.658   35.4216      1341.0"
      ]
     },
     "execution_count": 17,
     "metadata": {},
     "output_type": "execute_result"
    }
   ],
   "source": [
    "# P-016\n",
    "@chain df_stores begin\n",
    "    @rsubset(occursin(r\"\\d{3}-\\d{3}-\\d{4}\", :tel_no))\n",
    "    first(10)\n",
    "end"
   ]
  },
  {
   "cell_type": "code",
   "execution_count": 18,
   "id": "49885127",
   "metadata": {},
   "outputs": [
    {
     "data": {
      "text/html": [
       "<div><div style = \"float: left;\"><span>10×11 DataFrame</span></div><div style = \"clear: both;\"></div></div><div class = \"data-frame\" style = \"overflow-x: scroll;\"><table class = \"data-frame\" style = \"margin-bottom: 6px;\"><thead><tr class = \"header\"><th class = \"rowNumber\" style = \"font-weight: bold; text-align: right;\">Row</th><th style = \"text-align: left;\">customer_id</th><th style = \"text-align: left;\">customer_name</th><th style = \"text-align: left;\">gender_cd</th><th style = \"text-align: left;\">gender</th><th style = \"text-align: left;\">birth_day</th><th style = \"text-align: left;\">age</th><th style = \"text-align: left;\">postal_cd</th><th style = \"text-align: left;\">address</th><th style = \"text-align: left;\">application_store_cd</th><th style = \"text-align: left;\">application_date</th><th style = \"text-align: left;\">status_cd</th></tr><tr class = \"subheader headerLastRow\"><th class = \"rowNumber\" style = \"font-weight: bold; text-align: right;\"></th><th title = \"String15\" style = \"text-align: left;\">String15</th><th title = \"String31\" style = \"text-align: left;\">String31</th><th title = \"Int64\" style = \"text-align: left;\">Int64</th><th title = \"String7\" style = \"text-align: left;\">String7</th><th title = \"Dates.Date\" style = \"text-align: left;\">Date</th><th title = \"Int64\" style = \"text-align: left;\">Int64</th><th title = \"String15\" style = \"text-align: left;\">String15</th><th title = \"String\" style = \"text-align: left;\">String</th><th title = \"String7\" style = \"text-align: left;\">String7</th><th title = \"Int64\" style = \"text-align: left;\">Int64</th><th title = \"String15\" style = \"text-align: left;\">String15</th></tr></thead><tbody><tr><td class = \"rowNumber\" style = \"font-weight: bold; text-align: right;\">1</td><td style = \"text-align: left;\">CS003813000014</td><td style = \"text-align: left;\">村山 菜々美</td><td style = \"text-align: right;\">1</td><td style = \"text-align: left;\">女性</td><td style = \"text-align: left;\">1928-11-26</td><td style = \"text-align: right;\">90</td><td style = \"text-align: left;\">182-0007</td><td style = \"text-align: left;\">東京都調布市菊野台**********</td><td style = \"text-align: left;\">S13003</td><td style = \"text-align: right;\">20160214</td><td style = \"text-align: left;\">0-00000000-0</td></tr><tr><td class = \"rowNumber\" style = \"font-weight: bold; text-align: right;\">2</td><td style = \"text-align: left;\">CS026813000004</td><td style = \"text-align: left;\">吉村 朝陽</td><td style = \"text-align: right;\">1</td><td style = \"text-align: left;\">女性</td><td style = \"text-align: left;\">1928-12-14</td><td style = \"text-align: right;\">90</td><td style = \"text-align: left;\">251-0043</td><td style = \"text-align: left;\">神奈川県藤沢市辻堂元町**********</td><td style = \"text-align: left;\">S14026</td><td style = \"text-align: right;\">20150723</td><td style = \"text-align: left;\">0-00000000-0</td></tr><tr><td class = \"rowNumber\" style = \"font-weight: bold; text-align: right;\">3</td><td style = \"text-align: left;\">CS018811000003</td><td style = \"text-align: left;\">熊沢 美里</td><td style = \"text-align: right;\">1</td><td style = \"text-align: left;\">女性</td><td style = \"text-align: left;\">1929-01-07</td><td style = \"text-align: right;\">90</td><td style = \"text-align: left;\">204-0004</td><td style = \"text-align: left;\">東京都清瀬市野塩**********</td><td style = \"text-align: left;\">S13018</td><td style = \"text-align: right;\">20150403</td><td style = \"text-align: left;\">0-00000000-0</td></tr><tr><td class = \"rowNumber\" style = \"font-weight: bold; text-align: right;\">4</td><td style = \"text-align: left;\">CS027803000004</td><td style = \"text-align: left;\">内村 拓郎</td><td style = \"text-align: right;\">0</td><td style = \"text-align: left;\">男性</td><td style = \"text-align: left;\">1929-01-12</td><td style = \"text-align: right;\">90</td><td style = \"text-align: left;\">251-0031</td><td style = \"text-align: left;\">神奈川県藤沢市鵠沼藤が谷**********</td><td style = \"text-align: left;\">S14027</td><td style = \"text-align: right;\">20151227</td><td style = \"text-align: left;\">0-00000000-0</td></tr><tr><td class = \"rowNumber\" style = \"font-weight: bold; text-align: right;\">5</td><td style = \"text-align: left;\">CS013801000003</td><td style = \"text-align: left;\">天野 拓郎</td><td style = \"text-align: right;\">0</td><td style = \"text-align: left;\">男性</td><td style = \"text-align: left;\">1929-01-15</td><td style = \"text-align: right;\">90</td><td style = \"text-align: left;\">274-0824</td><td style = \"text-align: left;\">千葉県船橋市前原東**********</td><td style = \"text-align: left;\">S12013</td><td style = \"text-align: right;\">20160120</td><td style = \"text-align: left;\">0-00000000-0</td></tr><tr><td class = \"rowNumber\" style = \"font-weight: bold; text-align: right;\">6</td><td style = \"text-align: left;\">CS001814000022</td><td style = \"text-align: left;\">鶴田 里穂</td><td style = \"text-align: right;\">1</td><td style = \"text-align: left;\">女性</td><td style = \"text-align: left;\">1929-01-28</td><td style = \"text-align: right;\">90</td><td style = \"text-align: left;\">144-0045</td><td style = \"text-align: left;\">東京都大田区南六郷**********</td><td style = \"text-align: left;\">S13001</td><td style = \"text-align: right;\">20161012</td><td style = \"text-align: left;\">A-20090415-7</td></tr><tr><td class = \"rowNumber\" style = \"font-weight: bold; text-align: right;\">7</td><td style = \"text-align: left;\">CS016815000002</td><td style = \"text-align: left;\">山元 美紀</td><td style = \"text-align: right;\">1</td><td style = \"text-align: left;\">女性</td><td style = \"text-align: left;\">1929-02-22</td><td style = \"text-align: right;\">90</td><td style = \"text-align: left;\">184-0005</td><td style = \"text-align: left;\">東京都小金井市桜町**********</td><td style = \"text-align: left;\">S13016</td><td style = \"text-align: right;\">20150629</td><td style = \"text-align: left;\">C-20090923-C</td></tr><tr><td class = \"rowNumber\" style = \"font-weight: bold; text-align: right;\">8</td><td style = \"text-align: left;\">CS009815000003</td><td style = \"text-align: left;\">中田 里穂</td><td style = \"text-align: right;\">1</td><td style = \"text-align: left;\">女性</td><td style = \"text-align: left;\">1929-04-08</td><td style = \"text-align: right;\">89</td><td style = \"text-align: left;\">154-0014</td><td style = \"text-align: left;\">東京都世田谷区新町**********</td><td style = \"text-align: left;\">S13009</td><td style = \"text-align: right;\">20150421</td><td style = \"text-align: left;\">D-20091021-E</td></tr><tr><td class = \"rowNumber\" style = \"font-weight: bold; text-align: right;\">9</td><td style = \"text-align: left;\">CS012813000013</td><td style = \"text-align: left;\">宇野 南朋</td><td style = \"text-align: right;\">1</td><td style = \"text-align: left;\">女性</td><td style = \"text-align: left;\">1929-04-09</td><td style = \"text-align: right;\">89</td><td style = \"text-align: left;\">231-0806</td><td style = \"text-align: left;\">神奈川県横浜市中区本牧町**********</td><td style = \"text-align: left;\">S14012</td><td style = \"text-align: right;\">20150712</td><td style = \"text-align: left;\">0-00000000-0</td></tr><tr><td class = \"rowNumber\" style = \"font-weight: bold; text-align: right;\">10</td><td style = \"text-align: left;\">CS005813000015</td><td style = \"text-align: left;\">金谷 恵梨香</td><td style = \"text-align: right;\">1</td><td style = \"text-align: left;\">女性</td><td style = \"text-align: left;\">1929-04-09</td><td style = \"text-align: right;\">89</td><td style = \"text-align: left;\">165-0032</td><td style = \"text-align: left;\">東京都中野区鷺宮**********</td><td style = \"text-align: left;\">S13005</td><td style = \"text-align: right;\">20150506</td><td style = \"text-align: left;\">0-00000000-0</td></tr></tbody></table></div>"
      ],
      "text/latex": [
       "\\begin{tabular}{r|ccccccccccc}\n",
       "\t& customer\\_id & customer\\_name & gender\\_cd & gender & birth\\_day & age & postal\\_cd & address & application\\_store\\_cd & application\\_date & status\\_cd\\\\\n",
       "\t\\hline\n",
       "\t& String15 & String31 & Int64 & String7 & Date & Int64 & String15 & String & String7 & Int64 & String15\\\\\n",
       "\t\\hline\n",
       "\t1 & CS003813000014 & 村山 菜々美 & 1 & 女性 & 1928-11-26 & 90 & 182-0007 & 東京都調布市菊野台********** & S13003 & 20160214 & 0-00000000-0 \\\\\n",
       "\t2 & CS026813000004 & 吉村 朝陽 & 1 & 女性 & 1928-12-14 & 90 & 251-0043 & 神奈川県藤沢市辻堂元町********** & S14026 & 20150723 & 0-00000000-0 \\\\\n",
       "\t3 & CS018811000003 & 熊沢 美里 & 1 & 女性 & 1929-01-07 & 90 & 204-0004 & 東京都清瀬市野塩********** & S13018 & 20150403 & 0-00000000-0 \\\\\n",
       "\t4 & CS027803000004 & 内村 拓郎 & 0 & 男性 & 1929-01-12 & 90 & 251-0031 & 神奈川県藤沢市鵠沼藤が谷********** & S14027 & 20151227 & 0-00000000-0 \\\\\n",
       "\t5 & CS013801000003 & 天野 拓郎 & 0 & 男性 & 1929-01-15 & 90 & 274-0824 & 千葉県船橋市前原東********** & S12013 & 20160120 & 0-00000000-0 \\\\\n",
       "\t6 & CS001814000022 & 鶴田 里穂 & 1 & 女性 & 1929-01-28 & 90 & 144-0045 & 東京都大田区南六郷********** & S13001 & 20161012 & A-20090415-7 \\\\\n",
       "\t7 & CS016815000002 & 山元 美紀 & 1 & 女性 & 1929-02-22 & 90 & 184-0005 & 東京都小金井市桜町********** & S13016 & 20150629 & C-20090923-C \\\\\n",
       "\t8 & CS009815000003 & 中田 里穂 & 1 & 女性 & 1929-04-08 & 89 & 154-0014 & 東京都世田谷区新町********** & S13009 & 20150421 & D-20091021-E \\\\\n",
       "\t9 & CS012813000013 & 宇野 南朋 & 1 & 女性 & 1929-04-09 & 89 & 231-0806 & 神奈川県横浜市中区本牧町********** & S14012 & 20150712 & 0-00000000-0 \\\\\n",
       "\t10 & CS005813000015 & 金谷 恵梨香 & 1 & 女性 & 1929-04-09 & 89 & 165-0032 & 東京都中野区鷺宮********** & S13005 & 20150506 & 0-00000000-0 \\\\\n",
       "\\end{tabular}\n"
      ],
      "text/plain": [
       "\u001b[1m10×11 DataFrame\u001b[0m\n",
       "\u001b[1m Row \u001b[0m│\u001b[1m customer_id    \u001b[0m\u001b[1m customer_name \u001b[0m\u001b[1m gender_cd \u001b[0m\u001b[1m gender  \u001b[0m\u001b[1m birth_day  \u001b[0m\u001b[1m age   \u001b[0m\u001b[1m postal_cd \u001b[0m\u001b[1m address                           \u001b[0m\u001b[1m application_store_cd \u001b[0m\u001b[1m application_date \u001b[0m\u001b[1m status_cd    \u001b[0m\n",
       "     │\u001b[90m String15       \u001b[0m\u001b[90m String31      \u001b[0m\u001b[90m Int64     \u001b[0m\u001b[90m String7 \u001b[0m\u001b[90m Date       \u001b[0m\u001b[90m Int64 \u001b[0m\u001b[90m String15  \u001b[0m\u001b[90m String                            \u001b[0m\u001b[90m String7              \u001b[0m\u001b[90m Int64            \u001b[0m\u001b[90m String15     \u001b[0m\n",
       "─────┼──────────────────────────────────────────────────────────────────────────────────────────────────────────────────────────────────────────────────────────────────────────\n",
       "   1 │ CS003813000014  村山 菜々美            1  女性     1928-11-26     90  182-0007   東京都調布市菊野台**********       S13003                        20160214  0-00000000-0\n",
       "   2 │ CS026813000004  吉村 朝陽              1  女性     1928-12-14     90  251-0043   神奈川県藤沢市辻堂元町**********   S14026                        20150723  0-00000000-0\n",
       "   3 │ CS018811000003  熊沢 美里              1  女性     1929-01-07     90  204-0004   東京都清瀬市野塩**********         S13018                        20150403  0-00000000-0\n",
       "   4 │ CS027803000004  内村 拓郎              0  男性     1929-01-12     90  251-0031   神奈川県藤沢市鵠沼藤が谷********…  S14027                        20151227  0-00000000-0\n",
       "   5 │ CS013801000003  天野 拓郎              0  男性     1929-01-15     90  274-0824   千葉県船橋市前原東**********       S12013                        20160120  0-00000000-0\n",
       "   6 │ CS001814000022  鶴田 里穂              1  女性     1929-01-28     90  144-0045   東京都大田区南六郷**********       S13001                        20161012  A-20090415-7\n",
       "   7 │ CS016815000002  山元 美紀              1  女性     1929-02-22     90  184-0005   東京都小金井市桜町**********       S13016                        20150629  C-20090923-C\n",
       "   8 │ CS009815000003  中田 里穂              1  女性     1929-04-08     89  154-0014   東京都世田谷区新町**********       S13009                        20150421  D-20091021-E\n",
       "   9 │ CS012813000013  宇野 南朋              1  女性     1929-04-09     89  231-0806   神奈川県横浜市中区本牧町********…  S14012                        20150712  0-00000000-0\n",
       "  10 │ CS005813000015  金谷 恵梨香            1  女性     1929-04-09     89  165-0032   東京都中野区鷺宮**********         S13005                        20150506  0-00000000-0"
      ]
     },
     "execution_count": 18,
     "metadata": {},
     "output_type": "execute_result"
    }
   ],
   "source": [
    "# P-017\n",
    "@chain df_customers begin\n",
    "    @orderby(:birth_day)\n",
    "    first(10)\n",
    "end"
   ]
  },
  {
   "cell_type": "code",
   "execution_count": 19,
   "id": "9fc3969f",
   "metadata": {},
   "outputs": [
    {
     "data": {
      "text/html": [
       "<div><div style = \"float: left;\"><span>10×11 DataFrame</span></div><div style = \"clear: both;\"></div></div><div class = \"data-frame\" style = \"overflow-x: scroll;\"><table class = \"data-frame\" style = \"margin-bottom: 6px;\"><thead><tr class = \"header\"><th class = \"rowNumber\" style = \"font-weight: bold; text-align: right;\">Row</th><th style = \"text-align: left;\">customer_id</th><th style = \"text-align: left;\">customer_name</th><th style = \"text-align: left;\">gender_cd</th><th style = \"text-align: left;\">gender</th><th style = \"text-align: left;\">birth_day</th><th style = \"text-align: left;\">age</th><th style = \"text-align: left;\">postal_cd</th><th style = \"text-align: left;\">address</th><th style = \"text-align: left;\">application_store_cd</th><th style = \"text-align: left;\">application_date</th><th style = \"text-align: left;\">status_cd</th></tr><tr class = \"subheader headerLastRow\"><th class = \"rowNumber\" style = \"font-weight: bold; text-align: right;\"></th><th title = \"String15\" style = \"text-align: left;\">String15</th><th title = \"String31\" style = \"text-align: left;\">String31</th><th title = \"Int64\" style = \"text-align: left;\">Int64</th><th title = \"String7\" style = \"text-align: left;\">String7</th><th title = \"Dates.Date\" style = \"text-align: left;\">Date</th><th title = \"Int64\" style = \"text-align: left;\">Int64</th><th title = \"String15\" style = \"text-align: left;\">String15</th><th title = \"String\" style = \"text-align: left;\">String</th><th title = \"String7\" style = \"text-align: left;\">String7</th><th title = \"Int64\" style = \"text-align: left;\">Int64</th><th title = \"String15\" style = \"text-align: left;\">String15</th></tr></thead><tbody><tr><td class = \"rowNumber\" style = \"font-weight: bold; text-align: right;\">1</td><td style = \"text-align: left;\">CS035114000004</td><td style = \"text-align: left;\">大村 美里</td><td style = \"text-align: right;\">1</td><td style = \"text-align: left;\">女性</td><td style = \"text-align: left;\">2007-11-25</td><td style = \"text-align: right;\">11</td><td style = \"text-align: left;\">156-0053</td><td style = \"text-align: left;\">東京都世田谷区桜**********</td><td style = \"text-align: left;\">S13035</td><td style = \"text-align: right;\">20150619</td><td style = \"text-align: left;\">6-20091205-6</td></tr><tr><td class = \"rowNumber\" style = \"font-weight: bold; text-align: right;\">2</td><td style = \"text-align: left;\">CS022103000002</td><td style = \"text-align: left;\">福山 はじめ</td><td style = \"text-align: right;\">9</td><td style = \"text-align: left;\">不明</td><td style = \"text-align: left;\">2007-10-02</td><td style = \"text-align: right;\">11</td><td style = \"text-align: left;\">249-0006</td><td style = \"text-align: left;\">神奈川県逗子市逗子**********</td><td style = \"text-align: left;\">S14022</td><td style = \"text-align: right;\">20160909</td><td style = \"text-align: left;\">0-00000000-0</td></tr><tr><td class = \"rowNumber\" style = \"font-weight: bold; text-align: right;\">3</td><td style = \"text-align: left;\">CS002113000009</td><td style = \"text-align: left;\">柴田 真悠子</td><td style = \"text-align: right;\">1</td><td style = \"text-align: left;\">女性</td><td style = \"text-align: left;\">2007-09-17</td><td style = \"text-align: right;\">11</td><td style = \"text-align: left;\">184-0014</td><td style = \"text-align: left;\">東京都小金井市貫井南町**********</td><td style = \"text-align: left;\">S13002</td><td style = \"text-align: right;\">20160304</td><td style = \"text-align: left;\">0-00000000-0</td></tr><tr><td class = \"rowNumber\" style = \"font-weight: bold; text-align: right;\">4</td><td style = \"text-align: left;\">CS004115000014</td><td style = \"text-align: left;\">松井 京子</td><td style = \"text-align: right;\">1</td><td style = \"text-align: left;\">女性</td><td style = \"text-align: left;\">2007-08-09</td><td style = \"text-align: right;\">11</td><td style = \"text-align: left;\">165-0031</td><td style = \"text-align: left;\">東京都中野区上鷺宮**********</td><td style = \"text-align: left;\">S13004</td><td style = \"text-align: right;\">20161120</td><td style = \"text-align: left;\">1-20081231-1</td></tr><tr><td class = \"rowNumber\" style = \"font-weight: bold; text-align: right;\">5</td><td style = \"text-align: left;\">CS002114000010</td><td style = \"text-align: left;\">山内 遥</td><td style = \"text-align: right;\">1</td><td style = \"text-align: left;\">女性</td><td style = \"text-align: left;\">2007-06-03</td><td style = \"text-align: right;\">11</td><td style = \"text-align: left;\">184-0015</td><td style = \"text-align: left;\">東京都小金井市貫井北町**********</td><td style = \"text-align: left;\">S13002</td><td style = \"text-align: right;\">20160920</td><td style = \"text-align: left;\">6-20100510-1</td></tr><tr><td class = \"rowNumber\" style = \"font-weight: bold; text-align: right;\">6</td><td style = \"text-align: left;\">CS025115000002</td><td style = \"text-align: left;\">小柳 夏希</td><td style = \"text-align: right;\">1</td><td style = \"text-align: left;\">女性</td><td style = \"text-align: left;\">2007-04-18</td><td style = \"text-align: right;\">11</td><td style = \"text-align: left;\">245-0018</td><td style = \"text-align: left;\">神奈川県横浜市泉区上飯田町**********</td><td style = \"text-align: left;\">S14025</td><td style = \"text-align: right;\">20160116</td><td style = \"text-align: left;\">D-20100913-D</td></tr><tr><td class = \"rowNumber\" style = \"font-weight: bold; text-align: right;\">7</td><td style = \"text-align: left;\">CS002113000025</td><td style = \"text-align: left;\">広末 まなみ</td><td style = \"text-align: right;\">1</td><td style = \"text-align: left;\">女性</td><td style = \"text-align: left;\">2007-03-30</td><td style = \"text-align: right;\">12</td><td style = \"text-align: left;\">184-0015</td><td style = \"text-align: left;\">東京都小金井市貫井北町**********</td><td style = \"text-align: left;\">S13002</td><td style = \"text-align: right;\">20171030</td><td style = \"text-align: left;\">0-00000000-0</td></tr><tr><td class = \"rowNumber\" style = \"font-weight: bold; text-align: right;\">8</td><td style = \"text-align: left;\">CS033112000003</td><td style = \"text-align: left;\">長野 美紀</td><td style = \"text-align: right;\">1</td><td style = \"text-align: left;\">女性</td><td style = \"text-align: left;\">2007-03-22</td><td style = \"text-align: right;\">12</td><td style = \"text-align: left;\">245-0051</td><td style = \"text-align: left;\">神奈川県横浜市戸塚区名瀬町**********</td><td style = \"text-align: left;\">S14033</td><td style = \"text-align: right;\">20150606</td><td style = \"text-align: left;\">0-00000000-0</td></tr><tr><td class = \"rowNumber\" style = \"font-weight: bold; text-align: right;\">9</td><td style = \"text-align: left;\">CS007115000006</td><td style = \"text-align: left;\">福岡 瞬</td><td style = \"text-align: right;\">1</td><td style = \"text-align: left;\">女性</td><td style = \"text-align: left;\">2007-03-10</td><td style = \"text-align: right;\">12</td><td style = \"text-align: left;\">285-0845</td><td style = \"text-align: left;\">千葉県佐倉市西志津**********</td><td style = \"text-align: left;\">S12007</td><td style = \"text-align: right;\">20151118</td><td style = \"text-align: left;\">F-20101016-F</td></tr><tr><td class = \"rowNumber\" style = \"font-weight: bold; text-align: right;\">10</td><td style = \"text-align: left;\">CS014113000008</td><td style = \"text-align: left;\">矢口 莉緒</td><td style = \"text-align: right;\">1</td><td style = \"text-align: left;\">女性</td><td style = \"text-align: left;\">2007-03-05</td><td style = \"text-align: right;\">12</td><td style = \"text-align: left;\">260-0041</td><td style = \"text-align: left;\">千葉県千葉市中央区東千葉**********</td><td style = \"text-align: left;\">S12014</td><td style = \"text-align: right;\">20150622</td><td style = \"text-align: left;\">3-20091108-6</td></tr></tbody></table></div>"
      ],
      "text/latex": [
       "\\begin{tabular}{r|ccccccccccc}\n",
       "\t& customer\\_id & customer\\_name & gender\\_cd & gender & birth\\_day & age & postal\\_cd & address & application\\_store\\_cd & application\\_date & status\\_cd\\\\\n",
       "\t\\hline\n",
       "\t& String15 & String31 & Int64 & String7 & Date & Int64 & String15 & String & String7 & Int64 & String15\\\\\n",
       "\t\\hline\n",
       "\t1 & CS035114000004 & 大村 美里 & 1 & 女性 & 2007-11-25 & 11 & 156-0053 & 東京都世田谷区桜********** & S13035 & 20150619 & 6-20091205-6 \\\\\n",
       "\t2 & CS022103000002 & 福山 はじめ & 9 & 不明 & 2007-10-02 & 11 & 249-0006 & 神奈川県逗子市逗子********** & S14022 & 20160909 & 0-00000000-0 \\\\\n",
       "\t3 & CS002113000009 & 柴田 真悠子 & 1 & 女性 & 2007-09-17 & 11 & 184-0014 & 東京都小金井市貫井南町********** & S13002 & 20160304 & 0-00000000-0 \\\\\n",
       "\t4 & CS004115000014 & 松井 京子 & 1 & 女性 & 2007-08-09 & 11 & 165-0031 & 東京都中野区上鷺宮********** & S13004 & 20161120 & 1-20081231-1 \\\\\n",
       "\t5 & CS002114000010 & 山内 遥 & 1 & 女性 & 2007-06-03 & 11 & 184-0015 & 東京都小金井市貫井北町********** & S13002 & 20160920 & 6-20100510-1 \\\\\n",
       "\t6 & CS025115000002 & 小柳 夏希 & 1 & 女性 & 2007-04-18 & 11 & 245-0018 & 神奈川県横浜市泉区上飯田町********** & S14025 & 20160116 & D-20100913-D \\\\\n",
       "\t7 & CS002113000025 & 広末 まなみ & 1 & 女性 & 2007-03-30 & 12 & 184-0015 & 東京都小金井市貫井北町********** & S13002 & 20171030 & 0-00000000-0 \\\\\n",
       "\t8 & CS033112000003 & 長野 美紀 & 1 & 女性 & 2007-03-22 & 12 & 245-0051 & 神奈川県横浜市戸塚区名瀬町********** & S14033 & 20150606 & 0-00000000-0 \\\\\n",
       "\t9 & CS007115000006 & 福岡 瞬 & 1 & 女性 & 2007-03-10 & 12 & 285-0845 & 千葉県佐倉市西志津********** & S12007 & 20151118 & F-20101016-F \\\\\n",
       "\t10 & CS014113000008 & 矢口 莉緒 & 1 & 女性 & 2007-03-05 & 12 & 260-0041 & 千葉県千葉市中央区東千葉********** & S12014 & 20150622 & 3-20091108-6 \\\\\n",
       "\\end{tabular}\n"
      ],
      "text/plain": [
       "\u001b[1m10×11 DataFrame\u001b[0m\n",
       "\u001b[1m Row \u001b[0m│\u001b[1m customer_id    \u001b[0m\u001b[1m customer_name \u001b[0m\u001b[1m gender_cd \u001b[0m\u001b[1m gender  \u001b[0m\u001b[1m birth_day  \u001b[0m\u001b[1m age   \u001b[0m\u001b[1m postal_cd \u001b[0m\u001b[1m address                           \u001b[0m\u001b[1m application_store_cd \u001b[0m\u001b[1m application_date \u001b[0m\u001b[1m status_cd    \u001b[0m\n",
       "     │\u001b[90m String15       \u001b[0m\u001b[90m String31      \u001b[0m\u001b[90m Int64     \u001b[0m\u001b[90m String7 \u001b[0m\u001b[90m Date       \u001b[0m\u001b[90m Int64 \u001b[0m\u001b[90m String15  \u001b[0m\u001b[90m String                            \u001b[0m\u001b[90m String7              \u001b[0m\u001b[90m Int64            \u001b[0m\u001b[90m String15     \u001b[0m\n",
       "─────┼──────────────────────────────────────────────────────────────────────────────────────────────────────────────────────────────────────────────────────────────────────────\n",
       "   1 │ CS035114000004  大村 美里              1  女性     2007-11-25     11  156-0053   東京都世田谷区桜**********         S13035                        20150619  6-20091205-6\n",
       "   2 │ CS022103000002  福山 はじめ            9  不明     2007-10-02     11  249-0006   神奈川県逗子市逗子**********       S14022                        20160909  0-00000000-0\n",
       "   3 │ CS002113000009  柴田 真悠子            1  女性     2007-09-17     11  184-0014   東京都小金井市貫井南町**********   S13002                        20160304  0-00000000-0\n",
       "   4 │ CS004115000014  松井 京子              1  女性     2007-08-09     11  165-0031   東京都中野区上鷺宮**********       S13004                        20161120  1-20081231-1\n",
       "   5 │ CS002114000010  山内 遥                1  女性     2007-06-03     11  184-0015   東京都小金井市貫井北町**********   S13002                        20160920  6-20100510-1\n",
       "   6 │ CS025115000002  小柳 夏希              1  女性     2007-04-18     11  245-0018   神奈川県横浜市泉区上飯田町******…  S14025                        20160116  D-20100913-D\n",
       "   7 │ CS002113000025  広末 まなみ            1  女性     2007-03-30     12  184-0015   東京都小金井市貫井北町**********   S13002                        20171030  0-00000000-0\n",
       "   8 │ CS033112000003  長野 美紀              1  女性     2007-03-22     12  245-0051   神奈川県横浜市戸塚区名瀬町******…  S14033                        20150606  0-00000000-0\n",
       "   9 │ CS007115000006  福岡 瞬                1  女性     2007-03-10     12  285-0845   千葉県佐倉市西志津**********       S12007                        20151118  F-20101016-F\n",
       "  10 │ CS014113000008  矢口 莉緒              1  女性     2007-03-05     12  260-0041   千葉県千葉市中央区東千葉********…  S12014                        20150622  3-20091108-6"
      ]
     },
     "execution_count": 19,
     "metadata": {},
     "output_type": "execute_result"
    }
   ],
   "source": [
    "# P-018\n",
    "@chain df_customers begin\n",
    "    sort(:birth_day, rev=true)\n",
    "    first(10)\n",
    "end"
   ]
  },
  {
   "cell_type": "code",
   "execution_count": 20,
   "id": "4c7cd784",
   "metadata": {},
   "outputs": [
    {
     "data": {
      "text/html": [
       "<div><div style = \"float: left;\"><span>10×3 DataFrame</span></div><div style = \"clear: both;\"></div></div><div class = \"data-frame\" style = \"overflow-x: scroll;\"><table class = \"data-frame\" style = \"margin-bottom: 6px;\"><thead><tr class = \"header\"><th class = \"rowNumber\" style = \"font-weight: bold; text-align: right;\">Row</th><th style = \"text-align: left;\">customer_id</th><th style = \"text-align: left;\">amount</th><th style = \"text-align: left;\">rank</th></tr><tr class = \"subheader headerLastRow\"><th class = \"rowNumber\" style = \"font-weight: bold; text-align: right;\"></th><th title = \"String15\" style = \"text-align: left;\">String15</th><th title = \"Int64\" style = \"text-align: left;\">Int64</th><th title = \"Int64\" style = \"text-align: left;\">Int64</th></tr></thead><tbody><tr><td class = \"rowNumber\" style = \"font-weight: bold; text-align: right;\">1</td><td style = \"text-align: left;\">CS011415000006</td><td style = \"text-align: right;\">10925</td><td style = \"text-align: right;\">1</td></tr><tr><td class = \"rowNumber\" style = \"font-weight: bold; text-align: right;\">2</td><td style = \"text-align: left;\">ZZ000000000000</td><td style = \"text-align: right;\">6800</td><td style = \"text-align: right;\">2</td></tr><tr><td class = \"rowNumber\" style = \"font-weight: bold; text-align: right;\">3</td><td style = \"text-align: left;\">CS028605000002</td><td style = \"text-align: right;\">5780</td><td style = \"text-align: right;\">3</td></tr><tr><td class = \"rowNumber\" style = \"font-weight: bold; text-align: right;\">4</td><td style = \"text-align: left;\">CS015515000034</td><td style = \"text-align: right;\">5480</td><td style = \"text-align: right;\">4</td></tr><tr><td class = \"rowNumber\" style = \"font-weight: bold; text-align: right;\">5</td><td style = \"text-align: left;\">ZZ000000000000</td><td style = \"text-align: right;\">5480</td><td style = \"text-align: right;\">4</td></tr><tr><td class = \"rowNumber\" style = \"font-weight: bold; text-align: right;\">6</td><td style = \"text-align: left;\">ZZ000000000000</td><td style = \"text-align: right;\">5480</td><td style = \"text-align: right;\">4</td></tr><tr><td class = \"rowNumber\" style = \"font-weight: bold; text-align: right;\">7</td><td style = \"text-align: left;\">ZZ000000000000</td><td style = \"text-align: right;\">5440</td><td style = \"text-align: right;\">7</td></tr><tr><td class = \"rowNumber\" style = \"font-weight: bold; text-align: right;\">8</td><td style = \"text-align: left;\">CS021515000089</td><td style = \"text-align: right;\">5440</td><td style = \"text-align: right;\">7</td></tr><tr><td class = \"rowNumber\" style = \"font-weight: bold; text-align: right;\">9</td><td style = \"text-align: left;\">CS015515000083</td><td style = \"text-align: right;\">5280</td><td style = \"text-align: right;\">9</td></tr><tr><td class = \"rowNumber\" style = \"font-weight: bold; text-align: right;\">10</td><td style = \"text-align: left;\">CS017414000114</td><td style = \"text-align: right;\">5280</td><td style = \"text-align: right;\">9</td></tr></tbody></table></div>"
      ],
      "text/latex": [
       "\\begin{tabular}{r|ccc}\n",
       "\t& customer\\_id & amount & rank\\\\\n",
       "\t\\hline\n",
       "\t& String15 & Int64 & Int64\\\\\n",
       "\t\\hline\n",
       "\t1 & CS011415000006 & 10925 & 1 \\\\\n",
       "\t2 & ZZ000000000000 & 6800 & 2 \\\\\n",
       "\t3 & CS028605000002 & 5780 & 3 \\\\\n",
       "\t4 & CS015515000034 & 5480 & 4 \\\\\n",
       "\t5 & ZZ000000000000 & 5480 & 4 \\\\\n",
       "\t6 & ZZ000000000000 & 5480 & 4 \\\\\n",
       "\t7 & ZZ000000000000 & 5440 & 7 \\\\\n",
       "\t8 & CS021515000089 & 5440 & 7 \\\\\n",
       "\t9 & CS015515000083 & 5280 & 9 \\\\\n",
       "\t10 & CS017414000114 & 5280 & 9 \\\\\n",
       "\\end{tabular}\n"
      ],
      "text/plain": [
       "\u001b[1m10×3 DataFrame\u001b[0m\n",
       "\u001b[1m Row \u001b[0m│\u001b[1m customer_id    \u001b[0m\u001b[1m amount \u001b[0m\u001b[1m rank  \u001b[0m\n",
       "     │\u001b[90m String15       \u001b[0m\u001b[90m Int64  \u001b[0m\u001b[90m Int64 \u001b[0m\n",
       "─────┼───────────────────────────────\n",
       "   1 │ CS011415000006   10925      1\n",
       "   2 │ ZZ000000000000    6800      2\n",
       "   3 │ CS028605000002    5780      3\n",
       "   4 │ CS015515000034    5480      4\n",
       "   5 │ ZZ000000000000    5480      4\n",
       "   6 │ ZZ000000000000    5480      4\n",
       "   7 │ ZZ000000000000    5440      7\n",
       "   8 │ CS021515000089    5440      7\n",
       "   9 │ CS015515000083    5280      9\n",
       "  10 │ CS017414000114    5280      9"
      ]
     },
     "execution_count": 20,
     "metadata": {},
     "output_type": "execute_result"
    }
   ],
   "source": [
    "# P-019\n",
    "@chain df_receipts begin\n",
    "    @transform(:rank = competerank(:amount, rev=true))\n",
    "    @select(:customer_id, :amount, :rank)\n",
    "    sort(:amount, rev=true)\n",
    "    first(10)\n",
    "end"
   ]
  },
  {
   "cell_type": "code",
   "execution_count": 21,
   "id": "eeac7b2e",
   "metadata": {},
   "outputs": [
    {
     "data": {
      "text/html": [
       "<div><div style = \"float: left;\"><span>10×3 DataFrame</span></div><div style = \"clear: both;\"></div></div><div class = \"data-frame\" style = \"overflow-x: scroll;\"><table class = \"data-frame\" style = \"margin-bottom: 6px;\"><thead><tr class = \"header\"><th class = \"rowNumber\" style = \"font-weight: bold; text-align: right;\">Row</th><th style = \"text-align: left;\">customer_id</th><th style = \"text-align: left;\">amount</th><th style = \"text-align: left;\">rank</th></tr><tr class = \"subheader headerLastRow\"><th class = \"rowNumber\" style = \"font-weight: bold; text-align: right;\"></th><th title = \"String15\" style = \"text-align: left;\">String15</th><th title = \"Int64\" style = \"text-align: left;\">Int64</th><th title = \"Int64\" style = \"text-align: left;\">Int64</th></tr></thead><tbody><tr><td class = \"rowNumber\" style = \"font-weight: bold; text-align: right;\">1</td><td style = \"text-align: left;\">CS011415000006</td><td style = \"text-align: right;\">10925</td><td style = \"text-align: right;\">1</td></tr><tr><td class = \"rowNumber\" style = \"font-weight: bold; text-align: right;\">2</td><td style = \"text-align: left;\">ZZ000000000000</td><td style = \"text-align: right;\">6800</td><td style = \"text-align: right;\">2</td></tr><tr><td class = \"rowNumber\" style = \"font-weight: bold; text-align: right;\">3</td><td style = \"text-align: left;\">CS028605000002</td><td style = \"text-align: right;\">5780</td><td style = \"text-align: right;\">3</td></tr><tr><td class = \"rowNumber\" style = \"font-weight: bold; text-align: right;\">4</td><td style = \"text-align: left;\">CS015515000034</td><td style = \"text-align: right;\">5480</td><td style = \"text-align: right;\">4</td></tr><tr><td class = \"rowNumber\" style = \"font-weight: bold; text-align: right;\">5</td><td style = \"text-align: left;\">ZZ000000000000</td><td style = \"text-align: right;\">5480</td><td style = \"text-align: right;\">5</td></tr><tr><td class = \"rowNumber\" style = \"font-weight: bold; text-align: right;\">6</td><td style = \"text-align: left;\">ZZ000000000000</td><td style = \"text-align: right;\">5480</td><td style = \"text-align: right;\">6</td></tr><tr><td class = \"rowNumber\" style = \"font-weight: bold; text-align: right;\">7</td><td style = \"text-align: left;\">ZZ000000000000</td><td style = \"text-align: right;\">5440</td><td style = \"text-align: right;\">7</td></tr><tr><td class = \"rowNumber\" style = \"font-weight: bold; text-align: right;\">8</td><td style = \"text-align: left;\">CS021515000089</td><td style = \"text-align: right;\">5440</td><td style = \"text-align: right;\">8</td></tr><tr><td class = \"rowNumber\" style = \"font-weight: bold; text-align: right;\">9</td><td style = \"text-align: left;\">CS015515000083</td><td style = \"text-align: right;\">5280</td><td style = \"text-align: right;\">9</td></tr><tr><td class = \"rowNumber\" style = \"font-weight: bold; text-align: right;\">10</td><td style = \"text-align: left;\">CS017414000114</td><td style = \"text-align: right;\">5280</td><td style = \"text-align: right;\">10</td></tr></tbody></table></div>"
      ],
      "text/latex": [
       "\\begin{tabular}{r|ccc}\n",
       "\t& customer\\_id & amount & rank\\\\\n",
       "\t\\hline\n",
       "\t& String15 & Int64 & Int64\\\\\n",
       "\t\\hline\n",
       "\t1 & CS011415000006 & 10925 & 1 \\\\\n",
       "\t2 & ZZ000000000000 & 6800 & 2 \\\\\n",
       "\t3 & CS028605000002 & 5780 & 3 \\\\\n",
       "\t4 & CS015515000034 & 5480 & 4 \\\\\n",
       "\t5 & ZZ000000000000 & 5480 & 5 \\\\\n",
       "\t6 & ZZ000000000000 & 5480 & 6 \\\\\n",
       "\t7 & ZZ000000000000 & 5440 & 7 \\\\\n",
       "\t8 & CS021515000089 & 5440 & 8 \\\\\n",
       "\t9 & CS015515000083 & 5280 & 9 \\\\\n",
       "\t10 & CS017414000114 & 5280 & 10 \\\\\n",
       "\\end{tabular}\n"
      ],
      "text/plain": [
       "\u001b[1m10×3 DataFrame\u001b[0m\n",
       "\u001b[1m Row \u001b[0m│\u001b[1m customer_id    \u001b[0m\u001b[1m amount \u001b[0m\u001b[1m rank  \u001b[0m\n",
       "     │\u001b[90m String15       \u001b[0m\u001b[90m Int64  \u001b[0m\u001b[90m Int64 \u001b[0m\n",
       "─────┼───────────────────────────────\n",
       "   1 │ CS011415000006   10925      1\n",
       "   2 │ ZZ000000000000    6800      2\n",
       "   3 │ CS028605000002    5780      3\n",
       "   4 │ CS015515000034    5480      4\n",
       "   5 │ ZZ000000000000    5480      5\n",
       "   6 │ ZZ000000000000    5480      6\n",
       "   7 │ ZZ000000000000    5440      7\n",
       "   8 │ CS021515000089    5440      8\n",
       "   9 │ CS015515000083    5280      9\n",
       "  10 │ CS017414000114    5280     10"
      ]
     },
     "execution_count": 21,
     "metadata": {},
     "output_type": "execute_result"
    }
   ],
   "source": [
    "# P-020\n",
    "@chain df_receipts begin\n",
    "    @transform(:rank = ordinalrank(:amount, rev=true))\n",
    "    @select(:customer_id, :amount, :rank)\n",
    "    @orderby(:rank)\n",
    "    first(10)\n",
    "end"
   ]
  },
  {
   "cell_type": "code",
   "execution_count": 22,
   "id": "06f886f4",
   "metadata": {},
   "outputs": [
    {
     "data": {
      "text/plain": [
       "104681"
      ]
     },
     "execution_count": 22,
     "metadata": {},
     "output_type": "execute_result"
    }
   ],
   "source": [
    "# P-021\n",
    "nrow(df_receipts)"
   ]
  },
  {
   "cell_type": "code",
   "execution_count": 23,
   "id": "958b3a78",
   "metadata": {},
   "outputs": [
    {
     "data": {
      "text/plain": [
       "8307"
      ]
     },
     "execution_count": 23,
     "metadata": {},
     "output_type": "execute_result"
    }
   ],
   "source": [
    "# P-022\n",
    "@chain df_receipts begin\n",
    "    unique(:customer_id)\n",
    "    nrow\n",
    "end"
   ]
  },
  {
   "cell_type": "code",
   "execution_count": 24,
   "id": "c672ed18",
   "metadata": {},
   "outputs": [
    {
     "data": {
      "text/html": [
       "<div><div style = \"float: left;\"><span>52×3 DataFrame</span></div><div style = \"float: right;\"><span style = \"font-style: italic;\">27 rows omitted</span></div><div style = \"clear: both;\"></div></div><div class = \"data-frame\" style = \"overflow-x: scroll;\"><table class = \"data-frame\" style = \"margin-bottom: 6px;\"><thead><tr class = \"header\"><th class = \"rowNumber\" style = \"font-weight: bold; text-align: right;\">Row</th><th style = \"text-align: left;\">store_cd</th><th style = \"text-align: left;\">amount</th><th style = \"text-align: left;\">quantity</th></tr><tr class = \"subheader headerLastRow\"><th class = \"rowNumber\" style = \"font-weight: bold; text-align: right;\"></th><th title = \"String7\" style = \"text-align: left;\">String7</th><th title = \"Int64\" style = \"text-align: left;\">Int64</th><th title = \"Int64\" style = \"text-align: left;\">Int64</th></tr></thead><tbody><tr><td class = \"rowNumber\" style = \"font-weight: bold; text-align: right;\">1</td><td style = \"text-align: left;\">S14006</td><td style = \"text-align: right;\">712839</td><td style = \"text-align: right;\">2284</td></tr><tr><td class = \"rowNumber\" style = \"font-weight: bold; text-align: right;\">2</td><td style = \"text-align: left;\">S13008</td><td style = \"text-align: right;\">809288</td><td style = \"text-align: right;\">2491</td></tr><tr><td class = \"rowNumber\" style = \"font-weight: bold; text-align: right;\">3</td><td style = \"text-align: left;\">S14028</td><td style = \"text-align: right;\">786145</td><td style = \"text-align: right;\">2458</td></tr><tr><td class = \"rowNumber\" style = \"font-weight: bold; text-align: right;\">4</td><td style = \"text-align: left;\">S14042</td><td style = \"text-align: right;\">534689</td><td style = \"text-align: right;\">1935</td></tr><tr><td class = \"rowNumber\" style = \"font-weight: bold; text-align: right;\">5</td><td style = \"text-align: left;\">S14025</td><td style = \"text-align: right;\">755581</td><td style = \"text-align: right;\">2394</td></tr><tr><td class = \"rowNumber\" style = \"font-weight: bold; text-align: right;\">6</td><td style = \"text-align: left;\">S13003</td><td style = \"text-align: right;\">764294</td><td style = \"text-align: right;\">2197</td></tr><tr><td class = \"rowNumber\" style = \"font-weight: bold; text-align: right;\">7</td><td style = \"text-align: left;\">S14024</td><td style = \"text-align: right;\">736323</td><td style = \"text-align: right;\">2417</td></tr><tr><td class = \"rowNumber\" style = \"font-weight: bold; text-align: right;\">8</td><td style = \"text-align: left;\">S14040</td><td style = \"text-align: right;\">701858</td><td style = \"text-align: right;\">2233</td></tr><tr><td class = \"rowNumber\" style = \"font-weight: bold; text-align: right;\">9</td><td style = \"text-align: left;\">S13020</td><td style = \"text-align: right;\">796383</td><td style = \"text-align: right;\">2383</td></tr><tr><td class = \"rowNumber\" style = \"font-weight: bold; text-align: right;\">10</td><td style = \"text-align: left;\">S14027</td><td style = \"text-align: right;\">714550</td><td style = \"text-align: right;\">2303</td></tr><tr><td class = \"rowNumber\" style = \"font-weight: bold; text-align: right;\">11</td><td style = \"text-align: left;\">S14021</td><td style = \"text-align: right;\">699511</td><td style = \"text-align: right;\">2231</td></tr><tr><td class = \"rowNumber\" style = \"font-weight: bold; text-align: right;\">12</td><td style = \"text-align: left;\">S13039</td><td style = \"text-align: right;\">611888</td><td style = \"text-align: right;\">1981</td></tr><tr><td class = \"rowNumber\" style = \"font-weight: bold; text-align: right;\">13</td><td style = \"text-align: left;\">S13016</td><td style = \"text-align: right;\">793773</td><td style = \"text-align: right;\">2432</td></tr><tr><td style = \"text-align: right;\">&vellip;</td><td style = \"text-align: right;\">&vellip;</td><td style = \"text-align: right;\">&vellip;</td><td style = \"text-align: right;\">&vellip;</td></tr><tr><td class = \"rowNumber\" style = \"font-weight: bold; text-align: right;\">41</td><td style = \"text-align: left;\">S13009</td><td style = \"text-align: right;\">808870</td><td style = \"text-align: right;\">2486</td></tr><tr><td class = \"rowNumber\" style = \"font-weight: bold; text-align: right;\">42</td><td style = \"text-align: left;\">S13038</td><td style = \"text-align: right;\">708884</td><td style = \"text-align: right;\">2337</td></tr><tr><td class = \"rowNumber\" style = \"font-weight: bold; text-align: right;\">43</td><td style = \"text-align: left;\">S14048</td><td style = \"text-align: right;\">234276</td><td style = \"text-align: right;\">769</td></tr><tr><td class = \"rowNumber\" style = \"font-weight: bold; text-align: right;\">44</td><td style = \"text-align: left;\">S14022</td><td style = \"text-align: right;\">651328</td><td style = \"text-align: right;\">2047</td></tr><tr><td class = \"rowNumber\" style = \"font-weight: bold; text-align: right;\">45</td><td style = \"text-align: left;\">S14033</td><td style = \"text-align: right;\">725318</td><td style = \"text-align: right;\">2282</td></tr><tr><td class = \"rowNumber\" style = \"font-weight: bold; text-align: right;\">46</td><td style = \"text-align: left;\">S14047</td><td style = \"text-align: right;\">338329</td><td style = \"text-align: right;\">1041</td></tr><tr><td class = \"rowNumber\" style = \"font-weight: bold; text-align: right;\">47</td><td style = \"text-align: left;\">S13043</td><td style = \"text-align: right;\">587895</td><td style = \"text-align: right;\">1881</td></tr><tr><td class = \"rowNumber\" style = \"font-weight: bold; text-align: right;\">48</td><td style = \"text-align: left;\">S13035</td><td style = \"text-align: right;\">715869</td><td style = \"text-align: right;\">2219</td></tr><tr><td class = \"rowNumber\" style = \"font-weight: bold; text-align: right;\">49</td><td style = \"text-align: left;\">S14050</td><td style = \"text-align: right;\">167090</td><td style = \"text-align: right;\">580</td></tr><tr><td class = \"rowNumber\" style = \"font-weight: bold; text-align: right;\">50</td><td style = \"text-align: left;\">S14049</td><td style = \"text-align: right;\">230808</td><td style = \"text-align: right;\">788</td></tr><tr><td class = \"rowNumber\" style = \"font-weight: bold; text-align: right;\">51</td><td style = \"text-align: left;\">S13051</td><td style = \"text-align: right;\">107452</td><td style = \"text-align: right;\">354</td></tr><tr><td class = \"rowNumber\" style = \"font-weight: bold; text-align: right;\">52</td><td style = \"text-align: left;\">S13052</td><td style = \"text-align: right;\">100314</td><td style = \"text-align: right;\">250</td></tr></tbody></table></div>"
      ],
      "text/latex": [
       "\\begin{tabular}{r|ccc}\n",
       "\t& store\\_cd & amount & quantity\\\\\n",
       "\t\\hline\n",
       "\t& String7 & Int64 & Int64\\\\\n",
       "\t\\hline\n",
       "\t1 & S14006 & 712839 & 2284 \\\\\n",
       "\t2 & S13008 & 809288 & 2491 \\\\\n",
       "\t3 & S14028 & 786145 & 2458 \\\\\n",
       "\t4 & S14042 & 534689 & 1935 \\\\\n",
       "\t5 & S14025 & 755581 & 2394 \\\\\n",
       "\t6 & S13003 & 764294 & 2197 \\\\\n",
       "\t7 & S14024 & 736323 & 2417 \\\\\n",
       "\t8 & S14040 & 701858 & 2233 \\\\\n",
       "\t9 & S13020 & 796383 & 2383 \\\\\n",
       "\t10 & S14027 & 714550 & 2303 \\\\\n",
       "\t11 & S14021 & 699511 & 2231 \\\\\n",
       "\t12 & S13039 & 611888 & 1981 \\\\\n",
       "\t13 & S13016 & 793773 & 2432 \\\\\n",
       "\t14 & S12014 & 725167 & 2358 \\\\\n",
       "\t15 & S13002 & 727821 & 2340 \\\\\n",
       "\t16 & S13044 & 520764 & 1729 \\\\\n",
       "\t17 & S14026 & 824537 & 2503 \\\\\n",
       "\t18 & S14034 & 653681 & 2024 \\\\\n",
       "\t19 & S13041 & 728266 & 2233 \\\\\n",
       "\t20 & S13015 & 780873 & 2248 \\\\\n",
       "\t21 & S14045 & 458484 & 1398 \\\\\n",
       "\t22 & S12029 & 794741 & 2555 \\\\\n",
       "\t23 & S13017 & 748221 & 2376 \\\\\n",
       "\t24 & S12007 & 638761 & 2099 \\\\\n",
       "\t25 & S14012 & 720600 & 2412 \\\\\n",
       "\t26 & S13019 & 827833 & 2541 \\\\\n",
       "\t27 & S14011 & 805724 & 2434 \\\\\n",
       "\t28 & S13018 & 790535 & 2562 \\\\\n",
       "\t29 & S14023 & 727630 & 2258 \\\\\n",
       "\t30 & S13004 & 779373 & 2390 \\\\\n",
       "\t$\\dots$ & $\\dots$ & $\\dots$ & $\\dots$ \\\\\n",
       "\\end{tabular}\n"
      ],
      "text/plain": [
       "\u001b[1m52×3 DataFrame\u001b[0m\n",
       "\u001b[1m Row \u001b[0m│\u001b[1m store_cd \u001b[0m\u001b[1m amount \u001b[0m\u001b[1m quantity \u001b[0m\n",
       "     │\u001b[90m String7  \u001b[0m\u001b[90m Int64  \u001b[0m\u001b[90m Int64    \u001b[0m\n",
       "─────┼────────────────────────────\n",
       "   1 │ S14006    712839      2284\n",
       "   2 │ S13008    809288      2491\n",
       "   3 │ S14028    786145      2458\n",
       "   4 │ S14042    534689      1935\n",
       "   5 │ S14025    755581      2394\n",
       "   6 │ S13003    764294      2197\n",
       "   7 │ S14024    736323      2417\n",
       "   8 │ S14040    701858      2233\n",
       "   9 │ S13020    796383      2383\n",
       "  10 │ S14027    714550      2303\n",
       "  11 │ S14021    699511      2231\n",
       "  ⋮  │    ⋮        ⋮        ⋮\n",
       "  43 │ S14048    234276       769\n",
       "  44 │ S14022    651328      2047\n",
       "  45 │ S14033    725318      2282\n",
       "  46 │ S14047    338329      1041\n",
       "  47 │ S13043    587895      1881\n",
       "  48 │ S13035    715869      2219\n",
       "  49 │ S14050    167090       580\n",
       "  50 │ S14049    230808       788\n",
       "  51 │ S13051    107452       354\n",
       "  52 │ S13052    100314       250\n",
       "\u001b[36m                   31 rows omitted\u001b[0m"
      ]
     },
     "execution_count": 24,
     "metadata": {},
     "output_type": "execute_result"
    }
   ],
   "source": [
    "# P-023\n",
    "@chain df_receipts begin\n",
    "    groupby(:store_cd)\n",
    "    @combine(:amount = sum(:amount), :quantity = sum(:quantity))\n",
    "end"
   ]
  },
  {
   "cell_type": "code",
   "execution_count": 25,
   "id": "7056ad53",
   "metadata": {},
   "outputs": [
    {
     "data": {
      "text/html": [
       "<div><div style = \"float: left;\"><span>10×2 DataFrame</span></div><div style = \"clear: both;\"></div></div><div class = \"data-frame\" style = \"overflow-x: scroll;\"><table class = \"data-frame\" style = \"margin-bottom: 6px;\"><thead><tr class = \"header\"><th class = \"rowNumber\" style = \"font-weight: bold; text-align: right;\">Row</th><th style = \"text-align: left;\">customer_id</th><th style = \"text-align: left;\">sales_ymd_last</th></tr><tr class = \"subheader headerLastRow\"><th class = \"rowNumber\" style = \"font-weight: bold; text-align: right;\"></th><th title = \"String15\" style = \"text-align: left;\">String15</th><th title = \"Int64\" style = \"text-align: left;\">Int64</th></tr></thead><tbody><tr><td class = \"rowNumber\" style = \"font-weight: bold; text-align: right;\">1</td><td style = \"text-align: left;\">CS001113000004</td><td style = \"text-align: right;\">20190308</td></tr><tr><td class = \"rowNumber\" style = \"font-weight: bold; text-align: right;\">2</td><td style = \"text-align: left;\">CS001114000005</td><td style = \"text-align: right;\">20190731</td></tr><tr><td class = \"rowNumber\" style = \"font-weight: bold; text-align: right;\">3</td><td style = \"text-align: left;\">CS001115000010</td><td style = \"text-align: right;\">20171228</td></tr><tr><td class = \"rowNumber\" style = \"font-weight: bold; text-align: right;\">4</td><td style = \"text-align: left;\">CS001205000004</td><td style = \"text-align: right;\">20190625</td></tr><tr><td class = \"rowNumber\" style = \"font-weight: bold; text-align: right;\">5</td><td style = \"text-align: left;\">CS001205000006</td><td style = \"text-align: right;\">20180207</td></tr><tr><td class = \"rowNumber\" style = \"font-weight: bold; text-align: right;\">6</td><td style = \"text-align: left;\">CS001211000025</td><td style = \"text-align: right;\">20190322</td></tr><tr><td class = \"rowNumber\" style = \"font-weight: bold; text-align: right;\">7</td><td style = \"text-align: left;\">CS001212000027</td><td style = \"text-align: right;\">20170127</td></tr><tr><td class = \"rowNumber\" style = \"font-weight: bold; text-align: right;\">8</td><td style = \"text-align: left;\">CS001212000031</td><td style = \"text-align: right;\">20180906</td></tr><tr><td class = \"rowNumber\" style = \"font-weight: bold; text-align: right;\">9</td><td style = \"text-align: left;\">CS001212000046</td><td style = \"text-align: right;\">20170811</td></tr><tr><td class = \"rowNumber\" style = \"font-weight: bold; text-align: right;\">10</td><td style = \"text-align: left;\">CS001212000070</td><td style = \"text-align: right;\">20191018</td></tr></tbody></table></div>"
      ],
      "text/latex": [
       "\\begin{tabular}{r|cc}\n",
       "\t& customer\\_id & sales\\_ymd\\_last\\\\\n",
       "\t\\hline\n",
       "\t& String15 & Int64\\\\\n",
       "\t\\hline\n",
       "\t1 & CS001113000004 & 20190308 \\\\\n",
       "\t2 & CS001114000005 & 20190731 \\\\\n",
       "\t3 & CS001115000010 & 20171228 \\\\\n",
       "\t4 & CS001205000004 & 20190625 \\\\\n",
       "\t5 & CS001205000006 & 20180207 \\\\\n",
       "\t6 & CS001211000025 & 20190322 \\\\\n",
       "\t7 & CS001212000027 & 20170127 \\\\\n",
       "\t8 & CS001212000031 & 20180906 \\\\\n",
       "\t9 & CS001212000046 & 20170811 \\\\\n",
       "\t10 & CS001212000070 & 20191018 \\\\\n",
       "\\end{tabular}\n"
      ],
      "text/plain": [
       "\u001b[1m10×2 DataFrame\u001b[0m\n",
       "\u001b[1m Row \u001b[0m│\u001b[1m customer_id    \u001b[0m\u001b[1m sales_ymd_last \u001b[0m\n",
       "     │\u001b[90m String15       \u001b[0m\u001b[90m Int64          \u001b[0m\n",
       "─────┼────────────────────────────────\n",
       "   1 │ CS001113000004        20190308\n",
       "   2 │ CS001114000005        20190731\n",
       "   3 │ CS001115000010        20171228\n",
       "   4 │ CS001205000004        20190625\n",
       "   5 │ CS001205000006        20180207\n",
       "   6 │ CS001211000025        20190322\n",
       "   7 │ CS001212000027        20170127\n",
       "   8 │ CS001212000031        20180906\n",
       "   9 │ CS001212000046        20170811\n",
       "  10 │ CS001212000070        20191018"
      ]
     },
     "execution_count": 25,
     "metadata": {},
     "output_type": "execute_result"
    }
   ],
   "source": [
    "# P-024\n",
    "@chain df_receipts begin\n",
    "    groupby(:customer_id)\n",
    "    combine(:sales_ymd => last) \n",
    "    @orderby(:customer_id)\n",
    "    first(10)\n",
    "end"
   ]
  },
  {
   "cell_type": "code",
   "execution_count": 26,
   "id": "654fa689",
   "metadata": {},
   "outputs": [
    {
     "data": {
      "text/html": [
       "<div><div style = \"float: left;\"><span>10×2 DataFrame</span></div><div style = \"clear: both;\"></div></div><div class = \"data-frame\" style = \"overflow-x: scroll;\"><table class = \"data-frame\" style = \"margin-bottom: 6px;\"><thead><tr class = \"header\"><th class = \"rowNumber\" style = \"font-weight: bold; text-align: right;\">Row</th><th style = \"text-align: left;\">customer_id</th><th style = \"text-align: left;\">sales_ymd_first</th></tr><tr class = \"subheader headerLastRow\"><th class = \"rowNumber\" style = \"font-weight: bold; text-align: right;\"></th><th title = \"String15\" style = \"text-align: left;\">String15</th><th title = \"Int64\" style = \"text-align: left;\">Int64</th></tr></thead><tbody><tr><td class = \"rowNumber\" style = \"font-weight: bold; text-align: right;\">1</td><td style = \"text-align: left;\">CS001113000004</td><td style = \"text-align: right;\">20190308</td></tr><tr><td class = \"rowNumber\" style = \"font-weight: bold; text-align: right;\">2</td><td style = \"text-align: left;\">CS001114000005</td><td style = \"text-align: right;\">20180503</td></tr><tr><td class = \"rowNumber\" style = \"font-weight: bold; text-align: right;\">3</td><td style = \"text-align: left;\">CS001115000010</td><td style = \"text-align: right;\">20190405</td></tr><tr><td class = \"rowNumber\" style = \"font-weight: bold; text-align: right;\">4</td><td style = \"text-align: left;\">CS001205000004</td><td style = \"text-align: right;\">20180821</td></tr><tr><td class = \"rowNumber\" style = \"font-weight: bold; text-align: right;\">5</td><td style = \"text-align: left;\">CS001205000006</td><td style = \"text-align: right;\">20180616</td></tr><tr><td class = \"rowNumber\" style = \"font-weight: bold; text-align: right;\">6</td><td style = \"text-align: left;\">CS001211000025</td><td style = \"text-align: right;\">20190322</td></tr><tr><td class = \"rowNumber\" style = \"font-weight: bold; text-align: right;\">7</td><td style = \"text-align: left;\">CS001212000027</td><td style = \"text-align: right;\">20170127</td></tr><tr><td class = \"rowNumber\" style = \"font-weight: bold; text-align: right;\">8</td><td style = \"text-align: left;\">CS001212000031</td><td style = \"text-align: right;\">20180906</td></tr><tr><td class = \"rowNumber\" style = \"font-weight: bold; text-align: right;\">9</td><td style = \"text-align: left;\">CS001212000046</td><td style = \"text-align: right;\">20170811</td></tr><tr><td class = \"rowNumber\" style = \"font-weight: bold; text-align: right;\">10</td><td style = \"text-align: left;\">CS001212000070</td><td style = \"text-align: right;\">20191018</td></tr></tbody></table></div>"
      ],
      "text/latex": [
       "\\begin{tabular}{r|cc}\n",
       "\t& customer\\_id & sales\\_ymd\\_first\\\\\n",
       "\t\\hline\n",
       "\t& String15 & Int64\\\\\n",
       "\t\\hline\n",
       "\t1 & CS001113000004 & 20190308 \\\\\n",
       "\t2 & CS001114000005 & 20180503 \\\\\n",
       "\t3 & CS001115000010 & 20190405 \\\\\n",
       "\t4 & CS001205000004 & 20180821 \\\\\n",
       "\t5 & CS001205000006 & 20180616 \\\\\n",
       "\t6 & CS001211000025 & 20190322 \\\\\n",
       "\t7 & CS001212000027 & 20170127 \\\\\n",
       "\t8 & CS001212000031 & 20180906 \\\\\n",
       "\t9 & CS001212000046 & 20170811 \\\\\n",
       "\t10 & CS001212000070 & 20191018 \\\\\n",
       "\\end{tabular}\n"
      ],
      "text/plain": [
       "\u001b[1m10×2 DataFrame\u001b[0m\n",
       "\u001b[1m Row \u001b[0m│\u001b[1m customer_id    \u001b[0m\u001b[1m sales_ymd_first \u001b[0m\n",
       "     │\u001b[90m String15       \u001b[0m\u001b[90m Int64           \u001b[0m\n",
       "─────┼─────────────────────────────────\n",
       "   1 │ CS001113000004         20190308\n",
       "   2 │ CS001114000005         20180503\n",
       "   3 │ CS001115000010         20190405\n",
       "   4 │ CS001205000004         20180821\n",
       "   5 │ CS001205000006         20180616\n",
       "   6 │ CS001211000025         20190322\n",
       "   7 │ CS001212000027         20170127\n",
       "   8 │ CS001212000031         20180906\n",
       "   9 │ CS001212000046         20170811\n",
       "  10 │ CS001212000070         20191018"
      ]
     },
     "execution_count": 26,
     "metadata": {},
     "output_type": "execute_result"
    }
   ],
   "source": [
    "# P-025\n",
    "@chain df_receipts begin\n",
    "    groupby(:customer_id)\n",
    "    combine(:sales_ymd => first)\n",
    "    sort(:customer_id)\n",
    "    first(10)\n",
    "end"
   ]
  }
 ],
 "metadata": {
  "@webio": {
   "lastCommId": null,
   "lastKernelId": null
  },
  "kernelspec": {
   "display_name": "Julia 1.8.0-rc3",
   "language": "julia",
   "name": "julia-1.8"
  },
  "language_info": {
   "file_extension": ".jl",
   "mimetype": "application/julia",
   "name": "julia",
   "version": "1.8.0"
  }
 },
 "nbformat": 4,
 "nbformat_minor": 5
}
